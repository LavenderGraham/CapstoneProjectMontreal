{
 "cells": [
  {
   "cell_type": "markdown",
   "metadata": {},
   "source": [
    "## Importing Libraries And Setting Working Directory"
   ]
  },
  {
   "cell_type": "code",
   "execution_count": 1,
   "metadata": {},
   "outputs": [],
   "source": [
    "import pandas as pd\n",
    "import os # use this to access your environment variables\n",
    "import requests # this will be used to call the APIs\n",
    "import numpy as np\n",
    "import time\n"
   ]
  },
  {
   "cell_type": "code",
   "execution_count": null,
   "metadata": {},
   "outputs": [],
   "source": [
    "os.chdir(\"C:/Users/Laven/Documents/Data_Analysis/Capstone_Project\")"
   ]
  },
  {
   "cell_type": "markdown",
   "metadata": {},
   "source": [
    "## Getting API Keys\n"
   ]
  },
  {
   "cell_type": "code",
   "execution_count": 17,
   "metadata": {},
   "outputs": [],
   "source": [
    "google_api_key = os.getenv('GOOGLE_PLACES_API_KEY')\n"
   ]
  },
  {
   "cell_type": "markdown",
   "metadata": {},
   "source": [
    "## Test API Call"
   ]
  },
  {
   "cell_type": "code",
   "execution_count": 10,
   "metadata": {},
   "outputs": [],
   "source": [
    "google_parameters = {\n",
    "    'query': 'restaurants in Montreal',\n",
    "    'key': google_api_key,\n",
    "    'location': '45.5088,-73.5878',\n",
    "    'radius': 30000, \n",
    "}"
   ]
  },
  {
   "cell_type": "code",
   "execution_count": 11,
   "metadata": {},
   "outputs": [],
   "source": [
    "data = []\n",
    "response = requests.get('https://maps.googleapis.com/maps/api/place/textsearch/json', params=google_parameters)\n"
   ]
  },
  {
   "cell_type": "code",
   "execution_count": 12,
   "metadata": {},
   "outputs": [],
   "source": [
    "while True:\n",
    "    if response.status_code == 200:\n",
    "        response_json = response.json()\n",
    "        results = response_json.get('results', [])\n",
    "        for place in results:\n",
    "            data.append({\n",
    "                'Name': place.get('name'),\n",
    "                'Address': place.get('formatted_address'),\n",
    "                'Latitude': place['geometry']['location']['lat'],\n",
    "                'Longitude': place['geometry']['location']['lng'],\n",
    "                'Rating': place.get('rating', 'N/A'),  # Default if not available\n",
    "                'Price Level': place.get('price_level', 'N/A')  # Default if not available\n",
    "            })\n",
    "        next_page_token = response_json.get('next_page_token')\n",
    "        if not next_page_token:\n",
    "            break\n",
    "        time.sleep(2)  # Pause before making the next request\n",
    "        google_parameters['pagetoken'] = next_page_token\n",
    "        response = requests.get('https://maps.googleapis.com/maps/api/place/textsearch/json', params=google_parameters)\n",
    "    else:\n",
    "        print(f\"Request failed with status code {response.status_code}\")\n",
    "        break\n"
   ]
  },
  {
   "cell_type": "code",
   "execution_count": 13,
   "metadata": {},
   "outputs": [],
   "source": [
    "# Convert the data into a DataFrame\n",
    "montreal_restaurants_df = pd.DataFrame(data)\n"
   ]
  },
  {
   "cell_type": "code",
   "execution_count": 14,
   "metadata": {},
   "outputs": [
    {
     "data": {
      "text/html": [
       "<div>\n",
       "<style scoped>\n",
       "    .dataframe tbody tr th:only-of-type {\n",
       "        vertical-align: middle;\n",
       "    }\n",
       "\n",
       "    .dataframe tbody tr th {\n",
       "        vertical-align: top;\n",
       "    }\n",
       "\n",
       "    .dataframe thead th {\n",
       "        text-align: right;\n",
       "    }\n",
       "</style>\n",
       "<table border=\"1\" class=\"dataframe\">\n",
       "  <thead>\n",
       "    <tr style=\"text-align: right;\">\n",
       "      <th></th>\n",
       "      <th>Name</th>\n",
       "      <th>Address</th>\n",
       "      <th>Latitude</th>\n",
       "      <th>Longitude</th>\n",
       "      <th>Rating</th>\n",
       "      <th>Price Level</th>\n",
       "    </tr>\n",
       "  </thead>\n",
       "  <tbody>\n",
       "    <tr>\n",
       "      <th>0</th>\n",
       "      <td>Montréal Plaza</td>\n",
       "      <td>6230 Rue St-Hubert, Montréal, QC H2S 2M2, Canada</td>\n",
       "      <td>45.534739</td>\n",
       "      <td>-73.600625</td>\n",
       "      <td>4.6</td>\n",
       "      <td>N/A</td>\n",
       "    </tr>\n",
       "    <tr>\n",
       "      <th>1</th>\n",
       "      <td>Île Flottante</td>\n",
       "      <td>176 Saint Viateur West Street, QC 2L3, Rue Sai...</td>\n",
       "      <td>45.523656</td>\n",
       "      <td>-73.600741</td>\n",
       "      <td>4.7</td>\n",
       "      <td>N/A</td>\n",
       "    </tr>\n",
       "    <tr>\n",
       "      <th>2</th>\n",
       "      <td>L'Express</td>\n",
       "      <td>3927 Saint Denis St, Montreal, Quebec H2W 2M4,...</td>\n",
       "      <td>45.520310</td>\n",
       "      <td>-73.574448</td>\n",
       "      <td>4.6</td>\n",
       "      <td>3</td>\n",
       "    </tr>\n",
       "    <tr>\n",
       "      <th>3</th>\n",
       "      <td>Bis Ristorante</td>\n",
       "      <td>1229 Rue de la Montagne, Montréal, QC H3G 1Z2,...</td>\n",
       "      <td>45.497750</td>\n",
       "      <td>-73.574221</td>\n",
       "      <td>4.5</td>\n",
       "      <td>3</td>\n",
       "    </tr>\n",
       "    <tr>\n",
       "      <th>4</th>\n",
       "      <td>Restaurant L'Orignal</td>\n",
       "      <td>479 Saint Alexis St, Montreal, Quebec H2Y 2N7,...</td>\n",
       "      <td>45.502709</td>\n",
       "      <td>-73.558115</td>\n",
       "      <td>4.5</td>\n",
       "      <td>3</td>\n",
       "    </tr>\n",
       "    <tr>\n",
       "      <th>5</th>\n",
       "      <td>Le Majestique Montréal</td>\n",
       "      <td>4105 St Laurent Blvd, Montreal, Quebec H2W 1Y7...</td>\n",
       "      <td>45.517519</td>\n",
       "      <td>-73.580317</td>\n",
       "      <td>4.5</td>\n",
       "      <td>2</td>\n",
       "    </tr>\n",
       "    <tr>\n",
       "      <th>6</th>\n",
       "      <td>Le Filet</td>\n",
       "      <td>219 Mont-Royal Ave W, Montreal, Quebec H2T 2T2...</td>\n",
       "      <td>45.518029</td>\n",
       "      <td>-73.588465</td>\n",
       "      <td>4.7</td>\n",
       "      <td>3</td>\n",
       "    </tr>\n",
       "    <tr>\n",
       "      <th>7</th>\n",
       "      <td>Da Vinci Restaurant / Ristorante Da Vinci</td>\n",
       "      <td>1180 Bishop St, Montreal, Quebec H3G 2E3, Canada</td>\n",
       "      <td>45.495632</td>\n",
       "      <td>-73.574708</td>\n",
       "      <td>4.4</td>\n",
       "      <td>3</td>\n",
       "    </tr>\n",
       "    <tr>\n",
       "      <th>8</th>\n",
       "      <td>Le Pois Penche</td>\n",
       "      <td>1230 Blvd. De Maisonneuve Ouest, Montreal, Que...</td>\n",
       "      <td>45.499274</td>\n",
       "      <td>-73.576232</td>\n",
       "      <td>4.4</td>\n",
       "      <td>3</td>\n",
       "    </tr>\n",
       "    <tr>\n",
       "      <th>9</th>\n",
       "      <td>Jellyfish Montreal - restaurant</td>\n",
       "      <td>626 Rue Marguerite-D'Youville, Montreal, Quebe...</td>\n",
       "      <td>45.498861</td>\n",
       "      <td>-73.554402</td>\n",
       "      <td>4.5</td>\n",
       "      <td>3</td>\n",
       "    </tr>\n",
       "    <tr>\n",
       "      <th>10</th>\n",
       "      <td>Ma Poule Mouillée</td>\n",
       "      <td>969 Rachel St E, Montreal, Quebec H2J 2J2, Canada</td>\n",
       "      <td>45.525162</td>\n",
       "      <td>-73.575245</td>\n",
       "      <td>4.6</td>\n",
       "      <td>1</td>\n",
       "    </tr>\n",
       "    <tr>\n",
       "      <th>11</th>\n",
       "      <td>Garde Manger</td>\n",
       "      <td>408 Saint Francois Xavier St, Montreal, Quebec...</td>\n",
       "      <td>45.502837</td>\n",
       "      <td>-73.555551</td>\n",
       "      <td>4.5</td>\n",
       "      <td>4</td>\n",
       "    </tr>\n",
       "    <tr>\n",
       "      <th>12</th>\n",
       "      <td>Portus 360</td>\n",
       "      <td>777 Blvd Robert-Bourassa, Montréal, QC H3C 3Z7...</td>\n",
       "      <td>45.499667</td>\n",
       "      <td>-73.562215</td>\n",
       "      <td>4.3</td>\n",
       "      <td>3</td>\n",
       "    </tr>\n",
       "    <tr>\n",
       "      <th>13</th>\n",
       "      <td>Le Serpent</td>\n",
       "      <td>257 Rue Prince, Montréal, QC H3C 2N4, Canada</td>\n",
       "      <td>45.497651</td>\n",
       "      <td>-73.557123</td>\n",
       "      <td>4.6</td>\n",
       "      <td>3</td>\n",
       "    </tr>\n",
       "    <tr>\n",
       "      <th>14</th>\n",
       "      <td>Toqué!</td>\n",
       "      <td>900 Pl. Jean-Paul-Riopelle, Montréal, QC H2Z 2...</td>\n",
       "      <td>45.502895</td>\n",
       "      <td>-73.561134</td>\n",
       "      <td>4.6</td>\n",
       "      <td>4</td>\n",
       "    </tr>\n",
       "    <tr>\n",
       "      <th>15</th>\n",
       "      <td>Modavie</td>\n",
       "      <td>1 Saint-Paul St W, Montreal, Quebec H2Y 1Y6, C...</td>\n",
       "      <td>45.505465</td>\n",
       "      <td>-73.553964</td>\n",
       "      <td>4.4</td>\n",
       "      <td>2</td>\n",
       "    </tr>\n",
       "    <tr>\n",
       "      <th>16</th>\n",
       "      <td>L’Autre Saison</td>\n",
       "      <td>2137 Crescent St, Montreal, Quebec H3G 2C1, Ca...</td>\n",
       "      <td>45.498614</td>\n",
       "      <td>-73.578233</td>\n",
       "      <td>4.1</td>\n",
       "      <td>2</td>\n",
       "    </tr>\n",
       "    <tr>\n",
       "      <th>17</th>\n",
       "      <td>Wienstein &amp; Gavino's</td>\n",
       "      <td>1434 Crescent St, Montreal, Quebec H3G 2B6, Ca...</td>\n",
       "      <td>45.497521</td>\n",
       "      <td>-73.576735</td>\n",
       "      <td>4.2</td>\n",
       "      <td>2</td>\n",
       "    </tr>\n",
       "    <tr>\n",
       "      <th>18</th>\n",
       "      <td>Restaurant Jérôme Ferrer - Europea</td>\n",
       "      <td>1065 Rue de la Montagne, Montréal, QC H3G 0B9,...</td>\n",
       "      <td>45.496598</td>\n",
       "      <td>-73.571934</td>\n",
       "      <td>4.6</td>\n",
       "      <td>4</td>\n",
       "    </tr>\n",
       "    <tr>\n",
       "      <th>19</th>\n",
       "      <td>Restaurant Solmar</td>\n",
       "      <td>111 Rue Saint-Paul E, Montréal, QC H2Y 1G7, Ca...</td>\n",
       "      <td>45.506904</td>\n",
       "      <td>-73.552960</td>\n",
       "      <td>4.2</td>\n",
       "      <td>N/A</td>\n",
       "    </tr>\n",
       "    <tr>\n",
       "      <th>20</th>\n",
       "      <td>BOUILLON BILK</td>\n",
       "      <td>1595 St Laurent Blvd, Montreal, Quebec H2X 2S9...</td>\n",
       "      <td>45.510977</td>\n",
       "      <td>-73.565863</td>\n",
       "      <td>4.8</td>\n",
       "      <td>3</td>\n",
       "    </tr>\n",
       "    <tr>\n",
       "      <th>21</th>\n",
       "      <td>Damas</td>\n",
       "      <td>1209 Ave Van Horne, Outremont, Quebec H2V 1K4,...</td>\n",
       "      <td>45.522383</td>\n",
       "      <td>-73.613056</td>\n",
       "      <td>4.7</td>\n",
       "      <td>4</td>\n",
       "    </tr>\n",
       "    <tr>\n",
       "      <th>22</th>\n",
       "      <td>Maison Boulud</td>\n",
       "      <td>1228 Sherbrooke St W, Montreal, Quebec H3G 1H6...</td>\n",
       "      <td>45.500041</td>\n",
       "      <td>-73.578082</td>\n",
       "      <td>4.5</td>\n",
       "      <td>4</td>\n",
       "    </tr>\n",
       "    <tr>\n",
       "      <th>23</th>\n",
       "      <td>Hoogan et Beaufort</td>\n",
       "      <td>4095 Rue Molson, Montréal, QC H1Y 3L1, Canada</td>\n",
       "      <td>45.542202</td>\n",
       "      <td>-73.563595</td>\n",
       "      <td>4.6</td>\n",
       "      <td>3</td>\n",
       "    </tr>\n",
       "    <tr>\n",
       "      <th>24</th>\n",
       "      <td>Les Enfants Terribles</td>\n",
       "      <td>1 Blvd Robert-Bourassa, Montréal, QC H3B 4S6, ...</td>\n",
       "      <td>45.501934</td>\n",
       "      <td>-73.568477</td>\n",
       "      <td>4.1</td>\n",
       "      <td>3</td>\n",
       "    </tr>\n",
       "    <tr>\n",
       "      <th>25</th>\n",
       "      <td>Monarque</td>\n",
       "      <td>406 Rue Saint-Jacques, Montréal, QC H2Y 1S1, C...</td>\n",
       "      <td>45.501727</td>\n",
       "      <td>-73.559884</td>\n",
       "      <td>4.6</td>\n",
       "      <td>N/A</td>\n",
       "    </tr>\n",
       "    <tr>\n",
       "      <th>26</th>\n",
       "      <td>Restaurant Bonaparte</td>\n",
       "      <td>447 Saint Francois Xavier St, Montreal, Quebec...</td>\n",
       "      <td>45.503312</td>\n",
       "      <td>-73.556185</td>\n",
       "      <td>4.6</td>\n",
       "      <td>3</td>\n",
       "    </tr>\n",
       "    <tr>\n",
       "      <th>27</th>\n",
       "      <td>Joe Beef</td>\n",
       "      <td>2491 Notre-Dame St W, Montreal, Quebec H3J 1N6...</td>\n",
       "      <td>45.483041</td>\n",
       "      <td>-73.575248</td>\n",
       "      <td>4.5</td>\n",
       "      <td>4</td>\n",
       "    </tr>\n",
       "    <tr>\n",
       "      <th>28</th>\n",
       "      <td>Foiegwa</td>\n",
       "      <td>3001 Notre-Dame St W, Montreal, Quebec H4C 1N9...</td>\n",
       "      <td>45.481226</td>\n",
       "      <td>-73.578211</td>\n",
       "      <td>4.4</td>\n",
       "      <td>3</td>\n",
       "    </tr>\n",
       "    <tr>\n",
       "      <th>29</th>\n",
       "      <td>Au Pied de Cochon</td>\n",
       "      <td>536 Av. Duluth E, Montréal, QC H2L 1A9, Canada</td>\n",
       "      <td>45.522157</td>\n",
       "      <td>-73.574461</td>\n",
       "      <td>4.5</td>\n",
       "      <td>3</td>\n",
       "    </tr>\n",
       "    <tr>\n",
       "      <th>30</th>\n",
       "      <td>Cabaret L'enfer</td>\n",
       "      <td>4094 Saint Denis St, Montreal, Quebec H2W 2M5,...</td>\n",
       "      <td>45.520956</td>\n",
       "      <td>-73.576768</td>\n",
       "      <td>4.6</td>\n",
       "      <td>N/A</td>\n",
       "    </tr>\n",
       "    <tr>\n",
       "      <th>31</th>\n",
       "      <td>Brasserie 701</td>\n",
       "      <td>701 Côte de la Place-d'Armes, Montréal, QC H2Y...</td>\n",
       "      <td>45.505418</td>\n",
       "      <td>-73.557495</td>\n",
       "      <td>4.2</td>\n",
       "      <td>3</td>\n",
       "    </tr>\n",
       "    <tr>\n",
       "      <th>32</th>\n",
       "      <td>Cadet</td>\n",
       "      <td>1431 St Laurent Blvd, Montreal, Quebec H2X 2S8...</td>\n",
       "      <td>45.510291</td>\n",
       "      <td>-73.564430</td>\n",
       "      <td>4.6</td>\n",
       "      <td>3</td>\n",
       "    </tr>\n",
       "    <tr>\n",
       "      <th>33</th>\n",
       "      <td>L'Avenue</td>\n",
       "      <td>922 Mont-Royal Ave E, Montreal, Quebec H2J 1X1...</td>\n",
       "      <td>45.526688</td>\n",
       "      <td>-73.580256</td>\n",
       "      <td>4.6</td>\n",
       "      <td>2</td>\n",
       "    </tr>\n",
       "    <tr>\n",
       "      <th>34</th>\n",
       "      <td>Restaurant Mastard</td>\n",
       "      <td>1879 Rue Bélanger, Montréal, QC H2G 1B6, Canada</td>\n",
       "      <td>45.547172</td>\n",
       "      <td>-73.602943</td>\n",
       "      <td>4.8</td>\n",
       "      <td>N/A</td>\n",
       "    </tr>\n",
       "    <tr>\n",
       "      <th>35</th>\n",
       "      <td>Stash Café</td>\n",
       "      <td>200 Saint-Paul St W, Montreal, Quebec H2Y 1Z9,...</td>\n",
       "      <td>45.502598</td>\n",
       "      <td>-73.555183</td>\n",
       "      <td>4.7</td>\n",
       "      <td>2</td>\n",
       "    </tr>\n",
       "    <tr>\n",
       "      <th>36</th>\n",
       "      <td>BARROCO</td>\n",
       "      <td>312 Saint-Paul St W, Montreal, Quebec H2Y 2A3,...</td>\n",
       "      <td>45.501405</td>\n",
       "      <td>-73.555993</td>\n",
       "      <td>4.5</td>\n",
       "      <td>3</td>\n",
       "    </tr>\n",
       "    <tr>\n",
       "      <th>37</th>\n",
       "      <td>Nora Gray</td>\n",
       "      <td>1391 Rue Saint-Jacques, Montréal, QC H3C 1H2, ...</td>\n",
       "      <td>45.493159</td>\n",
       "      <td>-73.568505</td>\n",
       "      <td>4.4</td>\n",
       "      <td>3</td>\n",
       "    </tr>\n",
       "    <tr>\n",
       "      <th>38</th>\n",
       "      <td>Holder</td>\n",
       "      <td>407 McGill St, Montreal, Quebec H2Y 2G3, Canada</td>\n",
       "      <td>45.500524</td>\n",
       "      <td>-73.557395</td>\n",
       "      <td>4.5</td>\n",
       "      <td>3</td>\n",
       "    </tr>\n",
       "    <tr>\n",
       "      <th>39</th>\n",
       "      <td>Tiradito</td>\n",
       "      <td>1076 Rue de Bleury, Montréal, QC H2Z 1N2, Canada</td>\n",
       "      <td>45.504506</td>\n",
       "      <td>-73.563433</td>\n",
       "      <td>4.5</td>\n",
       "      <td>3</td>\n",
       "    </tr>\n",
       "    <tr>\n",
       "      <th>40</th>\n",
       "      <td>Restaurant La Chronique</td>\n",
       "      <td>104 Av. Laurier O, Montréal, QC H2T 2N7, Canada</td>\n",
       "      <td>45.521648</td>\n",
       "      <td>-73.593835</td>\n",
       "      <td>4.3</td>\n",
       "      <td>2</td>\n",
       "    </tr>\n",
       "    <tr>\n",
       "      <th>41</th>\n",
       "      <td>Chez Alexandre</td>\n",
       "      <td>1454 Peel St, Montreal, Quebec H3A 1S8, Canada</td>\n",
       "      <td>45.500517</td>\n",
       "      <td>-73.574286</td>\n",
       "      <td>3.9</td>\n",
       "      <td>3</td>\n",
       "    </tr>\n",
       "    <tr>\n",
       "      <th>42</th>\n",
       "      <td>Candide</td>\n",
       "      <td>551 Rue Saint-Martin, Montréal, QC H3J 2L6, Ca...</td>\n",
       "      <td>45.489080</td>\n",
       "      <td>-73.569463</td>\n",
       "      <td>4.6</td>\n",
       "      <td>3</td>\n",
       "    </tr>\n",
       "    <tr>\n",
       "      <th>43</th>\n",
       "      <td>Tuck Shop</td>\n",
       "      <td>4662 Notre-Dame St W, Montreal, Quebec H4C 1S6...</td>\n",
       "      <td>45.473006</td>\n",
       "      <td>-73.588388</td>\n",
       "      <td>4.6</td>\n",
       "      <td>3</td>\n",
       "    </tr>\n",
       "    <tr>\n",
       "      <th>44</th>\n",
       "      <td>Restaurant Ermitage : Authentic European Cuisi...</td>\n",
       "      <td>5024 Chem. de la Côte-des-Neiges, Montréal, QC...</td>\n",
       "      <td>45.494641</td>\n",
       "      <td>-73.618569</td>\n",
       "      <td>4.8</td>\n",
       "      <td>2</td>\n",
       "    </tr>\n",
       "    <tr>\n",
       "      <th>45</th>\n",
       "      <td>Le Taj</td>\n",
       "      <td>2077 Stanley St, Montreal, Quebec H3A 1R7, Canada</td>\n",
       "      <td>45.500916</td>\n",
       "      <td>-73.576649</td>\n",
       "      <td>4.2</td>\n",
       "      <td>2</td>\n",
       "    </tr>\n",
       "    <tr>\n",
       "      <th>46</th>\n",
       "      <td>Restaurant Kamúy</td>\n",
       "      <td>1485 Jeanne-Mance St, Montreal, Quebec H2X 1Z9...</td>\n",
       "      <td>45.507866</td>\n",
       "      <td>-73.567355</td>\n",
       "      <td>4.4</td>\n",
       "      <td>N/A</td>\n",
       "    </tr>\n",
       "    <tr>\n",
       "      <th>47</th>\n",
       "      <td>Le Boulevardier Restaurant</td>\n",
       "      <td>2050 Mansfield St, Montreal, Quebec H3A 1Y9, C...</td>\n",
       "      <td>45.502498</td>\n",
       "      <td>-73.574431</td>\n",
       "      <td>4.6</td>\n",
       "      <td>N/A</td>\n",
       "    </tr>\n",
       "    <tr>\n",
       "      <th>48</th>\n",
       "      <td>Le Club Chasse et Pêche</td>\n",
       "      <td>423 Rue Saint-Claude, Montréal, QC H2Y 3B6, Ca...</td>\n",
       "      <td>45.508908</td>\n",
       "      <td>-73.552527</td>\n",
       "      <td>4.7</td>\n",
       "      <td>4</td>\n",
       "    </tr>\n",
       "    <tr>\n",
       "      <th>49</th>\n",
       "      <td>Philinos Restaurant</td>\n",
       "      <td>4806 Park Ave, Montreal, Quebec H2V 4E7, Canada</td>\n",
       "      <td>45.518183</td>\n",
       "      <td>-73.592921</td>\n",
       "      <td>4.5</td>\n",
       "      <td>2</td>\n",
       "    </tr>\n",
       "    <tr>\n",
       "      <th>50</th>\n",
       "      <td>Restaurant Graziella</td>\n",
       "      <td>116 McGill St, Montreal, Quebec H2Y 2E5, Canada</td>\n",
       "      <td>45.499519</td>\n",
       "      <td>-73.555611</td>\n",
       "      <td>4.4</td>\n",
       "      <td>3</td>\n",
       "    </tr>\n",
       "    <tr>\n",
       "      <th>51</th>\n",
       "      <td>Chez Victoire</td>\n",
       "      <td>1453 Mont-Royal Ave E, Montreal, Quebec H2J 1Z...</td>\n",
       "      <td>45.531096</td>\n",
       "      <td>-73.576525</td>\n",
       "      <td>4.5</td>\n",
       "      <td>3</td>\n",
       "    </tr>\n",
       "    <tr>\n",
       "      <th>52</th>\n",
       "      <td>Restaurant h3</td>\n",
       "      <td>340 Rue De la Gauchetière O 2e étage, Montréal...</td>\n",
       "      <td>45.503846</td>\n",
       "      <td>-73.562115</td>\n",
       "      <td>4.5</td>\n",
       "      <td>N/A</td>\n",
       "    </tr>\n",
       "    <tr>\n",
       "      <th>53</th>\n",
       "      <td>Il Bazzali</td>\n",
       "      <td>285 Rue Beaubien E, Montréal, QC H2S 1R7, Canada</td>\n",
       "      <td>45.532820</td>\n",
       "      <td>-73.606212</td>\n",
       "      <td>4.6</td>\n",
       "      <td>2</td>\n",
       "    </tr>\n",
       "    <tr>\n",
       "      <th>54</th>\n",
       "      <td>O-Thym</td>\n",
       "      <td>1112 Boul. de Maisonneuve E, Montréal, QC H2L ...</td>\n",
       "      <td>45.518373</td>\n",
       "      <td>-73.558126</td>\n",
       "      <td>4.6</td>\n",
       "      <td>3</td>\n",
       "    </tr>\n",
       "    <tr>\n",
       "      <th>55</th>\n",
       "      <td>Restaurant Da Emma</td>\n",
       "      <td>777 De la Commune St W, Montreal, Quebec H3C 1...</td>\n",
       "      <td>45.495668</td>\n",
       "      <td>-73.553161</td>\n",
       "      <td>4.5</td>\n",
       "      <td>3</td>\n",
       "    </tr>\n",
       "    <tr>\n",
       "      <th>56</th>\n",
       "      <td>Maggie Oakes</td>\n",
       "      <td>426 Pl. Jacques-Cartier, Montréal, QC H2Y 3B3,...</td>\n",
       "      <td>45.507602</td>\n",
       "      <td>-73.553077</td>\n",
       "      <td>4.2</td>\n",
       "      <td>3</td>\n",
       "    </tr>\n",
       "    <tr>\n",
       "      <th>57</th>\n",
       "      <td>Restaurant Pastel</td>\n",
       "      <td>124 McGill St, Montreal, Quebec H2Y 2E5, Canada</td>\n",
       "      <td>45.499540</td>\n",
       "      <td>-73.555859</td>\n",
       "      <td>4.7</td>\n",
       "      <td>4</td>\n",
       "    </tr>\n",
       "    <tr>\n",
       "      <th>58</th>\n",
       "      <td>Pyrénées</td>\n",
       "      <td>320 Saint-Paul St W, Montreal, Quebec H2Y 2A3,...</td>\n",
       "      <td>45.501282</td>\n",
       "      <td>-73.556112</td>\n",
       "      <td>4.4</td>\n",
       "      <td>2</td>\n",
       "    </tr>\n",
       "    <tr>\n",
       "      <th>59</th>\n",
       "      <td>Restaurant Mélisse</td>\n",
       "      <td>719 William St, Montreal, Quebec H3C 1N9, Canada</td>\n",
       "      <td>45.498230</td>\n",
       "      <td>-73.557996</td>\n",
       "      <td>4.5</td>\n",
       "      <td>2</td>\n",
       "    </tr>\n",
       "  </tbody>\n",
       "</table>\n",
       "</div>"
      ],
      "text/plain": [
       "                                                 Name  \\\n",
       "0                                      Montréal Plaza   \n",
       "1                                       Île Flottante   \n",
       "2                                           L'Express   \n",
       "3                                      Bis Ristorante   \n",
       "4                                Restaurant L'Orignal   \n",
       "5                              Le Majestique Montréal   \n",
       "6                                            Le Filet   \n",
       "7           Da Vinci Restaurant / Ristorante Da Vinci   \n",
       "8                                      Le Pois Penche   \n",
       "9                     Jellyfish Montreal - restaurant   \n",
       "10                                  Ma Poule Mouillée   \n",
       "11                                       Garde Manger   \n",
       "12                                         Portus 360   \n",
       "13                                         Le Serpent   \n",
       "14                                             Toqué!   \n",
       "15                                            Modavie   \n",
       "16                                     L’Autre Saison   \n",
       "17                               Wienstein & Gavino's   \n",
       "18                 Restaurant Jérôme Ferrer - Europea   \n",
       "19                                  Restaurant Solmar   \n",
       "20                                      BOUILLON BILK   \n",
       "21                                              Damas   \n",
       "22                                      Maison Boulud   \n",
       "23                                 Hoogan et Beaufort   \n",
       "24                              Les Enfants Terribles   \n",
       "25                                           Monarque   \n",
       "26                               Restaurant Bonaparte   \n",
       "27                                           Joe Beef   \n",
       "28                                            Foiegwa   \n",
       "29                                  Au Pied de Cochon   \n",
       "30                                    Cabaret L'enfer   \n",
       "31                                      Brasserie 701   \n",
       "32                                              Cadet   \n",
       "33                                           L'Avenue   \n",
       "34                                 Restaurant Mastard   \n",
       "35                                         Stash Café   \n",
       "36                                            BARROCO   \n",
       "37                                          Nora Gray   \n",
       "38                                             Holder   \n",
       "39                                           Tiradito   \n",
       "40                            Restaurant La Chronique   \n",
       "41                                     Chez Alexandre   \n",
       "42                                            Candide   \n",
       "43                                          Tuck Shop   \n",
       "44  Restaurant Ermitage : Authentic European Cuisi...   \n",
       "45                                             Le Taj   \n",
       "46                                   Restaurant Kamúy   \n",
       "47                         Le Boulevardier Restaurant   \n",
       "48                            Le Club Chasse et Pêche   \n",
       "49                                Philinos Restaurant   \n",
       "50                               Restaurant Graziella   \n",
       "51                                      Chez Victoire   \n",
       "52                                      Restaurant h3   \n",
       "53                                         Il Bazzali   \n",
       "54                                             O-Thym   \n",
       "55                                 Restaurant Da Emma   \n",
       "56                                       Maggie Oakes   \n",
       "57                                  Restaurant Pastel   \n",
       "58                                           Pyrénées   \n",
       "59                                 Restaurant Mélisse   \n",
       "\n",
       "                                              Address   Latitude  Longitude  \\\n",
       "0    6230 Rue St-Hubert, Montréal, QC H2S 2M2, Canada  45.534739 -73.600625   \n",
       "1   176 Saint Viateur West Street, QC 2L3, Rue Sai...  45.523656 -73.600741   \n",
       "2   3927 Saint Denis St, Montreal, Quebec H2W 2M4,...  45.520310 -73.574448   \n",
       "3   1229 Rue de la Montagne, Montréal, QC H3G 1Z2,...  45.497750 -73.574221   \n",
       "4   479 Saint Alexis St, Montreal, Quebec H2Y 2N7,...  45.502709 -73.558115   \n",
       "5   4105 St Laurent Blvd, Montreal, Quebec H2W 1Y7...  45.517519 -73.580317   \n",
       "6   219 Mont-Royal Ave W, Montreal, Quebec H2T 2T2...  45.518029 -73.588465   \n",
       "7    1180 Bishop St, Montreal, Quebec H3G 2E3, Canada  45.495632 -73.574708   \n",
       "8   1230 Blvd. De Maisonneuve Ouest, Montreal, Que...  45.499274 -73.576232   \n",
       "9   626 Rue Marguerite-D'Youville, Montreal, Quebe...  45.498861 -73.554402   \n",
       "10  969 Rachel St E, Montreal, Quebec H2J 2J2, Canada  45.525162 -73.575245   \n",
       "11  408 Saint Francois Xavier St, Montreal, Quebec...  45.502837 -73.555551   \n",
       "12  777 Blvd Robert-Bourassa, Montréal, QC H3C 3Z7...  45.499667 -73.562215   \n",
       "13       257 Rue Prince, Montréal, QC H3C 2N4, Canada  45.497651 -73.557123   \n",
       "14  900 Pl. Jean-Paul-Riopelle, Montréal, QC H2Z 2...  45.502895 -73.561134   \n",
       "15  1 Saint-Paul St W, Montreal, Quebec H2Y 1Y6, C...  45.505465 -73.553964   \n",
       "16  2137 Crescent St, Montreal, Quebec H3G 2C1, Ca...  45.498614 -73.578233   \n",
       "17  1434 Crescent St, Montreal, Quebec H3G 2B6, Ca...  45.497521 -73.576735   \n",
       "18  1065 Rue de la Montagne, Montréal, QC H3G 0B9,...  45.496598 -73.571934   \n",
       "19  111 Rue Saint-Paul E, Montréal, QC H2Y 1G7, Ca...  45.506904 -73.552960   \n",
       "20  1595 St Laurent Blvd, Montreal, Quebec H2X 2S9...  45.510977 -73.565863   \n",
       "21  1209 Ave Van Horne, Outremont, Quebec H2V 1K4,...  45.522383 -73.613056   \n",
       "22  1228 Sherbrooke St W, Montreal, Quebec H3G 1H6...  45.500041 -73.578082   \n",
       "23      4095 Rue Molson, Montréal, QC H1Y 3L1, Canada  45.542202 -73.563595   \n",
       "24  1 Blvd Robert-Bourassa, Montréal, QC H3B 4S6, ...  45.501934 -73.568477   \n",
       "25  406 Rue Saint-Jacques, Montréal, QC H2Y 1S1, C...  45.501727 -73.559884   \n",
       "26  447 Saint Francois Xavier St, Montreal, Quebec...  45.503312 -73.556185   \n",
       "27  2491 Notre-Dame St W, Montreal, Quebec H3J 1N6...  45.483041 -73.575248   \n",
       "28  3001 Notre-Dame St W, Montreal, Quebec H4C 1N9...  45.481226 -73.578211   \n",
       "29     536 Av. Duluth E, Montréal, QC H2L 1A9, Canada  45.522157 -73.574461   \n",
       "30  4094 Saint Denis St, Montreal, Quebec H2W 2M5,...  45.520956 -73.576768   \n",
       "31  701 Côte de la Place-d'Armes, Montréal, QC H2Y...  45.505418 -73.557495   \n",
       "32  1431 St Laurent Blvd, Montreal, Quebec H2X 2S8...  45.510291 -73.564430   \n",
       "33  922 Mont-Royal Ave E, Montreal, Quebec H2J 1X1...  45.526688 -73.580256   \n",
       "34    1879 Rue Bélanger, Montréal, QC H2G 1B6, Canada  45.547172 -73.602943   \n",
       "35  200 Saint-Paul St W, Montreal, Quebec H2Y 1Z9,...  45.502598 -73.555183   \n",
       "36  312 Saint-Paul St W, Montreal, Quebec H2Y 2A3,...  45.501405 -73.555993   \n",
       "37  1391 Rue Saint-Jacques, Montréal, QC H3C 1H2, ...  45.493159 -73.568505   \n",
       "38    407 McGill St, Montreal, Quebec H2Y 2G3, Canada  45.500524 -73.557395   \n",
       "39   1076 Rue de Bleury, Montréal, QC H2Z 1N2, Canada  45.504506 -73.563433   \n",
       "40    104 Av. Laurier O, Montréal, QC H2T 2N7, Canada  45.521648 -73.593835   \n",
       "41     1454 Peel St, Montreal, Quebec H3A 1S8, Canada  45.500517 -73.574286   \n",
       "42  551 Rue Saint-Martin, Montréal, QC H3J 2L6, Ca...  45.489080 -73.569463   \n",
       "43  4662 Notre-Dame St W, Montreal, Quebec H4C 1S6...  45.473006 -73.588388   \n",
       "44  5024 Chem. de la Côte-des-Neiges, Montréal, QC...  45.494641 -73.618569   \n",
       "45  2077 Stanley St, Montreal, Quebec H3A 1R7, Canada  45.500916 -73.576649   \n",
       "46  1485 Jeanne-Mance St, Montreal, Quebec H2X 1Z9...  45.507866 -73.567355   \n",
       "47  2050 Mansfield St, Montreal, Quebec H3A 1Y9, C...  45.502498 -73.574431   \n",
       "48  423 Rue Saint-Claude, Montréal, QC H2Y 3B6, Ca...  45.508908 -73.552527   \n",
       "49    4806 Park Ave, Montreal, Quebec H2V 4E7, Canada  45.518183 -73.592921   \n",
       "50    116 McGill St, Montreal, Quebec H2Y 2E5, Canada  45.499519 -73.555611   \n",
       "51  1453 Mont-Royal Ave E, Montreal, Quebec H2J 1Z...  45.531096 -73.576525   \n",
       "52  340 Rue De la Gauchetière O 2e étage, Montréal...  45.503846 -73.562115   \n",
       "53   285 Rue Beaubien E, Montréal, QC H2S 1R7, Canada  45.532820 -73.606212   \n",
       "54  1112 Boul. de Maisonneuve E, Montréal, QC H2L ...  45.518373 -73.558126   \n",
       "55  777 De la Commune St W, Montreal, Quebec H3C 1...  45.495668 -73.553161   \n",
       "56  426 Pl. Jacques-Cartier, Montréal, QC H2Y 3B3,...  45.507602 -73.553077   \n",
       "57    124 McGill St, Montreal, Quebec H2Y 2E5, Canada  45.499540 -73.555859   \n",
       "58  320 Saint-Paul St W, Montreal, Quebec H2Y 2A3,...  45.501282 -73.556112   \n",
       "59   719 William St, Montreal, Quebec H3C 1N9, Canada  45.498230 -73.557996   \n",
       "\n",
       "    Rating Price Level  \n",
       "0      4.6         N/A  \n",
       "1      4.7         N/A  \n",
       "2      4.6           3  \n",
       "3      4.5           3  \n",
       "4      4.5           3  \n",
       "5      4.5           2  \n",
       "6      4.7           3  \n",
       "7      4.4           3  \n",
       "8      4.4           3  \n",
       "9      4.5           3  \n",
       "10     4.6           1  \n",
       "11     4.5           4  \n",
       "12     4.3           3  \n",
       "13     4.6           3  \n",
       "14     4.6           4  \n",
       "15     4.4           2  \n",
       "16     4.1           2  \n",
       "17     4.2           2  \n",
       "18     4.6           4  \n",
       "19     4.2         N/A  \n",
       "20     4.8           3  \n",
       "21     4.7           4  \n",
       "22     4.5           4  \n",
       "23     4.6           3  \n",
       "24     4.1           3  \n",
       "25     4.6         N/A  \n",
       "26     4.6           3  \n",
       "27     4.5           4  \n",
       "28     4.4           3  \n",
       "29     4.5           3  \n",
       "30     4.6         N/A  \n",
       "31     4.2           3  \n",
       "32     4.6           3  \n",
       "33     4.6           2  \n",
       "34     4.8         N/A  \n",
       "35     4.7           2  \n",
       "36     4.5           3  \n",
       "37     4.4           3  \n",
       "38     4.5           3  \n",
       "39     4.5           3  \n",
       "40     4.3           2  \n",
       "41     3.9           3  \n",
       "42     4.6           3  \n",
       "43     4.6           3  \n",
       "44     4.8           2  \n",
       "45     4.2           2  \n",
       "46     4.4         N/A  \n",
       "47     4.6         N/A  \n",
       "48     4.7           4  \n",
       "49     4.5           2  \n",
       "50     4.4           3  \n",
       "51     4.5           3  \n",
       "52     4.5         N/A  \n",
       "53     4.6           2  \n",
       "54     4.6           3  \n",
       "55     4.5           3  \n",
       "56     4.2           3  \n",
       "57     4.7           4  \n",
       "58     4.4           2  \n",
       "59     4.5           2  "
      ]
     },
     "execution_count": 14,
     "metadata": {},
     "output_type": "execute_result"
    }
   ],
   "source": [
    "montreal_restaurants_df"
   ]
  },
  {
   "cell_type": "markdown",
   "metadata": {},
   "source": [
    "## Make Cut Up List Of Latitude Longitude Pairs"
   ]
  },
  {
   "cell_type": "code",
   "execution_count": 9,
   "metadata": {},
   "outputs": [],
   "source": [
    "lat_lon_list_full_montreal = pd.read_csv('lat_lon_list_full_montreal.csv')\n",
    "\n"
   ]
  },
  {
   "cell_type": "code",
   "execution_count": 10,
   "metadata": {},
   "outputs": [
    {
     "data": {
      "text/html": [
       "<div>\n",
       "<style scoped>\n",
       "    .dataframe tbody tr th:only-of-type {\n",
       "        vertical-align: middle;\n",
       "    }\n",
       "\n",
       "    .dataframe tbody tr th {\n",
       "        vertical-align: top;\n",
       "    }\n",
       "\n",
       "    .dataframe thead th {\n",
       "        text-align: right;\n",
       "    }\n",
       "</style>\n",
       "<table border=\"1\" class=\"dataframe\">\n",
       "  <thead>\n",
       "    <tr style=\"text-align: right;\">\n",
       "      <th></th>\n",
       "      <th>Latitude</th>\n",
       "      <th>Longitude</th>\n",
       "    </tr>\n",
       "  </thead>\n",
       "  <tbody>\n",
       "    <tr>\n",
       "      <th>0</th>\n",
       "      <td>45.510253</td>\n",
       "      <td>-73.556777</td>\n",
       "    </tr>\n",
       "    <tr>\n",
       "      <th>1</th>\n",
       "      <td>45.510599</td>\n",
       "      <td>-73.566925</td>\n",
       "    </tr>\n",
       "    <tr>\n",
       "      <th>2</th>\n",
       "      <td>45.513294</td>\n",
       "      <td>-73.550578</td>\n",
       "    </tr>\n",
       "    <tr>\n",
       "      <th>3</th>\n",
       "      <td>45.514339</td>\n",
       "      <td>-73.561685</td>\n",
       "    </tr>\n",
       "    <tr>\n",
       "      <th>4</th>\n",
       "      <td>45.518143</td>\n",
       "      <td>-73.568004</td>\n",
       "    </tr>\n",
       "    <tr>\n",
       "      <th>...</th>\n",
       "      <td>...</td>\n",
       "      <td>...</td>\n",
       "    </tr>\n",
       "    <tr>\n",
       "      <th>485</th>\n",
       "      <td>45.520000</td>\n",
       "      <td>-73.610000</td>\n",
       "    </tr>\n",
       "    <tr>\n",
       "      <th>486</th>\n",
       "      <td>45.520000</td>\n",
       "      <td>-73.600000</td>\n",
       "    </tr>\n",
       "    <tr>\n",
       "      <th>487</th>\n",
       "      <td>45.520000</td>\n",
       "      <td>-73.590000</td>\n",
       "    </tr>\n",
       "    <tr>\n",
       "      <th>488</th>\n",
       "      <td>45.520000</td>\n",
       "      <td>-73.580000</td>\n",
       "    </tr>\n",
       "    <tr>\n",
       "      <th>489</th>\n",
       "      <td>45.520000</td>\n",
       "      <td>-73.570000</td>\n",
       "    </tr>\n",
       "  </tbody>\n",
       "</table>\n",
       "<p>490 rows × 2 columns</p>\n",
       "</div>"
      ],
      "text/plain": [
       "      Latitude  Longitude\n",
       "0    45.510253 -73.556777\n",
       "1    45.510599 -73.566925\n",
       "2    45.513294 -73.550578\n",
       "3    45.514339 -73.561685\n",
       "4    45.518143 -73.568004\n",
       "..         ...        ...\n",
       "485  45.520000 -73.610000\n",
       "486  45.520000 -73.600000\n",
       "487  45.520000 -73.590000\n",
       "488  45.520000 -73.580000\n",
       "489  45.520000 -73.570000\n",
       "\n",
       "[490 rows x 2 columns]"
      ]
     },
     "execution_count": 10,
     "metadata": {},
     "output_type": "execute_result"
    }
   ],
   "source": [
    "lat_lon_list_full_montreal\n"
   ]
  },
  {
   "cell_type": "code",
   "execution_count": 51,
   "metadata": {},
   "outputs": [
    {
     "data": {
      "text/html": [
       "<div>\n",
       "<style scoped>\n",
       "    .dataframe tbody tr th:only-of-type {\n",
       "        vertical-align: middle;\n",
       "    }\n",
       "\n",
       "    .dataframe tbody tr th {\n",
       "        vertical-align: top;\n",
       "    }\n",
       "\n",
       "    .dataframe thead th {\n",
       "        text-align: right;\n",
       "    }\n",
       "</style>\n",
       "<table border=\"1\" class=\"dataframe\">\n",
       "  <thead>\n",
       "    <tr style=\"text-align: right;\">\n",
       "      <th></th>\n",
       "      <th>Latitude</th>\n",
       "      <th>Longitude</th>\n",
       "    </tr>\n",
       "  </thead>\n",
       "  <tbody>\n",
       "    <tr>\n",
       "      <th>0</th>\n",
       "      <td>45.510253</td>\n",
       "      <td>-73.556777</td>\n",
       "    </tr>\n",
       "    <tr>\n",
       "      <th>1</th>\n",
       "      <td>45.510599</td>\n",
       "      <td>-73.566925</td>\n",
       "    </tr>\n",
       "    <tr>\n",
       "      <th>2</th>\n",
       "      <td>45.513294</td>\n",
       "      <td>-73.550578</td>\n",
       "    </tr>\n",
       "    <tr>\n",
       "      <th>3</th>\n",
       "      <td>45.514339</td>\n",
       "      <td>-73.561685</td>\n",
       "    </tr>\n",
       "    <tr>\n",
       "      <th>4</th>\n",
       "      <td>45.518143</td>\n",
       "      <td>-73.568004</td>\n",
       "    </tr>\n",
       "    <tr>\n",
       "      <th>...</th>\n",
       "      <td>...</td>\n",
       "      <td>...</td>\n",
       "    </tr>\n",
       "    <tr>\n",
       "      <th>85</th>\n",
       "      <td>45.480208</td>\n",
       "      <td>-73.577599</td>\n",
       "    </tr>\n",
       "    <tr>\n",
       "      <th>86</th>\n",
       "      <td>45.483789</td>\n",
       "      <td>-73.575061</td>\n",
       "    </tr>\n",
       "    <tr>\n",
       "      <th>87</th>\n",
       "      <td>45.489100</td>\n",
       "      <td>-73.576560</td>\n",
       "    </tr>\n",
       "    <tr>\n",
       "      <th>88</th>\n",
       "      <td>45.519897</td>\n",
       "      <td>-73.580106</td>\n",
       "    </tr>\n",
       "    <tr>\n",
       "      <th>89</th>\n",
       "      <td>45.529326</td>\n",
       "      <td>-73.574806</td>\n",
       "    </tr>\n",
       "  </tbody>\n",
       "</table>\n",
       "<p>90 rows × 2 columns</p>\n",
       "</div>"
      ],
      "text/plain": [
       "     Latitude  Longitude\n",
       "0   45.510253 -73.556777\n",
       "1   45.510599 -73.566925\n",
       "2   45.513294 -73.550578\n",
       "3   45.514339 -73.561685\n",
       "4   45.518143 -73.568004\n",
       "..        ...        ...\n",
       "85  45.480208 -73.577599\n",
       "86  45.483789 -73.575061\n",
       "87  45.489100 -73.576560\n",
       "88  45.519897 -73.580106\n",
       "89  45.529326 -73.574806\n",
       "\n",
       "[90 rows x 2 columns]"
      ]
     },
     "execution_count": 51,
     "metadata": {},
     "output_type": "execute_result"
    }
   ],
   "source": [
    "lat_lon_list_full_montreal.head(90)"
   ]
  },
  {
   "cell_type": "code",
   "execution_count": 11,
   "metadata": {},
   "outputs": [],
   "source": [
    "lat_lon_list_full_montreal_1 = lat_lon_list_full_montreal.iloc[:10,:]\n",
    "lat_lon_list_full_montreal_2 = lat_lon_list_full_montreal.iloc[10:20,:]\n",
    "lat_lon_list_full_montreal_3 = lat_lon_list_full_montreal.iloc[20:30,:]\n",
    "lat_lon_list_full_montreal_4 = lat_lon_list_full_montreal.iloc[30:40,:]\n",
    "lat_lon_list_full_montreal_5 = lat_lon_list_full_montreal.iloc[40:50,:]\n",
    "lat_lon_list_full_montreal_6 = lat_lon_list_full_montreal.iloc[50:60,:]\n",
    "lat_lon_list_full_montreal_7 = lat_lon_list_full_montreal.iloc[60:70,:]\n",
    "lat_lon_list_full_montreal_8 = lat_lon_list_full_montreal.iloc[70:80,:]\n",
    "lat_lon_list_full_montreal_9 = lat_lon_list_full_montreal.iloc[80:90,:]\n",
    "lat_lon_list_full_montreal_10 = lat_lon_list_full_montreal.iloc[90:100,:]\n",
    "lat_lon_list_full_montreal_11 = lat_lon_list_full_montreal.iloc[100:110,:]\n",
    "lat_lon_list_full_montreal_12 = lat_lon_list_full_montreal.iloc[110:120,:]\n",
    "lat_lon_list_full_montreal_13 = lat_lon_list_full_montreal.iloc[120:130,:]\n",
    "lat_lon_list_full_montreal_14 = lat_lon_list_full_montreal.iloc[130:140,:]\n",
    "lat_lon_list_full_montreal_15 = lat_lon_list_full_montreal.iloc[140:150,:]\n",
    "lat_lon_list_full_montreal_16 = lat_lon_list_full_montreal.iloc[150:160,:]\n",
    "lat_lon_list_full_montreal_17 = lat_lon_list_full_montreal.iloc[160:170,:]\n",
    "lat_lon_list_full_montreal_18 = lat_lon_list_full_montreal.iloc[170:180,:]\n",
    "lat_lon_list_full_montreal_19 = lat_lon_list_full_montreal.iloc[180:190,:]\n",
    "lat_lon_list_full_montreal_20 = lat_lon_list_full_montreal.iloc[190:200,:]\n",
    "lat_lon_list_full_montreal_21 = lat_lon_list_full_montreal.iloc[200:210,:]\n",
    "lat_lon_list_full_montreal_22 = lat_lon_list_full_montreal.iloc[210:220,:]\n",
    "lat_lon_list_full_montreal_23 = lat_lon_list_full_montreal.iloc[220:230,:]\n",
    "lat_lon_list_full_montreal_24 = lat_lon_list_full_montreal.iloc[230:240,:]\n",
    "lat_lon_list_full_montreal_25 = lat_lon_list_full_montreal.iloc[240:250,:]\n",
    "lat_lon_list_full_montreal_26 = lat_lon_list_full_montreal.iloc[250:260,:]\n",
    "lat_lon_list_full_montreal_27 = lat_lon_list_full_montreal.iloc[260:270,:]\n",
    "lat_lon_list_full_montreal_28 = lat_lon_list_full_montreal.iloc[270:280,:]\n",
    "lat_lon_list_full_montreal_29 = lat_lon_list_full_montreal.iloc[280:290,:]\n",
    "lat_lon_list_full_montreal_30 = lat_lon_list_full_montreal.iloc[290:300,:]\n",
    "lat_lon_list_full_montreal_31 = lat_lon_list_full_montreal.iloc[300:310,:]\n",
    "lat_lon_list_full_montreal_32 = lat_lon_list_full_montreal.iloc[310:320,:]\n",
    "lat_lon_list_full_montreal_33 = lat_lon_list_full_montreal.iloc[320:330,:]\n",
    "lat_lon_list_full_montreal_34 = lat_lon_list_full_montreal.iloc[330:340,:]\n",
    "lat_lon_list_full_montreal_35 = lat_lon_list_full_montreal.iloc[340:350,:]\n",
    "lat_lon_list_full_montreal_36 = lat_lon_list_full_montreal.iloc[350:360,:]\n",
    "lat_lon_list_full_montreal_37 = lat_lon_list_full_montreal.iloc[360:370,:]\n",
    "lat_lon_list_full_montreal_38 = lat_lon_list_full_montreal.iloc[370:380,:]\n",
    "lat_lon_list_full_montreal_39 = lat_lon_list_full_montreal.iloc[380:390,:]\n",
    "lat_lon_list_full_montreal_40 = lat_lon_list_full_montreal.iloc[390:400,:]\n",
    "lat_lon_list_full_montreal_41 = lat_lon_list_full_montreal.iloc[400:410,:]\n",
    "lat_lon_list_full_montreal_42 = lat_lon_list_full_montreal.iloc[410:420,:]\n",
    "lat_lon_list_full_montreal_43 = lat_lon_list_full_montreal.iloc[420:430,:]\n",
    "lat_lon_list_full_montreal_44 = lat_lon_list_full_montreal.iloc[430:440,:]\n",
    "lat_lon_list_full_montreal_45 = lat_lon_list_full_montreal.iloc[440:450,:]\n",
    "lat_lon_list_full_montreal_46 = lat_lon_list_full_montreal.iloc[450:460,:]\n",
    "lat_lon_list_full_montreal_47 = lat_lon_list_full_montreal.iloc[460:470,:]\n",
    "lat_lon_list_full_montreal_48 = lat_lon_list_full_montreal.iloc[470:480,:]\n",
    "lat_lon_list_full_montreal_49 = lat_lon_list_full_montreal.iloc[480:490,:]\n",
    "\n"
   ]
  },
  {
   "cell_type": "code",
   "execution_count": 12,
   "metadata": {},
   "outputs": [
    {
     "data": {
      "text/html": [
       "<div>\n",
       "<style scoped>\n",
       "    .dataframe tbody tr th:only-of-type {\n",
       "        vertical-align: middle;\n",
       "    }\n",
       "\n",
       "    .dataframe tbody tr th {\n",
       "        vertical-align: top;\n",
       "    }\n",
       "\n",
       "    .dataframe thead th {\n",
       "        text-align: right;\n",
       "    }\n",
       "</style>\n",
       "<table border=\"1\" class=\"dataframe\">\n",
       "  <thead>\n",
       "    <tr style=\"text-align: right;\">\n",
       "      <th></th>\n",
       "      <th>Latitude</th>\n",
       "      <th>Longitude</th>\n",
       "    </tr>\n",
       "  </thead>\n",
       "  <tbody>\n",
       "    <tr>\n",
       "      <th>0</th>\n",
       "      <td>45.510253</td>\n",
       "      <td>-73.556777</td>\n",
       "    </tr>\n",
       "    <tr>\n",
       "      <th>1</th>\n",
       "      <td>45.510599</td>\n",
       "      <td>-73.566925</td>\n",
       "    </tr>\n",
       "    <tr>\n",
       "      <th>2</th>\n",
       "      <td>45.513294</td>\n",
       "      <td>-73.550578</td>\n",
       "    </tr>\n",
       "    <tr>\n",
       "      <th>3</th>\n",
       "      <td>45.514339</td>\n",
       "      <td>-73.561685</td>\n",
       "    </tr>\n",
       "    <tr>\n",
       "      <th>4</th>\n",
       "      <td>45.518143</td>\n",
       "      <td>-73.568004</td>\n",
       "    </tr>\n",
       "    <tr>\n",
       "      <th>5</th>\n",
       "      <td>45.510860</td>\n",
       "      <td>-73.549830</td>\n",
       "    </tr>\n",
       "    <tr>\n",
       "      <th>6</th>\n",
       "      <td>45.507144</td>\n",
       "      <td>-73.555119</td>\n",
       "    </tr>\n",
       "    <tr>\n",
       "      <th>7</th>\n",
       "      <td>45.507610</td>\n",
       "      <td>-73.551836</td>\n",
       "    </tr>\n",
       "    <tr>\n",
       "      <th>8</th>\n",
       "      <td>45.502054</td>\n",
       "      <td>-73.573465</td>\n",
       "    </tr>\n",
       "    <tr>\n",
       "      <th>9</th>\n",
       "      <td>45.506314</td>\n",
       "      <td>-73.559671</td>\n",
       "    </tr>\n",
       "  </tbody>\n",
       "</table>\n",
       "</div>"
      ],
      "text/plain": [
       "    Latitude  Longitude\n",
       "0  45.510253 -73.556777\n",
       "1  45.510599 -73.566925\n",
       "2  45.513294 -73.550578\n",
       "3  45.514339 -73.561685\n",
       "4  45.518143 -73.568004\n",
       "5  45.510860 -73.549830\n",
       "6  45.507144 -73.555119\n",
       "7  45.507610 -73.551836\n",
       "8  45.502054 -73.573465\n",
       "9  45.506314 -73.559671"
      ]
     },
     "execution_count": 12,
     "metadata": {},
     "output_type": "execute_result"
    }
   ],
   "source": [
    "lat_lon_list_full_montreal_1\n",
    "\n"
   ]
  },
  {
   "cell_type": "code",
   "execution_count": 13,
   "metadata": {},
   "outputs": [
    {
     "data": {
      "text/html": [
       "<div>\n",
       "<style scoped>\n",
       "    .dataframe tbody tr th:only-of-type {\n",
       "        vertical-align: middle;\n",
       "    }\n",
       "\n",
       "    .dataframe tbody tr th {\n",
       "        vertical-align: top;\n",
       "    }\n",
       "\n",
       "    .dataframe thead th {\n",
       "        text-align: right;\n",
       "    }\n",
       "</style>\n",
       "<table border=\"1\" class=\"dataframe\">\n",
       "  <thead>\n",
       "    <tr style=\"text-align: right;\">\n",
       "      <th></th>\n",
       "      <th>Latitude</th>\n",
       "      <th>Longitude</th>\n",
       "    </tr>\n",
       "  </thead>\n",
       "  <tbody>\n",
       "    <tr>\n",
       "      <th>10</th>\n",
       "      <td>45.505312</td>\n",
       "      <td>-73.560891</td>\n",
       "    </tr>\n",
       "    <tr>\n",
       "      <th>11</th>\n",
       "      <td>45.504242</td>\n",
       "      <td>-73.553469</td>\n",
       "    </tr>\n",
       "    <tr>\n",
       "      <th>12</th>\n",
       "      <td>45.499965</td>\n",
       "      <td>-73.556154</td>\n",
       "    </tr>\n",
       "    <tr>\n",
       "      <th>13</th>\n",
       "      <td>45.502940</td>\n",
       "      <td>-73.560640</td>\n",
       "    </tr>\n",
       "    <tr>\n",
       "      <th>14</th>\n",
       "      <td>45.501143</td>\n",
       "      <td>-73.560773</td>\n",
       "    </tr>\n",
       "    <tr>\n",
       "      <th>15</th>\n",
       "      <td>45.500643</td>\n",
       "      <td>-73.565408</td>\n",
       "    </tr>\n",
       "    <tr>\n",
       "      <th>16</th>\n",
       "      <td>45.502060</td>\n",
       "      <td>-73.562950</td>\n",
       "    </tr>\n",
       "    <tr>\n",
       "      <th>17</th>\n",
       "      <td>45.521564</td>\n",
       "      <td>-73.570367</td>\n",
       "    </tr>\n",
       "    <tr>\n",
       "      <th>18</th>\n",
       "      <td>45.541448</td>\n",
       "      <td>-73.598394</td>\n",
       "    </tr>\n",
       "    <tr>\n",
       "      <th>19</th>\n",
       "      <td>45.498370</td>\n",
       "      <td>-73.560556</td>\n",
       "    </tr>\n",
       "  </tbody>\n",
       "</table>\n",
       "</div>"
      ],
      "text/plain": [
       "     Latitude  Longitude\n",
       "10  45.505312 -73.560891\n",
       "11  45.504242 -73.553469\n",
       "12  45.499965 -73.556154\n",
       "13  45.502940 -73.560640\n",
       "14  45.501143 -73.560773\n",
       "15  45.500643 -73.565408\n",
       "16  45.502060 -73.562950\n",
       "17  45.521564 -73.570367\n",
       "18  45.541448 -73.598394\n",
       "19  45.498370 -73.560556"
      ]
     },
     "execution_count": 13,
     "metadata": {},
     "output_type": "execute_result"
    }
   ],
   "source": [
    "lat_lon_list_full_montreal_2\n",
    "\n"
   ]
  },
  {
   "cell_type": "code",
   "execution_count": 14,
   "metadata": {},
   "outputs": [
    {
     "data": {
      "text/html": [
       "<div>\n",
       "<style scoped>\n",
       "    .dataframe tbody tr th:only-of-type {\n",
       "        vertical-align: middle;\n",
       "    }\n",
       "\n",
       "    .dataframe tbody tr th {\n",
       "        vertical-align: top;\n",
       "    }\n",
       "\n",
       "    .dataframe thead th {\n",
       "        text-align: right;\n",
       "    }\n",
       "</style>\n",
       "<table border=\"1\" class=\"dataframe\">\n",
       "  <thead>\n",
       "    <tr style=\"text-align: right;\">\n",
       "      <th></th>\n",
       "      <th>Latitude</th>\n",
       "      <th>Longitude</th>\n",
       "    </tr>\n",
       "  </thead>\n",
       "  <tbody>\n",
       "    <tr>\n",
       "      <th>20</th>\n",
       "      <td>45.497504</td>\n",
       "      <td>-73.552845</td>\n",
       "    </tr>\n",
       "    <tr>\n",
       "      <th>21</th>\n",
       "      <td>45.497796</td>\n",
       "      <td>-73.568251</td>\n",
       "    </tr>\n",
       "    <tr>\n",
       "      <th>22</th>\n",
       "      <td>45.497904</td>\n",
       "      <td>-73.570776</td>\n",
       "    </tr>\n",
       "    <tr>\n",
       "      <th>23</th>\n",
       "      <td>45.501188</td>\n",
       "      <td>-73.570455</td>\n",
       "    </tr>\n",
       "    <tr>\n",
       "      <th>24</th>\n",
       "      <td>45.498489</td>\n",
       "      <td>-73.574367</td>\n",
       "    </tr>\n",
       "    <tr>\n",
       "      <th>25</th>\n",
       "      <td>45.500380</td>\n",
       "      <td>-73.575070</td>\n",
       "    </tr>\n",
       "    <tr>\n",
       "      <th>26</th>\n",
       "      <td>45.505173</td>\n",
       "      <td>-73.570652</td>\n",
       "    </tr>\n",
       "    <tr>\n",
       "      <th>27</th>\n",
       "      <td>45.556717</td>\n",
       "      <td>-73.530250</td>\n",
       "    </tr>\n",
       "    <tr>\n",
       "      <th>28</th>\n",
       "      <td>45.504347</td>\n",
       "      <td>-73.568949</td>\n",
       "    </tr>\n",
       "    <tr>\n",
       "      <th>29</th>\n",
       "      <td>45.495722</td>\n",
       "      <td>-73.554613</td>\n",
       "    </tr>\n",
       "  </tbody>\n",
       "</table>\n",
       "</div>"
      ],
      "text/plain": [
       "     Latitude  Longitude\n",
       "20  45.497504 -73.552845\n",
       "21  45.497796 -73.568251\n",
       "22  45.497904 -73.570776\n",
       "23  45.501188 -73.570455\n",
       "24  45.498489 -73.574367\n",
       "25  45.500380 -73.575070\n",
       "26  45.505173 -73.570652\n",
       "27  45.556717 -73.530250\n",
       "28  45.504347 -73.568949\n",
       "29  45.495722 -73.554613"
      ]
     },
     "execution_count": 14,
     "metadata": {},
     "output_type": "execute_result"
    }
   ],
   "source": [
    "lat_lon_list_full_montreal_3\n",
    "\n"
   ]
  },
  {
   "cell_type": "code",
   "execution_count": 52,
   "metadata": {},
   "outputs": [
    {
     "data": {
      "text/html": [
       "<div>\n",
       "<style scoped>\n",
       "    .dataframe tbody tr th:only-of-type {\n",
       "        vertical-align: middle;\n",
       "    }\n",
       "\n",
       "    .dataframe tbody tr th {\n",
       "        vertical-align: top;\n",
       "    }\n",
       "\n",
       "    .dataframe thead th {\n",
       "        text-align: right;\n",
       "    }\n",
       "</style>\n",
       "<table border=\"1\" class=\"dataframe\">\n",
       "  <thead>\n",
       "    <tr style=\"text-align: right;\">\n",
       "      <th></th>\n",
       "      <th>Latitude</th>\n",
       "      <th>Longitude</th>\n",
       "    </tr>\n",
       "  </thead>\n",
       "  <tbody>\n",
       "    <tr>\n",
       "      <th>70</th>\n",
       "      <td>45.540060</td>\n",
       "      <td>-73.608970</td>\n",
       "    </tr>\n",
       "    <tr>\n",
       "      <th>71</th>\n",
       "      <td>45.554583</td>\n",
       "      <td>-73.596319</td>\n",
       "    </tr>\n",
       "    <tr>\n",
       "      <th>72</th>\n",
       "      <td>45.530365</td>\n",
       "      <td>-73.584393</td>\n",
       "    </tr>\n",
       "    <tr>\n",
       "      <th>73</th>\n",
       "      <td>45.545350</td>\n",
       "      <td>-73.610330</td>\n",
       "    </tr>\n",
       "    <tr>\n",
       "      <th>74</th>\n",
       "      <td>45.531921</td>\n",
       "      <td>-73.598048</td>\n",
       "    </tr>\n",
       "    <tr>\n",
       "      <th>75</th>\n",
       "      <td>45.534099</td>\n",
       "      <td>-73.595535</td>\n",
       "    </tr>\n",
       "    <tr>\n",
       "      <th>76</th>\n",
       "      <td>45.546128</td>\n",
       "      <td>-73.646504</td>\n",
       "    </tr>\n",
       "    <tr>\n",
       "      <th>77</th>\n",
       "      <td>45.537041</td>\n",
       "      <td>-73.602026</td>\n",
       "    </tr>\n",
       "    <tr>\n",
       "      <th>78</th>\n",
       "      <td>45.490476</td>\n",
       "      <td>-73.560223</td>\n",
       "    </tr>\n",
       "    <tr>\n",
       "      <th>79</th>\n",
       "      <td>45.492913</td>\n",
       "      <td>-73.564688</td>\n",
       "    </tr>\n",
       "  </tbody>\n",
       "</table>\n",
       "</div>"
      ],
      "text/plain": [
       "     Latitude  Longitude\n",
       "70  45.540060 -73.608970\n",
       "71  45.554583 -73.596319\n",
       "72  45.530365 -73.584393\n",
       "73  45.545350 -73.610330\n",
       "74  45.531921 -73.598048\n",
       "75  45.534099 -73.595535\n",
       "76  45.546128 -73.646504\n",
       "77  45.537041 -73.602026\n",
       "78  45.490476 -73.560223\n",
       "79  45.492913 -73.564688"
      ]
     },
     "execution_count": 52,
     "metadata": {},
     "output_type": "execute_result"
    }
   ],
   "source": [
    "lat_lon_list_full_montreal_8\n"
   ]
  },
  {
   "cell_type": "code",
   "execution_count": 15,
   "metadata": {},
   "outputs": [],
   "source": [
    "data = []  # This will hold data for all bars from all queries"
   ]
  },
  {
   "cell_type": "markdown",
   "metadata": {},
   "source": [
    "## Running API Call Loop.\n",
    "\n",
    "## The Loop Returns A Maximum Of 60 Results Per Call. So I'm Running It Many Times Over A List Of Latitude-Longitude Coordinate Pairs. This Will Find All The Restaurants In Montreal That Are In The Downtown Area Or The Transit Serviced Areas Covered By My Coordinate Pairs.\n",
    "\n",
    "## This Will Have Enough Redundancy That The Same Restaurants Will Be Found Many Times. The Duplicates Will Be Filtered Out"
   ]
  },
  {
   "cell_type": "code",
   "execution_count": 182,
   "metadata": {},
   "outputs": [],
   "source": [
    "# Loop through each coordinate pair\n",
    "for index, row in lat_lon_list_full_montreal_49.iterrows():\n",
    "    google_parameters = {\n",
    "        'query': 'restaurant',\n",
    "        'key': google_api_key,\n",
    "        'location': f\"{row['Latitude']},{row['Longitude']}\",\n",
    "        'radius': 1000,\n",
    "        'type': 'restaurant'\n",
    "    }\n",
    "\n",
    "    response = requests.get('https://maps.googleapis.com/maps/api/place/textsearch/json', params=google_parameters)\n",
    "\n",
    "    # Collect results for the current location\n",
    "    local_data = []\n",
    "    while True:\n",
    "        if response.status_code == 200:\n",
    "            response_json = response.json()\n",
    "            results = response_json.get('results', [])\n",
    "            for place in results:\n",
    "                local_data.append({\n",
    "                    'Name': place.get('name'),\n",
    "                    'Address': place.get('formatted_address'),\n",
    "                    'Latitude': place['geometry']['location']['lat'],\n",
    "                    'Longitude': place['geometry']['location']['lng'],\n",
    "                    'Rating': place.get('rating', 'N/A'),\n",
    "                    'Price Level': place.get('price_level', 'N/A')\n",
    "                })\n",
    "\n",
    "            # Check for a next page token and continue if present\n",
    "            next_page_token = response_json.get('next_page_token')\n",
    "            if not next_page_token:\n",
    "                break\n",
    "            time.sleep(2)\n",
    "            google_parameters['pagetoken'] = next_page_token\n",
    "            response = requests.get('https://maps.googleapis.com/maps/api/place/textsearch/json', params=google_parameters)\n",
    "        else:\n",
    "            print(f\"Request failed for {row['Latitude']},{row['Longitude']} with status code {response.status_code}\")\n",
    "            break\n",
    "    # Extend the master data list with the results from this local query\n",
    "    data.extend(local_data)\n",
    "\n",
    "    "
   ]
  },
  {
   "cell_type": "code",
   "execution_count": 19,
   "metadata": {},
   "outputs": [],
   "source": [
    "# Convert the data collected so far into a DataFrame\n",
    "restaurant_1_df = pd.DataFrame(data)"
   ]
  },
  {
   "cell_type": "code",
   "execution_count": 21,
   "metadata": {},
   "outputs": [
    {
     "data": {
      "text/html": [
       "<div>\n",
       "<style scoped>\n",
       "    .dataframe tbody tr th:only-of-type {\n",
       "        vertical-align: middle;\n",
       "    }\n",
       "\n",
       "    .dataframe tbody tr th {\n",
       "        vertical-align: top;\n",
       "    }\n",
       "\n",
       "    .dataframe thead th {\n",
       "        text-align: right;\n",
       "    }\n",
       "</style>\n",
       "<table border=\"1\" class=\"dataframe\">\n",
       "  <thead>\n",
       "    <tr style=\"text-align: right;\">\n",
       "      <th></th>\n",
       "      <th>Name</th>\n",
       "      <th>Address</th>\n",
       "      <th>Latitude</th>\n",
       "      <th>Longitude</th>\n",
       "      <th>Rating</th>\n",
       "      <th>Price Level</th>\n",
       "    </tr>\n",
       "  </thead>\n",
       "  <tbody>\n",
       "    <tr>\n",
       "      <th>0</th>\n",
       "      <td>Restaurant Branzino</td>\n",
       "      <td>50 René-Lévesque Blvd W, Montreal, Quebec H2Z 1A2</td>\n",
       "      <td>45.508147</td>\n",
       "      <td>-73.561650</td>\n",
       "      <td>3.9</td>\n",
       "      <td>N/A</td>\n",
       "    </tr>\n",
       "    <tr>\n",
       "      <th>1</th>\n",
       "      <td>Bar et Restaurant La Catrina - Vieux-Port</td>\n",
       "      <td>119 De la Commune St W, Montreal, Quebec H2Y 2C7</td>\n",
       "      <td>45.503820</td>\n",
       "      <td>-73.553983</td>\n",
       "      <td>4.1</td>\n",
       "      <td>2</td>\n",
       "    </tr>\n",
       "    <tr>\n",
       "      <th>2</th>\n",
       "      <td>COMMODORE restaurant Montréal</td>\n",
       "      <td>355 Blvd. De Maisonneuve Ouest, Montreal, Queb...</td>\n",
       "      <td>45.507151</td>\n",
       "      <td>-73.569114</td>\n",
       "      <td>3.9</td>\n",
       "      <td>N/A</td>\n",
       "    </tr>\n",
       "    <tr>\n",
       "      <th>3</th>\n",
       "      <td>Restaurant Keung Kee</td>\n",
       "      <td>70 Rue De la Gauchetière O, Montréal, QC H2Z 1C1</td>\n",
       "      <td>45.507253</td>\n",
       "      <td>-73.560407</td>\n",
       "      <td>3.9</td>\n",
       "      <td>2</td>\n",
       "    </tr>\n",
       "    <tr>\n",
       "      <th>4</th>\n",
       "      <td>Beijing Restaurant</td>\n",
       "      <td>92 Rue De la Gauchetière O, Montréal, QC H2Z 1C1</td>\n",
       "      <td>45.506930</td>\n",
       "      <td>-73.560560</td>\n",
       "      <td>4.1</td>\n",
       "      <td>2</td>\n",
       "    </tr>\n",
       "    <tr>\n",
       "      <th>...</th>\n",
       "      <td>...</td>\n",
       "      <td>...</td>\n",
       "      <td>...</td>\n",
       "      <td>...</td>\n",
       "      <td>...</td>\n",
       "      <td>...</td>\n",
       "    </tr>\n",
       "    <tr>\n",
       "      <th>595</th>\n",
       "      <td>Restaurant Il Miglio Express</td>\n",
       "      <td>111 Boulevard Robert-Bourassa, coin rue prince...</td>\n",
       "      <td>45.496884</td>\n",
       "      <td>-73.555684</td>\n",
       "      <td>4.6</td>\n",
       "      <td>N/A</td>\n",
       "    </tr>\n",
       "    <tr>\n",
       "      <th>596</th>\n",
       "      <td>Vivace Restaurant</td>\n",
       "      <td>101 Ave des Pins, Montreal, Quebec H2W 1N8</td>\n",
       "      <td>45.516080</td>\n",
       "      <td>-73.574391</td>\n",
       "      <td>5.0</td>\n",
       "      <td>N/A</td>\n",
       "    </tr>\n",
       "    <tr>\n",
       "      <th>597</th>\n",
       "      <td>Mucho Burrito Fresh Mexican Grill</td>\n",
       "      <td>150 Saint-Catherine St W, Montreal, Quebec H2X...</td>\n",
       "      <td>45.507822</td>\n",
       "      <td>-73.564413</td>\n",
       "      <td>2.9</td>\n",
       "      <td>1</td>\n",
       "    </tr>\n",
       "    <tr>\n",
       "      <th>598</th>\n",
       "      <td>Thai Express Restaurant Montréal</td>\n",
       "      <td>Edifice Le, 1000 Rue De la Gauchetière O, Mont...</td>\n",
       "      <td>45.498175</td>\n",
       "      <td>-73.566385</td>\n",
       "      <td>2.8</td>\n",
       "      <td>1</td>\n",
       "    </tr>\n",
       "    <tr>\n",
       "      <th>599</th>\n",
       "      <td>Quesada Burritos &amp; Tacos</td>\n",
       "      <td>1001 Blvd Robert-Bourassa, Montréal, QC H3B 0A7</td>\n",
       "      <td>45.501023</td>\n",
       "      <td>-73.564439</td>\n",
       "      <td>4.0</td>\n",
       "      <td>1</td>\n",
       "    </tr>\n",
       "  </tbody>\n",
       "</table>\n",
       "<p>600 rows × 6 columns</p>\n",
       "</div>"
      ],
      "text/plain": [
       "                                          Name  \\\n",
       "0                          Restaurant Branzino   \n",
       "1    Bar et Restaurant La Catrina - Vieux-Port   \n",
       "2                COMMODORE restaurant Montréal   \n",
       "3                         Restaurant Keung Kee   \n",
       "4                           Beijing Restaurant   \n",
       "..                                         ...   \n",
       "595               Restaurant Il Miglio Express   \n",
       "596                          Vivace Restaurant   \n",
       "597          Mucho Burrito Fresh Mexican Grill   \n",
       "598           Thai Express Restaurant Montréal   \n",
       "599                   Quesada Burritos & Tacos   \n",
       "\n",
       "                                               Address   Latitude  Longitude  \\\n",
       "0    50 René-Lévesque Blvd W, Montreal, Quebec H2Z 1A2  45.508147 -73.561650   \n",
       "1     119 De la Commune St W, Montreal, Quebec H2Y 2C7  45.503820 -73.553983   \n",
       "2    355 Blvd. De Maisonneuve Ouest, Montreal, Queb...  45.507151 -73.569114   \n",
       "3     70 Rue De la Gauchetière O, Montréal, QC H2Z 1C1  45.507253 -73.560407   \n",
       "4     92 Rue De la Gauchetière O, Montréal, QC H2Z 1C1  45.506930 -73.560560   \n",
       "..                                                 ...        ...        ...   \n",
       "595  111 Boulevard Robert-Bourassa, coin rue prince...  45.496884 -73.555684   \n",
       "596         101 Ave des Pins, Montreal, Quebec H2W 1N8  45.516080 -73.574391   \n",
       "597  150 Saint-Catherine St W, Montreal, Quebec H2X...  45.507822 -73.564413   \n",
       "598  Edifice Le, 1000 Rue De la Gauchetière O, Mont...  45.498175 -73.566385   \n",
       "599    1001 Blvd Robert-Bourassa, Montréal, QC H3B 0A7  45.501023 -73.564439   \n",
       "\n",
       "     Rating Price Level  \n",
       "0       3.9         N/A  \n",
       "1       4.1           2  \n",
       "2       3.9         N/A  \n",
       "3       3.9           2  \n",
       "4       4.1           2  \n",
       "..      ...         ...  \n",
       "595     4.6         N/A  \n",
       "596     5.0         N/A  \n",
       "597     2.9           1  \n",
       "598     2.8           1  \n",
       "599     4.0           1  \n",
       "\n",
       "[600 rows x 6 columns]"
      ]
     },
     "execution_count": 21,
     "metadata": {},
     "output_type": "execute_result"
    }
   ],
   "source": [
    "restaurant_1_df"
   ]
  },
  {
   "cell_type": "code",
   "execution_count": 23,
   "metadata": {},
   "outputs": [],
   "source": [
    "# Convert the data collected so far into a DataFrame\n",
    "restaurant_2_df = pd.DataFrame(data)"
   ]
  },
  {
   "cell_type": "code",
   "execution_count": 24,
   "metadata": {},
   "outputs": [
    {
     "data": {
      "text/html": [
       "<div>\n",
       "<style scoped>\n",
       "    .dataframe tbody tr th:only-of-type {\n",
       "        vertical-align: middle;\n",
       "    }\n",
       "\n",
       "    .dataframe tbody tr th {\n",
       "        vertical-align: top;\n",
       "    }\n",
       "\n",
       "    .dataframe thead th {\n",
       "        text-align: right;\n",
       "    }\n",
       "</style>\n",
       "<table border=\"1\" class=\"dataframe\">\n",
       "  <thead>\n",
       "    <tr style=\"text-align: right;\">\n",
       "      <th></th>\n",
       "      <th>Name</th>\n",
       "      <th>Address</th>\n",
       "      <th>Latitude</th>\n",
       "      <th>Longitude</th>\n",
       "      <th>Rating</th>\n",
       "      <th>Price Level</th>\n",
       "    </tr>\n",
       "  </thead>\n",
       "  <tbody>\n",
       "    <tr>\n",
       "      <th>0</th>\n",
       "      <td>Restaurant Branzino</td>\n",
       "      <td>50 René-Lévesque Blvd W, Montreal, Quebec H2Z 1A2</td>\n",
       "      <td>45.508147</td>\n",
       "      <td>-73.561650</td>\n",
       "      <td>3.9</td>\n",
       "      <td>N/A</td>\n",
       "    </tr>\n",
       "    <tr>\n",
       "      <th>1</th>\n",
       "      <td>Bar et Restaurant La Catrina - Vieux-Port</td>\n",
       "      <td>119 De la Commune St W, Montreal, Quebec H2Y 2C7</td>\n",
       "      <td>45.503820</td>\n",
       "      <td>-73.553983</td>\n",
       "      <td>4.1</td>\n",
       "      <td>2</td>\n",
       "    </tr>\n",
       "    <tr>\n",
       "      <th>2</th>\n",
       "      <td>COMMODORE restaurant Montréal</td>\n",
       "      <td>355 Blvd. De Maisonneuve Ouest, Montreal, Queb...</td>\n",
       "      <td>45.507151</td>\n",
       "      <td>-73.569114</td>\n",
       "      <td>3.9</td>\n",
       "      <td>N/A</td>\n",
       "    </tr>\n",
       "    <tr>\n",
       "      <th>3</th>\n",
       "      <td>Restaurant Keung Kee</td>\n",
       "      <td>70 Rue De la Gauchetière O, Montréal, QC H2Z 1C1</td>\n",
       "      <td>45.507253</td>\n",
       "      <td>-73.560407</td>\n",
       "      <td>3.9</td>\n",
       "      <td>2</td>\n",
       "    </tr>\n",
       "    <tr>\n",
       "      <th>4</th>\n",
       "      <td>Beijing Restaurant</td>\n",
       "      <td>92 Rue De la Gauchetière O, Montréal, QC H2Z 1C1</td>\n",
       "      <td>45.506930</td>\n",
       "      <td>-73.560560</td>\n",
       "      <td>4.1</td>\n",
       "      <td>2</td>\n",
       "    </tr>\n",
       "    <tr>\n",
       "      <th>...</th>\n",
       "      <td>...</td>\n",
       "      <td>...</td>\n",
       "      <td>...</td>\n",
       "      <td>...</td>\n",
       "      <td>...</td>\n",
       "      <td>...</td>\n",
       "    </tr>\n",
       "    <tr>\n",
       "      <th>1195</th>\n",
       "      <td>LAPAANVILLA RESTAURANT (CRESCENT)</td>\n",
       "      <td>1250 Crescent St, Montreal, Quebec H3G 2A9</td>\n",
       "      <td>45.496878</td>\n",
       "      <td>-73.575370</td>\n",
       "      <td>4.2</td>\n",
       "      <td>N/A</td>\n",
       "    </tr>\n",
       "    <tr>\n",
       "      <th>1196</th>\n",
       "      <td>Restaurant &amp; Bar Gault</td>\n",
       "      <td>449 Sainte Hélène St, Montreal, Quebec H2Y 2K9</td>\n",
       "      <td>45.501488</td>\n",
       "      <td>-73.558267</td>\n",
       "      <td>5.0</td>\n",
       "      <td>N/A</td>\n",
       "    </tr>\n",
       "    <tr>\n",
       "      <th>1197</th>\n",
       "      <td>Restaurant La Popessa</td>\n",
       "      <td>115 Rue Saint-Antoine O, Montréal, QC H2Z 1X8</td>\n",
       "      <td>45.505539</td>\n",
       "      <td>-73.558676</td>\n",
       "      <td>4.1</td>\n",
       "      <td>2</td>\n",
       "    </tr>\n",
       "    <tr>\n",
       "      <th>1198</th>\n",
       "      <td>Restaurant Graziella</td>\n",
       "      <td>116 McGill St, Montreal, Quebec H2Y 2E5</td>\n",
       "      <td>45.499519</td>\n",
       "      <td>-73.555611</td>\n",
       "      <td>4.4</td>\n",
       "      <td>3</td>\n",
       "    </tr>\n",
       "    <tr>\n",
       "      <th>1199</th>\n",
       "      <td>Restaurant Noodle Factory</td>\n",
       "      <td>1018 Rue Saint-Urbain, Montréal, QC H2Z 1K6</td>\n",
       "      <td>45.506757</td>\n",
       "      <td>-73.560760</td>\n",
       "      <td>4.4</td>\n",
       "      <td>N/A</td>\n",
       "    </tr>\n",
       "  </tbody>\n",
       "</table>\n",
       "<p>1200 rows × 6 columns</p>\n",
       "</div>"
      ],
      "text/plain": [
       "                                           Name  \\\n",
       "0                           Restaurant Branzino   \n",
       "1     Bar et Restaurant La Catrina - Vieux-Port   \n",
       "2                 COMMODORE restaurant Montréal   \n",
       "3                          Restaurant Keung Kee   \n",
       "4                            Beijing Restaurant   \n",
       "...                                         ...   \n",
       "1195          LAPAANVILLA RESTAURANT (CRESCENT)   \n",
       "1196                     Restaurant & Bar Gault   \n",
       "1197                      Restaurant La Popessa   \n",
       "1198                       Restaurant Graziella   \n",
       "1199                  Restaurant Noodle Factory   \n",
       "\n",
       "                                                Address   Latitude  Longitude  \\\n",
       "0     50 René-Lévesque Blvd W, Montreal, Quebec H2Z 1A2  45.508147 -73.561650   \n",
       "1      119 De la Commune St W, Montreal, Quebec H2Y 2C7  45.503820 -73.553983   \n",
       "2     355 Blvd. De Maisonneuve Ouest, Montreal, Queb...  45.507151 -73.569114   \n",
       "3      70 Rue De la Gauchetière O, Montréal, QC H2Z 1C1  45.507253 -73.560407   \n",
       "4      92 Rue De la Gauchetière O, Montréal, QC H2Z 1C1  45.506930 -73.560560   \n",
       "...                                                 ...        ...        ...   \n",
       "1195         1250 Crescent St, Montreal, Quebec H3G 2A9  45.496878 -73.575370   \n",
       "1196     449 Sainte Hélène St, Montreal, Quebec H2Y 2K9  45.501488 -73.558267   \n",
       "1197      115 Rue Saint-Antoine O, Montréal, QC H2Z 1X8  45.505539 -73.558676   \n",
       "1198            116 McGill St, Montreal, Quebec H2Y 2E5  45.499519 -73.555611   \n",
       "1199        1018 Rue Saint-Urbain, Montréal, QC H2Z 1K6  45.506757 -73.560760   \n",
       "\n",
       "      Rating Price Level  \n",
       "0        3.9         N/A  \n",
       "1        4.1           2  \n",
       "2        3.9         N/A  \n",
       "3        3.9           2  \n",
       "4        4.1           2  \n",
       "...      ...         ...  \n",
       "1195     4.2         N/A  \n",
       "1196     5.0         N/A  \n",
       "1197     4.1           2  \n",
       "1198     4.4           3  \n",
       "1199     4.4         N/A  \n",
       "\n",
       "[1200 rows x 6 columns]"
      ]
     },
     "execution_count": 24,
     "metadata": {},
     "output_type": "execute_result"
    }
   ],
   "source": [
    "restaurant_2_df"
   ]
  },
  {
   "cell_type": "code",
   "execution_count": 28,
   "metadata": {},
   "outputs": [],
   "source": [
    "# Convert the data collected so far into a DataFrame\n",
    "restaurant_3_df = pd.DataFrame(data)"
   ]
  },
  {
   "cell_type": "code",
   "execution_count": 32,
   "metadata": {},
   "outputs": [],
   "source": [
    "# Convert the data collected so far into a DataFrame\n",
    "restaurant_4_df = pd.DataFrame(data)"
   ]
  },
  {
   "cell_type": "code",
   "execution_count": 33,
   "metadata": {},
   "outputs": [
    {
     "data": {
      "text/plain": [
       "2400"
      ]
     },
     "execution_count": 33,
     "metadata": {},
     "output_type": "execute_result"
    }
   ],
   "source": [
    "len(restaurant_4_df)"
   ]
  },
  {
   "cell_type": "code",
   "execution_count": 35,
   "metadata": {},
   "outputs": [],
   "source": [
    "# Convert the data collected so far into a DataFrame\n",
    "restaurant_5_df = pd.DataFrame(data)"
   ]
  },
  {
   "cell_type": "code",
   "execution_count": 36,
   "metadata": {},
   "outputs": [
    {
     "data": {
      "text/plain": [
       "3000"
      ]
     },
     "execution_count": 36,
     "metadata": {},
     "output_type": "execute_result"
    }
   ],
   "source": [
    "len(restaurant_5_df)"
   ]
  },
  {
   "cell_type": "code",
   "execution_count": 38,
   "metadata": {},
   "outputs": [],
   "source": [
    "# Convert the data collected so far into a DataFrame\n",
    "restaurant_6_df = pd.DataFrame(data)"
   ]
  },
  {
   "cell_type": "code",
   "execution_count": 39,
   "metadata": {},
   "outputs": [
    {
     "data": {
      "text/plain": [
       "3600"
      ]
     },
     "execution_count": 39,
     "metadata": {},
     "output_type": "execute_result"
    }
   ],
   "source": [
    "len(restaurant_6_df)"
   ]
  },
  {
   "cell_type": "code",
   "execution_count": 42,
   "metadata": {},
   "outputs": [],
   "source": [
    "# Convert the data collected so far into a DataFrame\n",
    "restaurant_7_df = pd.DataFrame(data)"
   ]
  },
  {
   "cell_type": "code",
   "execution_count": 43,
   "metadata": {},
   "outputs": [
    {
     "data": {
      "text/plain": [
       "4260"
      ]
     },
     "execution_count": 43,
     "metadata": {},
     "output_type": "execute_result"
    }
   ],
   "source": [
    "len(restaurant_7_df)"
   ]
  },
  {
   "cell_type": "code",
   "execution_count": 47,
   "metadata": {},
   "outputs": [],
   "source": [
    "# Convert the data collected so far into a DataFrame\n",
    "restaurant_8_df = pd.DataFrame(data)"
   ]
  },
  {
   "cell_type": "code",
   "execution_count": 48,
   "metadata": {},
   "outputs": [
    {
     "data": {
      "text/plain": [
       "4860"
      ]
     },
     "execution_count": 48,
     "metadata": {},
     "output_type": "execute_result"
    }
   ],
   "source": [
    "len(restaurant_8_df)\n"
   ]
  },
  {
   "cell_type": "code",
   "execution_count": 49,
   "metadata": {},
   "outputs": [
    {
     "data": {
      "text/html": [
       "<div>\n",
       "<style scoped>\n",
       "    .dataframe tbody tr th:only-of-type {\n",
       "        vertical-align: middle;\n",
       "    }\n",
       "\n",
       "    .dataframe tbody tr th {\n",
       "        vertical-align: top;\n",
       "    }\n",
       "\n",
       "    .dataframe thead th {\n",
       "        text-align: right;\n",
       "    }\n",
       "</style>\n",
       "<table border=\"1\" class=\"dataframe\">\n",
       "  <thead>\n",
       "    <tr style=\"text-align: right;\">\n",
       "      <th></th>\n",
       "      <th>Name</th>\n",
       "      <th>Address</th>\n",
       "      <th>Latitude</th>\n",
       "      <th>Longitude</th>\n",
       "      <th>Rating</th>\n",
       "      <th>Price Level</th>\n",
       "    </tr>\n",
       "  </thead>\n",
       "  <tbody>\n",
       "    <tr>\n",
       "      <th>4760</th>\n",
       "      <td>Restaurant I AM Pho</td>\n",
       "      <td>1444 St Mathieu St, Montreal, Quebec H3H 2H9</td>\n",
       "      <td>45.494288</td>\n",
       "      <td>-73.580311</td>\n",
       "      <td>4.4</td>\n",
       "      <td>1</td>\n",
       "    </tr>\n",
       "    <tr>\n",
       "      <th>4761</th>\n",
       "      <td>Winnie's Bar Restaurant</td>\n",
       "      <td>1455 Crescent St, Montreal, Quebec H3G 2B2</td>\n",
       "      <td>45.497962</td>\n",
       "      <td>-73.576909</td>\n",
       "      <td>3.9</td>\n",
       "      <td>2</td>\n",
       "    </tr>\n",
       "    <tr>\n",
       "      <th>4762</th>\n",
       "      <td>Yama Restaurant</td>\n",
       "      <td>1415 Rue de la Montagne, Montréal, QC H3G 1Z3</td>\n",
       "      <td>45.498388</td>\n",
       "      <td>-73.575550</td>\n",
       "      <td>4.3</td>\n",
       "      <td>N/A</td>\n",
       "    </tr>\n",
       "    <tr>\n",
       "      <th>4763</th>\n",
       "      <td>Sushi by Scratch Restaurants: Montréal</td>\n",
       "      <td>Inside of STILLIFE, 640 Saint-Paul St W, Montr...</td>\n",
       "      <td>45.499355</td>\n",
       "      <td>-73.557573</td>\n",
       "      <td>4.4</td>\n",
       "      <td>N/A</td>\n",
       "    </tr>\n",
       "    <tr>\n",
       "      <th>4764</th>\n",
       "      <td>McDonald's</td>\n",
       "      <td>215 Peel St Local B123, Montreal, Quebec H3C 2G6</td>\n",
       "      <td>45.493815</td>\n",
       "      <td>-73.558303</td>\n",
       "      <td>3.2</td>\n",
       "      <td>1</td>\n",
       "    </tr>\n",
       "    <tr>\n",
       "      <th>...</th>\n",
       "      <td>...</td>\n",
       "      <td>...</td>\n",
       "      <td>...</td>\n",
       "      <td>...</td>\n",
       "      <td>...</td>\n",
       "      <td>...</td>\n",
       "    </tr>\n",
       "    <tr>\n",
       "      <th>4855</th>\n",
       "      <td>Restaurant Sauvage</td>\n",
       "      <td>52 Rue Saint-Jacques, Montréal, QC H2Y 1L2</td>\n",
       "      <td>45.505598</td>\n",
       "      <td>-73.556826</td>\n",
       "      <td>3.9</td>\n",
       "      <td>N/A</td>\n",
       "    </tr>\n",
       "    <tr>\n",
       "      <th>4856</th>\n",
       "      <td>Vargas Restaurant</td>\n",
       "      <td>690 René-Lévesque Blvd W, Montreal, Quebec H3B...</td>\n",
       "      <td>45.501517</td>\n",
       "      <td>-73.567471</td>\n",
       "      <td>4.1</td>\n",
       "      <td>3</td>\n",
       "    </tr>\n",
       "    <tr>\n",
       "      <th>4857</th>\n",
       "      <td>Candide</td>\n",
       "      <td>551 Rue Saint-Martin, Montréal, QC H3J 2L6</td>\n",
       "      <td>45.489080</td>\n",
       "      <td>-73.569463</td>\n",
       "      <td>4.6</td>\n",
       "      <td>3</td>\n",
       "    </tr>\n",
       "    <tr>\n",
       "      <th>4858</th>\n",
       "      <td>Restaurant Tbsp.</td>\n",
       "      <td>901 Rue du Square-Victoria, Montréal, QC H2Z 1R1</td>\n",
       "      <td>45.501970</td>\n",
       "      <td>-73.561869</td>\n",
       "      <td>3.7</td>\n",
       "      <td>N/A</td>\n",
       "    </tr>\n",
       "    <tr>\n",
       "      <th>4859</th>\n",
       "      <td>Cuisine Arya (Authentic South Indian)</td>\n",
       "      <td>Les Cours Mont-Royal Shopping Centre, 1440 Rue...</td>\n",
       "      <td>45.501059</td>\n",
       "      <td>-73.573206</td>\n",
       "      <td>4.3</td>\n",
       "      <td>2</td>\n",
       "    </tr>\n",
       "  </tbody>\n",
       "</table>\n",
       "<p>100 rows × 6 columns</p>\n",
       "</div>"
      ],
      "text/plain": [
       "                                        Name  \\\n",
       "4760                     Restaurant I AM Pho   \n",
       "4761                 Winnie's Bar Restaurant   \n",
       "4762                         Yama Restaurant   \n",
       "4763  Sushi by Scratch Restaurants: Montréal   \n",
       "4764                              McDonald's   \n",
       "...                                      ...   \n",
       "4855                      Restaurant Sauvage   \n",
       "4856                       Vargas Restaurant   \n",
       "4857                                 Candide   \n",
       "4858                        Restaurant Tbsp.   \n",
       "4859   Cuisine Arya (Authentic South Indian)   \n",
       "\n",
       "                                                Address   Latitude  Longitude  \\\n",
       "4760       1444 St Mathieu St, Montreal, Quebec H3H 2H9  45.494288 -73.580311   \n",
       "4761         1455 Crescent St, Montreal, Quebec H3G 2B2  45.497962 -73.576909   \n",
       "4762      1415 Rue de la Montagne, Montréal, QC H3G 1Z3  45.498388 -73.575550   \n",
       "4763  Inside of STILLIFE, 640 Saint-Paul St W, Montr...  45.499355 -73.557573   \n",
       "4764   215 Peel St Local B123, Montreal, Quebec H3C 2G6  45.493815 -73.558303   \n",
       "...                                                 ...        ...        ...   \n",
       "4855         52 Rue Saint-Jacques, Montréal, QC H2Y 1L2  45.505598 -73.556826   \n",
       "4856  690 René-Lévesque Blvd W, Montreal, Quebec H3B...  45.501517 -73.567471   \n",
       "4857         551 Rue Saint-Martin, Montréal, QC H3J 2L6  45.489080 -73.569463   \n",
       "4858   901 Rue du Square-Victoria, Montréal, QC H2Z 1R1  45.501970 -73.561869   \n",
       "4859  Les Cours Mont-Royal Shopping Centre, 1440 Rue...  45.501059 -73.573206   \n",
       "\n",
       "      Rating Price Level  \n",
       "4760     4.4           1  \n",
       "4761     3.9           2  \n",
       "4762     4.3         N/A  \n",
       "4763     4.4         N/A  \n",
       "4764     3.2           1  \n",
       "...      ...         ...  \n",
       "4855     3.9         N/A  \n",
       "4856     4.1           3  \n",
       "4857     4.6           3  \n",
       "4858     3.7         N/A  \n",
       "4859     4.3           2  \n",
       "\n",
       "[100 rows x 6 columns]"
      ]
     },
     "execution_count": 49,
     "metadata": {},
     "output_type": "execute_result"
    }
   ],
   "source": [
    "restaurant_8_df.tail(100)"
   ]
  },
  {
   "cell_type": "code",
   "execution_count": 54,
   "metadata": {},
   "outputs": [],
   "source": [
    "# Convert the data collected so far into a DataFrame\n",
    "restaurant_9_df = pd.DataFrame(data)"
   ]
  },
  {
   "cell_type": "code",
   "execution_count": 55,
   "metadata": {},
   "outputs": [
    {
     "data": {
      "text/plain": [
       "5460"
      ]
     },
     "execution_count": 55,
     "metadata": {},
     "output_type": "execute_result"
    }
   ],
   "source": [
    "len(restaurant_9_df)"
   ]
  },
  {
   "cell_type": "code",
   "execution_count": 57,
   "metadata": {},
   "outputs": [],
   "source": [
    "# Convert the data collected so far into a DataFrame\n",
    "restaurant_10_df = pd.DataFrame(data)"
   ]
  },
  {
   "cell_type": "code",
   "execution_count": 58,
   "metadata": {},
   "outputs": [
    {
     "data": {
      "text/plain": [
       "6060"
      ]
     },
     "execution_count": 58,
     "metadata": {},
     "output_type": "execute_result"
    }
   ],
   "source": [
    "len(restaurant_10_df)"
   ]
  },
  {
   "cell_type": "code",
   "execution_count": 60,
   "metadata": {},
   "outputs": [],
   "source": [
    "# Convert the data collected so far into a DataFrame\n",
    "restaurant_11_df = pd.DataFrame(data)"
   ]
  },
  {
   "cell_type": "code",
   "execution_count": 61,
   "metadata": {},
   "outputs": [
    {
     "data": {
      "text/plain": [
       "6660"
      ]
     },
     "execution_count": 61,
     "metadata": {},
     "output_type": "execute_result"
    }
   ],
   "source": [
    "len(restaurant_11_df)"
   ]
  },
  {
   "cell_type": "code",
   "execution_count": 63,
   "metadata": {},
   "outputs": [],
   "source": [
    "# Convert the data collected so far into a DataFrame\n",
    "restaurant_12_df = pd.DataFrame(data)"
   ]
  },
  {
   "cell_type": "code",
   "execution_count": 64,
   "metadata": {},
   "outputs": [
    {
     "data": {
      "text/plain": [
       "7260"
      ]
     },
     "execution_count": 64,
     "metadata": {},
     "output_type": "execute_result"
    }
   ],
   "source": [
    "len(restaurant_12_df)"
   ]
  },
  {
   "cell_type": "code",
   "execution_count": 68,
   "metadata": {},
   "outputs": [],
   "source": [
    "# Convert the data collected so far into a DataFrame\n",
    "restaurant_13_df = pd.DataFrame(data)"
   ]
  },
  {
   "cell_type": "code",
   "execution_count": 69,
   "metadata": {},
   "outputs": [
    {
     "data": {
      "text/plain": [
       "7860"
      ]
     },
     "execution_count": 69,
     "metadata": {},
     "output_type": "execute_result"
    }
   ],
   "source": [
    "len(restaurant_13_df)"
   ]
  },
  {
   "cell_type": "code",
   "execution_count": 70,
   "metadata": {},
   "outputs": [
    {
     "data": {
      "text/html": [
       "<div>\n",
       "<style scoped>\n",
       "    .dataframe tbody tr th:only-of-type {\n",
       "        vertical-align: middle;\n",
       "    }\n",
       "\n",
       "    .dataframe tbody tr th {\n",
       "        vertical-align: top;\n",
       "    }\n",
       "\n",
       "    .dataframe thead th {\n",
       "        text-align: right;\n",
       "    }\n",
       "</style>\n",
       "<table border=\"1\" class=\"dataframe\">\n",
       "  <thead>\n",
       "    <tr style=\"text-align: right;\">\n",
       "      <th></th>\n",
       "      <th>Name</th>\n",
       "      <th>Address</th>\n",
       "      <th>Latitude</th>\n",
       "      <th>Longitude</th>\n",
       "      <th>Rating</th>\n",
       "      <th>Price Level</th>\n",
       "    </tr>\n",
       "  </thead>\n",
       "  <tbody>\n",
       "    <tr>\n",
       "      <th>0</th>\n",
       "      <td>Restaurant Branzino</td>\n",
       "      <td>50 René-Lévesque Blvd W, Montreal, Quebec H2Z 1A2</td>\n",
       "      <td>45.508147</td>\n",
       "      <td>-73.561650</td>\n",
       "      <td>3.9</td>\n",
       "      <td>N/A</td>\n",
       "    </tr>\n",
       "    <tr>\n",
       "      <th>1</th>\n",
       "      <td>Bar et Restaurant La Catrina - Vieux-Port</td>\n",
       "      <td>119 De la Commune St W, Montreal, Quebec H2Y 2C7</td>\n",
       "      <td>45.503820</td>\n",
       "      <td>-73.553983</td>\n",
       "      <td>4.1</td>\n",
       "      <td>2</td>\n",
       "    </tr>\n",
       "    <tr>\n",
       "      <th>2</th>\n",
       "      <td>COMMODORE restaurant Montréal</td>\n",
       "      <td>355 Blvd. De Maisonneuve Ouest, Montreal, Queb...</td>\n",
       "      <td>45.507151</td>\n",
       "      <td>-73.569114</td>\n",
       "      <td>3.9</td>\n",
       "      <td>N/A</td>\n",
       "    </tr>\n",
       "    <tr>\n",
       "      <th>3</th>\n",
       "      <td>Restaurant Keung Kee</td>\n",
       "      <td>70 Rue De la Gauchetière O, Montréal, QC H2Z 1C1</td>\n",
       "      <td>45.507253</td>\n",
       "      <td>-73.560407</td>\n",
       "      <td>3.9</td>\n",
       "      <td>2</td>\n",
       "    </tr>\n",
       "    <tr>\n",
       "      <th>4</th>\n",
       "      <td>Beijing Restaurant</td>\n",
       "      <td>92 Rue De la Gauchetière O, Montréal, QC H2Z 1C1</td>\n",
       "      <td>45.506930</td>\n",
       "      <td>-73.560560</td>\n",
       "      <td>4.1</td>\n",
       "      <td>2</td>\n",
       "    </tr>\n",
       "    <tr>\n",
       "      <th>...</th>\n",
       "      <td>...</td>\n",
       "      <td>...</td>\n",
       "      <td>...</td>\n",
       "      <td>...</td>\n",
       "      <td>...</td>\n",
       "      <td>...</td>\n",
       "    </tr>\n",
       "    <tr>\n",
       "      <th>7855</th>\n",
       "      <td>RESTAURANT TASTINGOOD</td>\n",
       "      <td>2177 Rue Masson, Montréal, QC H2H 1B1</td>\n",
       "      <td>45.540676</td>\n",
       "      <td>-73.581220</td>\n",
       "      <td>5.0</td>\n",
       "      <td>N/A</td>\n",
       "    </tr>\n",
       "    <tr>\n",
       "      <th>7856</th>\n",
       "      <td>DEK SEN CUISINE THAÏLANDAISE</td>\n",
       "      <td>4621 Saint Denis St, Montreal, Quebec H2J 2L4</td>\n",
       "      <td>45.524839</td>\n",
       "      <td>-73.584436</td>\n",
       "      <td>4.8</td>\n",
       "      <td>N/A</td>\n",
       "    </tr>\n",
       "    <tr>\n",
       "      <th>7857</th>\n",
       "      <td>Aquinta</td>\n",
       "      <td>1851 Ontario St E, Montreal, Quebec H2K 1T7</td>\n",
       "      <td>45.526566</td>\n",
       "      <td>-73.558975</td>\n",
       "      <td>4.5</td>\n",
       "      <td>1</td>\n",
       "    </tr>\n",
       "    <tr>\n",
       "      <th>7858</th>\n",
       "      <td>Nori Sushi</td>\n",
       "      <td>2967 Sherbrooke St E, Montreal, Quebec H1W 1B2</td>\n",
       "      <td>45.541511</td>\n",
       "      <td>-73.560447</td>\n",
       "      <td>4.6</td>\n",
       "      <td>2</td>\n",
       "    </tr>\n",
       "    <tr>\n",
       "      <th>7859</th>\n",
       "      <td>Akami sushi</td>\n",
       "      <td>1689 Mont-Royal Ave E, Montreal, Quebec H2H 1Z6</td>\n",
       "      <td>45.532770</td>\n",
       "      <td>-73.574899</td>\n",
       "      <td>4.5</td>\n",
       "      <td>N/A</td>\n",
       "    </tr>\n",
       "  </tbody>\n",
       "</table>\n",
       "<p>7860 rows × 6 columns</p>\n",
       "</div>"
      ],
      "text/plain": [
       "                                           Name  \\\n",
       "0                           Restaurant Branzino   \n",
       "1     Bar et Restaurant La Catrina - Vieux-Port   \n",
       "2                 COMMODORE restaurant Montréal   \n",
       "3                          Restaurant Keung Kee   \n",
       "4                            Beijing Restaurant   \n",
       "...                                         ...   \n",
       "7855                      RESTAURANT TASTINGOOD   \n",
       "7856               DEK SEN CUISINE THAÏLANDAISE   \n",
       "7857                                    Aquinta   \n",
       "7858                                 Nori Sushi   \n",
       "7859                                Akami sushi   \n",
       "\n",
       "                                                Address   Latitude  Longitude  \\\n",
       "0     50 René-Lévesque Blvd W, Montreal, Quebec H2Z 1A2  45.508147 -73.561650   \n",
       "1      119 De la Commune St W, Montreal, Quebec H2Y 2C7  45.503820 -73.553983   \n",
       "2     355 Blvd. De Maisonneuve Ouest, Montreal, Queb...  45.507151 -73.569114   \n",
       "3      70 Rue De la Gauchetière O, Montréal, QC H2Z 1C1  45.507253 -73.560407   \n",
       "4      92 Rue De la Gauchetière O, Montréal, QC H2Z 1C1  45.506930 -73.560560   \n",
       "...                                                 ...        ...        ...   \n",
       "7855              2177 Rue Masson, Montréal, QC H2H 1B1  45.540676 -73.581220   \n",
       "7856      4621 Saint Denis St, Montreal, Quebec H2J 2L4  45.524839 -73.584436   \n",
       "7857        1851 Ontario St E, Montreal, Quebec H2K 1T7  45.526566 -73.558975   \n",
       "7858     2967 Sherbrooke St E, Montreal, Quebec H1W 1B2  45.541511 -73.560447   \n",
       "7859    1689 Mont-Royal Ave E, Montreal, Quebec H2H 1Z6  45.532770 -73.574899   \n",
       "\n",
       "      Rating Price Level  \n",
       "0        3.9         N/A  \n",
       "1        4.1           2  \n",
       "2        3.9         N/A  \n",
       "3        3.9           2  \n",
       "4        4.1           2  \n",
       "...      ...         ...  \n",
       "7855     5.0         N/A  \n",
       "7856     4.8         N/A  \n",
       "7857     4.5           1  \n",
       "7858     4.6           2  \n",
       "7859     4.5         N/A  \n",
       "\n",
       "[7860 rows x 6 columns]"
      ]
     },
     "execution_count": 70,
     "metadata": {},
     "output_type": "execute_result"
    }
   ],
   "source": [
    "restaurant_13_df"
   ]
  },
  {
   "cell_type": "code",
   "execution_count": 72,
   "metadata": {},
   "outputs": [],
   "source": [
    "# Convert the data collected so far into a DataFrame\n",
    "restaurant_14_df = pd.DataFrame(data)"
   ]
  },
  {
   "cell_type": "code",
   "execution_count": 73,
   "metadata": {},
   "outputs": [
    {
     "data": {
      "text/plain": [
       "8460"
      ]
     },
     "execution_count": 73,
     "metadata": {},
     "output_type": "execute_result"
    }
   ],
   "source": [
    "len(restaurant_14_df)"
   ]
  },
  {
   "cell_type": "code",
   "execution_count": 75,
   "metadata": {},
   "outputs": [],
   "source": [
    "# Convert the data collected so far into a DataFrame\n",
    "restaurant_15_df = pd.DataFrame(data)"
   ]
  },
  {
   "cell_type": "code",
   "execution_count": 76,
   "metadata": {},
   "outputs": [
    {
     "data": {
      "text/plain": [
       "9060"
      ]
     },
     "execution_count": 76,
     "metadata": {},
     "output_type": "execute_result"
    }
   ],
   "source": [
    "len(restaurant_15_df)"
   ]
  },
  {
   "cell_type": "code",
   "execution_count": 78,
   "metadata": {},
   "outputs": [],
   "source": [
    "# Convert the data collected so far into a DataFrame\n",
    "restaurant_16_df = pd.DataFrame(data)"
   ]
  },
  {
   "cell_type": "code",
   "execution_count": 79,
   "metadata": {},
   "outputs": [
    {
     "data": {
      "text/plain": [
       "9660"
      ]
     },
     "execution_count": 79,
     "metadata": {},
     "output_type": "execute_result"
    }
   ],
   "source": [
    "len(restaurant_16_df)"
   ]
  },
  {
   "cell_type": "code",
   "execution_count": 81,
   "metadata": {},
   "outputs": [],
   "source": [
    "# Convert the data collected so far into a DataFrame\n",
    "restaurant_17_df = pd.DataFrame(data)"
   ]
  },
  {
   "cell_type": "code",
   "execution_count": 82,
   "metadata": {},
   "outputs": [
    {
     "data": {
      "text/plain": [
       "10260"
      ]
     },
     "execution_count": 82,
     "metadata": {},
     "output_type": "execute_result"
    }
   ],
   "source": [
    "len(restaurant_17_df)"
   ]
  },
  {
   "cell_type": "code",
   "execution_count": 84,
   "metadata": {},
   "outputs": [],
   "source": [
    "# Convert the data collected so far into a DataFrame\n",
    "restaurant_18_df = pd.DataFrame(data)"
   ]
  },
  {
   "cell_type": "code",
   "execution_count": 85,
   "metadata": {},
   "outputs": [
    {
     "data": {
      "text/plain": [
       "10800"
      ]
     },
     "execution_count": 85,
     "metadata": {},
     "output_type": "execute_result"
    }
   ],
   "source": [
    "len(restaurant_18_df)"
   ]
  },
  {
   "cell_type": "code",
   "execution_count": 87,
   "metadata": {},
   "outputs": [],
   "source": [
    "# Convert the data collected so far into a DataFrame\n",
    "restaurant_19_df = pd.DataFrame(data)"
   ]
  },
  {
   "cell_type": "code",
   "execution_count": 88,
   "metadata": {},
   "outputs": [
    {
     "data": {
      "text/plain": [
       "11400"
      ]
     },
     "execution_count": 88,
     "metadata": {},
     "output_type": "execute_result"
    }
   ],
   "source": [
    "len(restaurant_19_df)"
   ]
  },
  {
   "cell_type": "code",
   "execution_count": 90,
   "metadata": {},
   "outputs": [],
   "source": [
    "# Convert the data collected so far into a DataFrame\n",
    "restaurant_20_df = pd.DataFrame(data)"
   ]
  },
  {
   "cell_type": "code",
   "execution_count": 91,
   "metadata": {},
   "outputs": [
    {
     "data": {
      "text/plain": [
       "12000"
      ]
     },
     "execution_count": 91,
     "metadata": {},
     "output_type": "execute_result"
    }
   ],
   "source": [
    "len(restaurant_20_df)"
   ]
  },
  {
   "cell_type": "code",
   "execution_count": 93,
   "metadata": {},
   "outputs": [],
   "source": [
    "# Convert the data collected so far into a DataFrame\n",
    "restaurant_21_df = pd.DataFrame(data)"
   ]
  },
  {
   "cell_type": "code",
   "execution_count": 94,
   "metadata": {},
   "outputs": [
    {
     "data": {
      "text/plain": [
       "12600"
      ]
     },
     "execution_count": 94,
     "metadata": {},
     "output_type": "execute_result"
    }
   ],
   "source": [
    "len(restaurant_21_df)"
   ]
  },
  {
   "cell_type": "code",
   "execution_count": 96,
   "metadata": {},
   "outputs": [],
   "source": [
    "# Convert the data collected so far into a DataFrame\n",
    "restaurant_22_df = pd.DataFrame(data)"
   ]
  },
  {
   "cell_type": "code",
   "execution_count": 97,
   "metadata": {},
   "outputs": [
    {
     "data": {
      "text/plain": [
       "13200"
      ]
     },
     "execution_count": 97,
     "metadata": {},
     "output_type": "execute_result"
    }
   ],
   "source": [
    "len(restaurant_22_df)"
   ]
  },
  {
   "cell_type": "code",
   "execution_count": 99,
   "metadata": {},
   "outputs": [],
   "source": [
    "# Convert the data collected so far into a DataFrame\n",
    "restaurant_23_df = pd.DataFrame(data)"
   ]
  },
  {
   "cell_type": "code",
   "execution_count": 100,
   "metadata": {},
   "outputs": [
    {
     "data": {
      "text/plain": [
       "13800"
      ]
     },
     "execution_count": 100,
     "metadata": {},
     "output_type": "execute_result"
    }
   ],
   "source": [
    "len(restaurant_23_df)"
   ]
  },
  {
   "cell_type": "code",
   "execution_count": 102,
   "metadata": {},
   "outputs": [],
   "source": [
    "# Convert the data collected so far into a DataFrame\n",
    "restaurant_24_df = pd.DataFrame(data)"
   ]
  },
  {
   "cell_type": "code",
   "execution_count": 103,
   "metadata": {},
   "outputs": [
    {
     "data": {
      "text/plain": [
       "14400"
      ]
     },
     "execution_count": 103,
     "metadata": {},
     "output_type": "execute_result"
    }
   ],
   "source": [
    "len(restaurant_24_df)"
   ]
  },
  {
   "cell_type": "code",
   "execution_count": 105,
   "metadata": {},
   "outputs": [],
   "source": [
    "# Convert the data collected so far into a DataFrame\n",
    "restaurant_25_df = pd.DataFrame(data)"
   ]
  },
  {
   "cell_type": "code",
   "execution_count": 106,
   "metadata": {},
   "outputs": [
    {
     "data": {
      "text/plain": [
       "15000"
      ]
     },
     "execution_count": 106,
     "metadata": {},
     "output_type": "execute_result"
    }
   ],
   "source": [
    "len(restaurant_25_df)"
   ]
  },
  {
   "cell_type": "code",
   "execution_count": 108,
   "metadata": {},
   "outputs": [],
   "source": [
    "# Convert the data collected so far into a DataFrame\n",
    "restaurant_26_df = pd.DataFrame(data)"
   ]
  },
  {
   "cell_type": "code",
   "execution_count": 110,
   "metadata": {},
   "outputs": [
    {
     "data": {
      "text/plain": [
       "15600"
      ]
     },
     "execution_count": 110,
     "metadata": {},
     "output_type": "execute_result"
    }
   ],
   "source": [
    "len(restaurant_26_df)"
   ]
  },
  {
   "cell_type": "code",
   "execution_count": 112,
   "metadata": {},
   "outputs": [],
   "source": [
    "# Convert the data collected so far into a DataFrame\n",
    "restaurant_27_df = pd.DataFrame(data)"
   ]
  },
  {
   "cell_type": "code",
   "execution_count": 113,
   "metadata": {},
   "outputs": [
    {
     "data": {
      "text/plain": [
       "16200"
      ]
     },
     "execution_count": 113,
     "metadata": {},
     "output_type": "execute_result"
    }
   ],
   "source": [
    "len(restaurant_27_df)"
   ]
  },
  {
   "cell_type": "code",
   "execution_count": 115,
   "metadata": {},
   "outputs": [],
   "source": [
    "# Convert the data collected so far into a DataFrame\n",
    "restaurant_28_df = pd.DataFrame(data)"
   ]
  },
  {
   "cell_type": "code",
   "execution_count": 116,
   "metadata": {},
   "outputs": [
    {
     "data": {
      "text/plain": [
       "16800"
      ]
     },
     "execution_count": 116,
     "metadata": {},
     "output_type": "execute_result"
    }
   ],
   "source": [
    "len(restaurant_28_df)"
   ]
  },
  {
   "cell_type": "code",
   "execution_count": 118,
   "metadata": {},
   "outputs": [],
   "source": [
    "# Convert the data collected so far into a DataFrame\n",
    "restaurant_29_df = pd.DataFrame(data)"
   ]
  },
  {
   "cell_type": "code",
   "execution_count": 119,
   "metadata": {},
   "outputs": [
    {
     "data": {
      "text/plain": [
       "17400"
      ]
     },
     "execution_count": 119,
     "metadata": {},
     "output_type": "execute_result"
    }
   ],
   "source": [
    "len(restaurant_29_df)"
   ]
  },
  {
   "cell_type": "code",
   "execution_count": 121,
   "metadata": {},
   "outputs": [],
   "source": [
    "# Convert the data collected so far into a DataFrame\n",
    "restaurant_30_df = pd.DataFrame(data)\n",
    "\n"
   ]
  },
  {
   "cell_type": "code",
   "execution_count": 122,
   "metadata": {},
   "outputs": [
    {
     "data": {
      "text/plain": [
       "18000"
      ]
     },
     "execution_count": 122,
     "metadata": {},
     "output_type": "execute_result"
    }
   ],
   "source": [
    "len(restaurant_30_df)"
   ]
  },
  {
   "cell_type": "code",
   "execution_count": 127,
   "metadata": {},
   "outputs": [],
   "source": [
    "# Convert the data collected so far into a DataFrame\n",
    "restaurant_31_df = pd.DataFrame(data)"
   ]
  },
  {
   "cell_type": "code",
   "execution_count": 129,
   "metadata": {},
   "outputs": [
    {
     "data": {
      "text/plain": [
       "19200"
      ]
     },
     "execution_count": 129,
     "metadata": {},
     "output_type": "execute_result"
    }
   ],
   "source": [
    "len(restaurant_31_df)"
   ]
  },
  {
   "cell_type": "code",
   "execution_count": 131,
   "metadata": {},
   "outputs": [],
   "source": [
    "# Convert the data collected so far into a DataFrame\n",
    "restaurant_32_df = pd.DataFrame(data)"
   ]
  },
  {
   "cell_type": "code",
   "execution_count": 132,
   "metadata": {},
   "outputs": [
    {
     "data": {
      "text/plain": [
       "19800"
      ]
     },
     "execution_count": 132,
     "metadata": {},
     "output_type": "execute_result"
    }
   ],
   "source": [
    "len(restaurant_32_df)"
   ]
  },
  {
   "cell_type": "code",
   "execution_count": 134,
   "metadata": {},
   "outputs": [],
   "source": [
    "# Convert the data collected so far into a DataFrame\n",
    "restaurant_33_df = pd.DataFrame(data)"
   ]
  },
  {
   "cell_type": "code",
   "execution_count": 135,
   "metadata": {},
   "outputs": [
    {
     "data": {
      "text/plain": [
       "20400"
      ]
     },
     "execution_count": 135,
     "metadata": {},
     "output_type": "execute_result"
    }
   ],
   "source": [
    "len(restaurant_33_df)"
   ]
  },
  {
   "cell_type": "code",
   "execution_count": 137,
   "metadata": {},
   "outputs": [],
   "source": [
    "# Convert the data collected so far into a DataFrame\n",
    "restaurant_34_df = pd.DataFrame(data)"
   ]
  },
  {
   "cell_type": "code",
   "execution_count": 138,
   "metadata": {},
   "outputs": [
    {
     "data": {
      "text/plain": [
       "21000"
      ]
     },
     "execution_count": 138,
     "metadata": {},
     "output_type": "execute_result"
    }
   ],
   "source": [
    "len(restaurant_34_df)"
   ]
  },
  {
   "cell_type": "code",
   "execution_count": 140,
   "metadata": {},
   "outputs": [],
   "source": [
    "# Convert the data collected so far into a DataFrame\n",
    "restaurant_35_df = pd.DataFrame(data)"
   ]
  },
  {
   "cell_type": "code",
   "execution_count": 141,
   "metadata": {},
   "outputs": [
    {
     "data": {
      "text/plain": [
       "21600"
      ]
     },
     "execution_count": 141,
     "metadata": {},
     "output_type": "execute_result"
    }
   ],
   "source": [
    "len(restaurant_35_df)"
   ]
  },
  {
   "cell_type": "code",
   "execution_count": 143,
   "metadata": {},
   "outputs": [],
   "source": [
    "# Convert the data collected so far into a DataFrame\n",
    "restaurant_36_df = pd.DataFrame(data)"
   ]
  },
  {
   "cell_type": "code",
   "execution_count": 144,
   "metadata": {},
   "outputs": [
    {
     "data": {
      "text/plain": [
       "22200"
      ]
     },
     "execution_count": 144,
     "metadata": {},
     "output_type": "execute_result"
    }
   ],
   "source": [
    "len(restaurant_36_df)"
   ]
  },
  {
   "cell_type": "code",
   "execution_count": 146,
   "metadata": {},
   "outputs": [],
   "source": [
    "# Convert the data collected so far into a DataFrame\n",
    "restaurant_37_df = pd.DataFrame(data)"
   ]
  },
  {
   "cell_type": "code",
   "execution_count": 147,
   "metadata": {},
   "outputs": [
    {
     "data": {
      "text/plain": [
       "22800"
      ]
     },
     "execution_count": 147,
     "metadata": {},
     "output_type": "execute_result"
    }
   ],
   "source": [
    "len(restaurant_37_df)"
   ]
  },
  {
   "cell_type": "code",
   "execution_count": 150,
   "metadata": {},
   "outputs": [],
   "source": [
    "# Convert the data collected so far into a DataFrame\n",
    "restaurant_38_df = pd.DataFrame(data)"
   ]
  },
  {
   "cell_type": "code",
   "execution_count": 151,
   "metadata": {},
   "outputs": [
    {
     "data": {
      "text/plain": [
       "23400"
      ]
     },
     "execution_count": 151,
     "metadata": {},
     "output_type": "execute_result"
    }
   ],
   "source": [
    "len(restaurant_38_df)"
   ]
  },
  {
   "cell_type": "code",
   "execution_count": 153,
   "metadata": {},
   "outputs": [],
   "source": [
    "# Convert the data collected so far into a DataFrame\n",
    "restaurant_39_df = pd.DataFrame(data)"
   ]
  },
  {
   "cell_type": "code",
   "execution_count": 154,
   "metadata": {},
   "outputs": [
    {
     "data": {
      "text/plain": [
       "24000"
      ]
     },
     "execution_count": 154,
     "metadata": {},
     "output_type": "execute_result"
    }
   ],
   "source": [
    "len(restaurant_39_df)"
   ]
  },
  {
   "cell_type": "code",
   "execution_count": 156,
   "metadata": {},
   "outputs": [],
   "source": [
    "# Convert the data collected so far into a DataFrame\n",
    "restaurant_40_df = pd.DataFrame(data)"
   ]
  },
  {
   "cell_type": "code",
   "execution_count": 157,
   "metadata": {},
   "outputs": [
    {
     "data": {
      "text/plain": [
       "24600"
      ]
     },
     "execution_count": 157,
     "metadata": {},
     "output_type": "execute_result"
    }
   ],
   "source": [
    "len(restaurant_40_df)"
   ]
  },
  {
   "cell_type": "code",
   "execution_count": 159,
   "metadata": {},
   "outputs": [],
   "source": [
    "# Convert the data collected so far into a DataFrame\n",
    "restaurant_41_df = pd.DataFrame(data)"
   ]
  },
  {
   "cell_type": "code",
   "execution_count": 160,
   "metadata": {},
   "outputs": [
    {
     "data": {
      "text/plain": [
       "25200"
      ]
     },
     "execution_count": 160,
     "metadata": {},
     "output_type": "execute_result"
    }
   ],
   "source": [
    "len(restaurant_41_df)"
   ]
  },
  {
   "cell_type": "code",
   "execution_count": 162,
   "metadata": {},
   "outputs": [],
   "source": [
    "# Convert the data collected so far into a DataFrame\n",
    "restaurant_42_df = pd.DataFrame(data)"
   ]
  },
  {
   "cell_type": "code",
   "execution_count": 163,
   "metadata": {},
   "outputs": [
    {
     "data": {
      "text/plain": [
       "25800"
      ]
     },
     "execution_count": 163,
     "metadata": {},
     "output_type": "execute_result"
    }
   ],
   "source": [
    "len(restaurant_42_df)"
   ]
  },
  {
   "cell_type": "code",
   "execution_count": 165,
   "metadata": {},
   "outputs": [],
   "source": [
    "# Convert the data collected so far into a DataFrame\n",
    "restaurant_43_df = pd.DataFrame(data)"
   ]
  },
  {
   "cell_type": "code",
   "execution_count": 166,
   "metadata": {},
   "outputs": [
    {
     "data": {
      "text/plain": [
       "26400"
      ]
     },
     "execution_count": 166,
     "metadata": {},
     "output_type": "execute_result"
    }
   ],
   "source": [
    "len(restaurant_43_df)"
   ]
  },
  {
   "cell_type": "code",
   "execution_count": 168,
   "metadata": {},
   "outputs": [],
   "source": [
    "# Convert the data collected so far into a DataFrame\n",
    "restaurant_44_df = pd.DataFrame(data)"
   ]
  },
  {
   "cell_type": "code",
   "execution_count": 169,
   "metadata": {},
   "outputs": [
    {
     "data": {
      "text/plain": [
       "27000"
      ]
     },
     "execution_count": 169,
     "metadata": {},
     "output_type": "execute_result"
    }
   ],
   "source": [
    "len(restaurant_44_df)"
   ]
  },
  {
   "cell_type": "code",
   "execution_count": 171,
   "metadata": {},
   "outputs": [],
   "source": [
    "# Convert the data collected so far into a DataFrame\n",
    "restaurant_45_df = pd.DataFrame(data)"
   ]
  },
  {
   "cell_type": "code",
   "execution_count": 172,
   "metadata": {},
   "outputs": [
    {
     "data": {
      "text/plain": [
       "27600"
      ]
     },
     "execution_count": 172,
     "metadata": {},
     "output_type": "execute_result"
    }
   ],
   "source": [
    "len(restaurant_45_df)"
   ]
  },
  {
   "cell_type": "code",
   "execution_count": 174,
   "metadata": {},
   "outputs": [],
   "source": [
    "# Convert the data collected so far into a DataFrame\n",
    "restaurant_46_df = pd.DataFrame(data)"
   ]
  },
  {
   "cell_type": "code",
   "execution_count": 175,
   "metadata": {},
   "outputs": [
    {
     "data": {
      "text/plain": [
       "28200"
      ]
     },
     "execution_count": 175,
     "metadata": {},
     "output_type": "execute_result"
    }
   ],
   "source": [
    "len(restaurant_46_df)"
   ]
  },
  {
   "cell_type": "code",
   "execution_count": 177,
   "metadata": {},
   "outputs": [],
   "source": [
    "# Convert the data collected so far into a DataFrame\n",
    "restaurant_47_df = pd.DataFrame(data)"
   ]
  },
  {
   "cell_type": "code",
   "execution_count": 178,
   "metadata": {},
   "outputs": [
    {
     "data": {
      "text/plain": [
       "28800"
      ]
     },
     "execution_count": 178,
     "metadata": {},
     "output_type": "execute_result"
    }
   ],
   "source": [
    "len(restaurant_47_df)"
   ]
  },
  {
   "cell_type": "code",
   "execution_count": 180,
   "metadata": {},
   "outputs": [],
   "source": [
    "# Convert the data collected so far into a DataFrame\n",
    "restaurant_48_df = pd.DataFrame(data)"
   ]
  },
  {
   "cell_type": "code",
   "execution_count": 181,
   "metadata": {},
   "outputs": [
    {
     "data": {
      "text/plain": [
       "29400"
      ]
     },
     "execution_count": 181,
     "metadata": {},
     "output_type": "execute_result"
    }
   ],
   "source": [
    "len(restaurant_48_df)"
   ]
  },
  {
   "cell_type": "code",
   "execution_count": 183,
   "metadata": {},
   "outputs": [],
   "source": [
    "# Convert the data collected so far into a DataFrame\n",
    "restaurant_49_df = pd.DataFrame(data)"
   ]
  },
  {
   "cell_type": "code",
   "execution_count": 184,
   "metadata": {},
   "outputs": [
    {
     "data": {
      "text/plain": [
       "30000"
      ]
     },
     "execution_count": 184,
     "metadata": {},
     "output_type": "execute_result"
    }
   ],
   "source": [
    "len(restaurant_49_df)"
   ]
  },
  {
   "cell_type": "code",
   "execution_count": null,
   "metadata": {},
   "outputs": [],
   "source": []
  },
  {
   "cell_type": "code",
   "execution_count": null,
   "metadata": {},
   "outputs": [],
   "source": []
  },
  {
   "cell_type": "code",
   "execution_count": null,
   "metadata": {},
   "outputs": [],
   "source": []
  },
  {
   "cell_type": "markdown",
   "metadata": {},
   "source": [
    "# Find and filter out duplicates\n"
   ]
  },
  {
   "cell_type": "code",
   "execution_count": 186,
   "metadata": {},
   "outputs": [],
   "source": [
    "duplicate_rows = restaurant_49_df.duplicated()\n"
   ]
  },
  {
   "cell_type": "code",
   "execution_count": 187,
   "metadata": {},
   "outputs": [],
   "source": [
    "num_duplicates = duplicate_rows.sum()\n"
   ]
  },
  {
   "cell_type": "code",
   "execution_count": 188,
   "metadata": {},
   "outputs": [
    {
     "data": {
      "text/plain": [
       "27228"
      ]
     },
     "execution_count": 188,
     "metadata": {},
     "output_type": "execute_result"
    }
   ],
   "source": [
    "num_duplicates"
   ]
  },
  {
   "cell_type": "code",
   "execution_count": 191,
   "metadata": {},
   "outputs": [],
   "source": [
    "duplicates = restaurant_49_df[restaurant_49_df.duplicated(keep=False)]\n",
    "\n"
   ]
  },
  {
   "cell_type": "code",
   "execution_count": 192,
   "metadata": {},
   "outputs": [
    {
     "data": {
      "text/html": [
       "<div>\n",
       "<style scoped>\n",
       "    .dataframe tbody tr th:only-of-type {\n",
       "        vertical-align: middle;\n",
       "    }\n",
       "\n",
       "    .dataframe tbody tr th {\n",
       "        vertical-align: top;\n",
       "    }\n",
       "\n",
       "    .dataframe thead th {\n",
       "        text-align: right;\n",
       "    }\n",
       "</style>\n",
       "<table border=\"1\" class=\"dataframe\">\n",
       "  <thead>\n",
       "    <tr style=\"text-align: right;\">\n",
       "      <th></th>\n",
       "      <th>Name</th>\n",
       "      <th>Address</th>\n",
       "      <th>Latitude</th>\n",
       "      <th>Longitude</th>\n",
       "      <th>Rating</th>\n",
       "      <th>Price Level</th>\n",
       "    </tr>\n",
       "  </thead>\n",
       "  <tbody>\n",
       "    <tr>\n",
       "      <th>0</th>\n",
       "      <td>Restaurant Branzino</td>\n",
       "      <td>50 René-Lévesque Blvd W, Montreal, Quebec H2Z 1A2</td>\n",
       "      <td>45.508147</td>\n",
       "      <td>-73.561650</td>\n",
       "      <td>3.9</td>\n",
       "      <td>N/A</td>\n",
       "    </tr>\n",
       "    <tr>\n",
       "      <th>1</th>\n",
       "      <td>Bar et Restaurant La Catrina - Vieux-Port</td>\n",
       "      <td>119 De la Commune St W, Montreal, Quebec H2Y 2C7</td>\n",
       "      <td>45.503820</td>\n",
       "      <td>-73.553983</td>\n",
       "      <td>4.1</td>\n",
       "      <td>2</td>\n",
       "    </tr>\n",
       "    <tr>\n",
       "      <th>2</th>\n",
       "      <td>COMMODORE restaurant Montréal</td>\n",
       "      <td>355 Blvd. De Maisonneuve Ouest, Montreal, Queb...</td>\n",
       "      <td>45.507151</td>\n",
       "      <td>-73.569114</td>\n",
       "      <td>3.9</td>\n",
       "      <td>N/A</td>\n",
       "    </tr>\n",
       "    <tr>\n",
       "      <th>3</th>\n",
       "      <td>Restaurant Keung Kee</td>\n",
       "      <td>70 Rue De la Gauchetière O, Montréal, QC H2Z 1C1</td>\n",
       "      <td>45.507253</td>\n",
       "      <td>-73.560407</td>\n",
       "      <td>3.9</td>\n",
       "      <td>2</td>\n",
       "    </tr>\n",
       "    <tr>\n",
       "      <th>4</th>\n",
       "      <td>Beijing Restaurant</td>\n",
       "      <td>92 Rue De la Gauchetière O, Montréal, QC H2Z 1C1</td>\n",
       "      <td>45.506930</td>\n",
       "      <td>-73.560560</td>\n",
       "      <td>4.1</td>\n",
       "      <td>2</td>\n",
       "    </tr>\n",
       "    <tr>\n",
       "      <th>...</th>\n",
       "      <td>...</td>\n",
       "      <td>...</td>\n",
       "      <td>...</td>\n",
       "      <td>...</td>\n",
       "      <td>...</td>\n",
       "      <td>...</td>\n",
       "    </tr>\n",
       "    <tr>\n",
       "      <th>29995</th>\n",
       "      <td>Pizza City</td>\n",
       "      <td>1821 Ontario St E, Montreal, Quebec H2K 1T6</td>\n",
       "      <td>45.526339</td>\n",
       "      <td>-73.559136</td>\n",
       "      <td>3.1</td>\n",
       "      <td>N/A</td>\n",
       "    </tr>\n",
       "    <tr>\n",
       "      <th>29996</th>\n",
       "      <td>Quesada Burritos &amp; Tacos</td>\n",
       "      <td>1100 Rue Sanguinet, Montréal, QC H2X 1R6</td>\n",
       "      <td>45.511194</td>\n",
       "      <td>-73.558450</td>\n",
       "      <td>2.6</td>\n",
       "      <td>1</td>\n",
       "    </tr>\n",
       "    <tr>\n",
       "      <th>29997</th>\n",
       "      <td>Restaurant Poulet Rouge Complexe Desjardins</td>\n",
       "      <td>150 Saint-Catherine St W, Montreal, Quebec H2X...</td>\n",
       "      <td>45.507712</td>\n",
       "      <td>-73.563628</td>\n",
       "      <td>4.3</td>\n",
       "      <td>2</td>\n",
       "    </tr>\n",
       "    <tr>\n",
       "      <th>29998</th>\n",
       "      <td>Asha Indian Restaurant</td>\n",
       "      <td>3490 Park Ave, Montreal, Quebec H2X 2H5</td>\n",
       "      <td>45.509245</td>\n",
       "      <td>-73.573524</td>\n",
       "      <td>3.1</td>\n",
       "      <td>N/A</td>\n",
       "    </tr>\n",
       "    <tr>\n",
       "      <th>29999</th>\n",
       "      <td>Restaurant La Raclette</td>\n",
       "      <td>1059 Rue Gilford, Montréal, QC H2J 1P7</td>\n",
       "      <td>45.529565</td>\n",
       "      <td>-73.582892</td>\n",
       "      <td>4.5</td>\n",
       "      <td>3</td>\n",
       "    </tr>\n",
       "  </tbody>\n",
       "</table>\n",
       "<p>29572 rows × 6 columns</p>\n",
       "</div>"
      ],
      "text/plain": [
       "                                              Name  \\\n",
       "0                              Restaurant Branzino   \n",
       "1        Bar et Restaurant La Catrina - Vieux-Port   \n",
       "2                    COMMODORE restaurant Montréal   \n",
       "3                             Restaurant Keung Kee   \n",
       "4                               Beijing Restaurant   \n",
       "...                                            ...   \n",
       "29995                                   Pizza City   \n",
       "29996                     Quesada Burritos & Tacos   \n",
       "29997  Restaurant Poulet Rouge Complexe Desjardins   \n",
       "29998                       Asha Indian Restaurant   \n",
       "29999                       Restaurant La Raclette   \n",
       "\n",
       "                                                 Address   Latitude  \\\n",
       "0      50 René-Lévesque Blvd W, Montreal, Quebec H2Z 1A2  45.508147   \n",
       "1       119 De la Commune St W, Montreal, Quebec H2Y 2C7  45.503820   \n",
       "2      355 Blvd. De Maisonneuve Ouest, Montreal, Queb...  45.507151   \n",
       "3       70 Rue De la Gauchetière O, Montréal, QC H2Z 1C1  45.507253   \n",
       "4       92 Rue De la Gauchetière O, Montréal, QC H2Z 1C1  45.506930   \n",
       "...                                                  ...        ...   \n",
       "29995        1821 Ontario St E, Montreal, Quebec H2K 1T6  45.526339   \n",
       "29996           1100 Rue Sanguinet, Montréal, QC H2X 1R6  45.511194   \n",
       "29997  150 Saint-Catherine St W, Montreal, Quebec H2X...  45.507712   \n",
       "29998            3490 Park Ave, Montreal, Quebec H2X 2H5  45.509245   \n",
       "29999             1059 Rue Gilford, Montréal, QC H2J 1P7  45.529565   \n",
       "\n",
       "       Longitude  Rating Price Level  \n",
       "0     -73.561650     3.9         N/A  \n",
       "1     -73.553983     4.1           2  \n",
       "2     -73.569114     3.9         N/A  \n",
       "3     -73.560407     3.9           2  \n",
       "4     -73.560560     4.1           2  \n",
       "...          ...     ...         ...  \n",
       "29995 -73.559136     3.1         N/A  \n",
       "29996 -73.558450     2.6           1  \n",
       "29997 -73.563628     4.3           2  \n",
       "29998 -73.573524     3.1         N/A  \n",
       "29999 -73.582892     4.5           3  \n",
       "\n",
       "[29572 rows x 6 columns]"
      ]
     },
     "execution_count": 192,
     "metadata": {},
     "output_type": "execute_result"
    }
   ],
   "source": [
    "duplicates\n"
   ]
  },
  {
   "cell_type": "code",
   "execution_count": 194,
   "metadata": {},
   "outputs": [],
   "source": [
    "restruants_in_montreal_collected_unique = restaurant_49_df.drop_duplicates(keep='first')"
   ]
  },
  {
   "cell_type": "code",
   "execution_count": 195,
   "metadata": {},
   "outputs": [
    {
     "data": {
      "text/html": [
       "<div>\n",
       "<style scoped>\n",
       "    .dataframe tbody tr th:only-of-type {\n",
       "        vertical-align: middle;\n",
       "    }\n",
       "\n",
       "    .dataframe tbody tr th {\n",
       "        vertical-align: top;\n",
       "    }\n",
       "\n",
       "    .dataframe thead th {\n",
       "        text-align: right;\n",
       "    }\n",
       "</style>\n",
       "<table border=\"1\" class=\"dataframe\">\n",
       "  <thead>\n",
       "    <tr style=\"text-align: right;\">\n",
       "      <th></th>\n",
       "      <th>Name</th>\n",
       "      <th>Address</th>\n",
       "      <th>Latitude</th>\n",
       "      <th>Longitude</th>\n",
       "      <th>Rating</th>\n",
       "      <th>Price Level</th>\n",
       "    </tr>\n",
       "  </thead>\n",
       "  <tbody>\n",
       "    <tr>\n",
       "      <th>28920</th>\n",
       "      <td>Como Pizzeria</td>\n",
       "      <td>577 Taschereau Blvd, La Prairie, Quebec J5R 1V4</td>\n",
       "      <td>45.411705</td>\n",
       "      <td>-73.492798</td>\n",
       "      <td>4.4</td>\n",
       "      <td>2</td>\n",
       "    </tr>\n",
       "    <tr>\n",
       "      <th>28938</th>\n",
       "      <td>Resto du Vieux La Prairie</td>\n",
       "      <td>238 Taschereau Blvd, La Prairie, Quebec J5R 1T1</td>\n",
       "      <td>45.416189</td>\n",
       "      <td>-73.489345</td>\n",
       "      <td>4.4</td>\n",
       "      <td>1</td>\n",
       "    </tr>\n",
       "    <tr>\n",
       "      <th>28961</th>\n",
       "      <td>Quatro Bistro</td>\n",
       "      <td>825 Chem. de Saint-Jean, La Prairie, QC J5R 5E6</td>\n",
       "      <td>45.414144</td>\n",
       "      <td>-73.483159</td>\n",
       "      <td>4.6</td>\n",
       "      <td>N/A</td>\n",
       "    </tr>\n",
       "    <tr>\n",
       "      <th>28962</th>\n",
       "      <td>Eggsquis Laprairie</td>\n",
       "      <td>165 Taschereau Blvd, La Prairie, Quebec J5R 6G8</td>\n",
       "      <td>45.417395</td>\n",
       "      <td>-73.487214</td>\n",
       "      <td>4.1</td>\n",
       "      <td>2</td>\n",
       "    </tr>\n",
       "    <tr>\n",
       "      <th>28971</th>\n",
       "      <td>Thai Express Restaurant La Prairie</td>\n",
       "      <td>Place Perreault, 1028 Taschereau Blvd, La Prai...</td>\n",
       "      <td>45.406507</td>\n",
       "      <td>-73.498465</td>\n",
       "      <td>3.6</td>\n",
       "      <td>1</td>\n",
       "    </tr>\n",
       "    <tr>\n",
       "      <th>28979</th>\n",
       "      <td>Restaurant Bar Sushi sogen</td>\n",
       "      <td>170 Taschereau Blvd, La Prairie, Quebec J5R 5H6</td>\n",
       "      <td>45.417440</td>\n",
       "      <td>-73.488585</td>\n",
       "      <td>4.5</td>\n",
       "      <td>2</td>\n",
       "    </tr>\n",
       "    <tr>\n",
       "      <th>28992</th>\n",
       "      <td>Chez Julien</td>\n",
       "      <td>130 Chem. de Saint-Jean, La Prairie, QC J5R 2J8</td>\n",
       "      <td>45.420380</td>\n",
       "      <td>-73.495147</td>\n",
       "      <td>4.7</td>\n",
       "      <td>3</td>\n",
       "    </tr>\n",
       "    <tr>\n",
       "      <th>29036</th>\n",
       "      <td>Restaurant Boustan</td>\n",
       "      <td>56 QC-132, Delson, QC J5B 0A1</td>\n",
       "      <td>45.386179</td>\n",
       "      <td>-73.547274</td>\n",
       "      <td>4.4</td>\n",
       "      <td>1</td>\n",
       "    </tr>\n",
       "    <tr>\n",
       "      <th>29038</th>\n",
       "      <td>Bacaro Pizzeria</td>\n",
       "      <td>185 Taschereau Blvd, La Prairie, Quebec J5R 6G8</td>\n",
       "      <td>45.417291</td>\n",
       "      <td>-73.487185</td>\n",
       "      <td>4.3</td>\n",
       "      <td>2</td>\n",
       "    </tr>\n",
       "    <tr>\n",
       "      <th>29160</th>\n",
       "      <td>Ramses</td>\n",
       "      <td>8500 Taschereau Blvd, Brossard, Quebec J4X 2T4</td>\n",
       "      <td>45.443856</td>\n",
       "      <td>-73.473414</td>\n",
       "      <td>4.1</td>\n",
       "      <td>2</td>\n",
       "    </tr>\n",
       "    <tr>\n",
       "      <th>29173</th>\n",
       "      <td>Pizza Hut</td>\n",
       "      <td>8245 Taschereau Blvd, Brossard, Quebec J4Y 1A4</td>\n",
       "      <td>45.448485</td>\n",
       "      <td>-73.468294</td>\n",
       "      <td>3.2</td>\n",
       "      <td>2</td>\n",
       "    </tr>\n",
       "    <tr>\n",
       "      <th>29199</th>\n",
       "      <td>Subway</td>\n",
       "      <td>9105 Bd Taschereau Local K, Brossard, QC J4Y 1V9</td>\n",
       "      <td>45.436635</td>\n",
       "      <td>-73.472942</td>\n",
       "      <td>3.1</td>\n",
       "      <td>1</td>\n",
       "    </tr>\n",
       "    <tr>\n",
       "      <th>29211</th>\n",
       "      <td>3894207 Canada inc (Barbies - Siège Social)</td>\n",
       "      <td>3050 Boul Matte local h, Brossard, Quebec J4Y 0G5</td>\n",
       "      <td>45.432530</td>\n",
       "      <td>-73.471030</td>\n",
       "      <td>3.6</td>\n",
       "      <td>2</td>\n",
       "    </tr>\n",
       "    <tr>\n",
       "      <th>29392</th>\n",
       "      <td>Yuzu sushi</td>\n",
       "      <td>8015 Bd du Quartier #103, Brossard, Quebec J4Y...</td>\n",
       "      <td>45.440074</td>\n",
       "      <td>-73.442828</td>\n",
       "      <td>3.9</td>\n",
       "      <td>2</td>\n",
       "    </tr>\n",
       "    <tr>\n",
       "      <th>29399</th>\n",
       "      <td>McDonald’s</td>\n",
       "      <td>8025 Bd du Quartier, Brossard, QC J4Y 0N6</td>\n",
       "      <td>45.439709</td>\n",
       "      <td>-73.443043</td>\n",
       "      <td>3.1</td>\n",
       "      <td>1</td>\n",
       "    </tr>\n",
       "    <tr>\n",
       "      <th>29418</th>\n",
       "      <td>Bacaro Pizzeria Express - Rockland</td>\n",
       "      <td>2305 Rockland Rd local 5614, Mount Royal, Queb...</td>\n",
       "      <td>45.528197</td>\n",
       "      <td>-73.648124</td>\n",
       "      <td>3.4</td>\n",
       "      <td>2</td>\n",
       "    </tr>\n",
       "    <tr>\n",
       "      <th>29424</th>\n",
       "      <td>Nickels Deli</td>\n",
       "      <td>2305 Chem. Rockland #5804, Mont-Royal, QC H3P 3E9</td>\n",
       "      <td>45.528197</td>\n",
       "      <td>-73.648124</td>\n",
       "      <td>2.2</td>\n",
       "      <td>2</td>\n",
       "    </tr>\n",
       "    <tr>\n",
       "      <th>29425</th>\n",
       "      <td>Bento Sushi</td>\n",
       "      <td>2305 Rockland Rd Unit 5605, Mount Royal, Quebe...</td>\n",
       "      <td>45.528197</td>\n",
       "      <td>-73.648124</td>\n",
       "      <td>2.1</td>\n",
       "      <td>2</td>\n",
       "    </tr>\n",
       "    <tr>\n",
       "      <th>29428</th>\n",
       "      <td>Kenkō food bar</td>\n",
       "      <td>2305 Rockland Rd, Mount Royal, Quebec H3P 3E9</td>\n",
       "      <td>45.528197</td>\n",
       "      <td>-73.648124</td>\n",
       "      <td>4.1</td>\n",
       "      <td>N/A</td>\n",
       "    </tr>\n",
       "    <tr>\n",
       "      <th>29440</th>\n",
       "      <td>Jerry casse-croûte du Terroir</td>\n",
       "      <td>2305 Rockland Rd, Mount Royal, Quebec H3P 2Z3</td>\n",
       "      <td>45.526741</td>\n",
       "      <td>-73.648867</td>\n",
       "      <td>4.9</td>\n",
       "      <td>N/A</td>\n",
       "    </tr>\n",
       "    <tr>\n",
       "      <th>29454</th>\n",
       "      <td>Liv Salades</td>\n",
       "      <td>2305 Rockland Rd, Mount Royal, Quebec H3P 3E9</td>\n",
       "      <td>45.528197</td>\n",
       "      <td>-73.648124</td>\n",
       "      <td>3.0</td>\n",
       "      <td>N/A</td>\n",
       "    </tr>\n",
       "    <tr>\n",
       "      <th>29475</th>\n",
       "      <td>Pizzéria NO.900 - Rockland</td>\n",
       "      <td>2305 Rockland Rd, Mount Royal, Quebec H3P 3E9</td>\n",
       "      <td>45.527331</td>\n",
       "      <td>-73.648573</td>\n",
       "      <td>4.4</td>\n",
       "      <td>2</td>\n",
       "    </tr>\n",
       "    <tr>\n",
       "      <th>29511</th>\n",
       "      <td>Sushi Miya Go</td>\n",
       "      <td>1387 Chem. Athlone, Mont-Royal, QC H3R 3G2</td>\n",
       "      <td>45.515010</td>\n",
       "      <td>-73.645793</td>\n",
       "      <td>4.5</td>\n",
       "      <td>N/A</td>\n",
       "    </tr>\n",
       "    <tr>\n",
       "      <th>29537</th>\n",
       "      <td>Yko Chicken Bbq</td>\n",
       "      <td>133 Rue Jean-Talon O, Montréal, QC H2R 2W9</td>\n",
       "      <td>45.521885</td>\n",
       "      <td>-73.627505</td>\n",
       "      <td>0.0</td>\n",
       "      <td>N/A</td>\n",
       "    </tr>\n",
       "    <tr>\n",
       "      <th>29561</th>\n",
       "      <td>Domino's Pizza</td>\n",
       "      <td>250 Graham Blvd, Mount Royal, Quebec H3P 2C5</td>\n",
       "      <td>45.520620</td>\n",
       "      <td>-73.627472</td>\n",
       "      <td>3.8</td>\n",
       "      <td>1</td>\n",
       "    </tr>\n",
       "    <tr>\n",
       "      <th>29617</th>\n",
       "      <td>Le Piment Rouge Beaumont</td>\n",
       "      <td>495 Beaumont Ave, Montreal, Quebec H3N</td>\n",
       "      <td>45.527546</td>\n",
       "      <td>-73.619667</td>\n",
       "      <td>4.0</td>\n",
       "      <td>N/A</td>\n",
       "    </tr>\n",
       "    <tr>\n",
       "      <th>29625</th>\n",
       "      <td>Aki Sushi</td>\n",
       "      <td>1280 Beaumont Ave, Mount Royal, Quebec H3P 3E5</td>\n",
       "      <td>45.520230</td>\n",
       "      <td>-73.624282</td>\n",
       "      <td>5.0</td>\n",
       "      <td>2</td>\n",
       "    </tr>\n",
       "    <tr>\n",
       "      <th>29627</th>\n",
       "      <td>APPAYON - Cuisine Bangladeshi</td>\n",
       "      <td>520 Av. Ogilvy, Montréal, QC H3N 1M8</td>\n",
       "      <td>45.528886</td>\n",
       "      <td>-73.625209</td>\n",
       "      <td>4.2</td>\n",
       "      <td>1</td>\n",
       "    </tr>\n",
       "    <tr>\n",
       "      <th>29631</th>\n",
       "      <td>SEGRETA Pizza AL Taglio + Epicerie Italienne</td>\n",
       "      <td>413 Beaumont Ave, Montreal, Quebec H3N 1T6</td>\n",
       "      <td>45.528283</td>\n",
       "      <td>-73.618920</td>\n",
       "      <td>4.8</td>\n",
       "      <td>N/A</td>\n",
       "    </tr>\n",
       "    <tr>\n",
       "      <th>29636</th>\n",
       "      <td>Buffet Maharani</td>\n",
       "      <td>808 Rue Jean-Talon O, Montréal, QC H3N 1S4</td>\n",
       "      <td>45.526017</td>\n",
       "      <td>-73.624529</td>\n",
       "      <td>4.1</td>\n",
       "      <td>1</td>\n",
       "    </tr>\n",
       "    <tr>\n",
       "      <th>29638</th>\n",
       "      <td>786 Restaurant Halal</td>\n",
       "      <td>850 Rue Jean-Talon O, Montréal, QC H3N 1S4</td>\n",
       "      <td>45.525771</td>\n",
       "      <td>-73.624752</td>\n",
       "      <td>3.9</td>\n",
       "      <td>1</td>\n",
       "    </tr>\n",
       "    <tr>\n",
       "      <th>29663</th>\n",
       "      <td>Thammada</td>\n",
       "      <td>1205 Bernard Ave, Outremont, Quebec H2V 1V5</td>\n",
       "      <td>45.520519</td>\n",
       "      <td>-73.608732</td>\n",
       "      <td>4.3</td>\n",
       "      <td>N/A</td>\n",
       "    </tr>\n",
       "    <tr>\n",
       "      <th>29685</th>\n",
       "      <td>DJ POULET</td>\n",
       "      <td>1134 Ave Van Horne, Outremont, Quebec H2V 1J8</td>\n",
       "      <td>45.523410</td>\n",
       "      <td>-73.612128</td>\n",
       "      <td>4.3</td>\n",
       "      <td>1</td>\n",
       "    </tr>\n",
       "    <tr>\n",
       "      <th>29687</th>\n",
       "      <td>Restaurant Doan</td>\n",
       "      <td>1356 Ave Van Horne, Montreal, Quebec H2V 1K5</td>\n",
       "      <td>45.520697</td>\n",
       "      <td>-73.614481</td>\n",
       "      <td>4.5</td>\n",
       "      <td>N/A</td>\n",
       "    </tr>\n",
       "    <tr>\n",
       "      <th>29693</th>\n",
       "      <td>Lester's Deli</td>\n",
       "      <td>1057 Bernard Ave, Outremont, Quebec H2V 1V1</td>\n",
       "      <td>45.522155</td>\n",
       "      <td>-73.607131</td>\n",
       "      <td>4.4</td>\n",
       "      <td>2</td>\n",
       "    </tr>\n",
       "    <tr>\n",
       "      <th>29694</th>\n",
       "      <td>Les Enfants Terribles — Outremont</td>\n",
       "      <td>1257 Bernard Ave, Outremont, Quebec H2V 1V8</td>\n",
       "      <td>45.519924</td>\n",
       "      <td>-73.609135</td>\n",
       "      <td>3.9</td>\n",
       "      <td>3</td>\n",
       "    </tr>\n",
       "    <tr>\n",
       "      <th>29739</th>\n",
       "      <td>Pho Bep Cuisine Vietnamienne</td>\n",
       "      <td>102 Rue Saint-Viateur O, Montréal, QC H2T 2L1</td>\n",
       "      <td>45.524414</td>\n",
       "      <td>-73.600046</td>\n",
       "      <td>4.5</td>\n",
       "      <td>N/A</td>\n",
       "    </tr>\n",
       "    <tr>\n",
       "      <th>29759</th>\n",
       "      <td>Yuukai sushi</td>\n",
       "      <td>5407 Park Ave, Montreal, Quebec H2V 4G9</td>\n",
       "      <td>45.522069</td>\n",
       "      <td>-73.601220</td>\n",
       "      <td>4.5</td>\n",
       "      <td>2</td>\n",
       "    </tr>\n",
       "    <tr>\n",
       "      <th>29783</th>\n",
       "      <td>Pizzeria Magpie Mile End</td>\n",
       "      <td>16 Maguire St, Montreal, Quebec H2T 1B8</td>\n",
       "      <td>45.524703</td>\n",
       "      <td>-73.595522</td>\n",
       "      <td>4.4</td>\n",
       "      <td>2</td>\n",
       "    </tr>\n",
       "    <tr>\n",
       "      <th>29938</th>\n",
       "      <td>Sushi Momo Le Comptoir - Takeout Counter Par C...</td>\n",
       "      <td>16 Ave des Pins, Montreal, Quebec H2W 1N3</td>\n",
       "      <td>45.515266</td>\n",
       "      <td>-73.574704</td>\n",
       "      <td>4.4</td>\n",
       "      <td>N/A</td>\n",
       "    </tr>\n",
       "  </tbody>\n",
       "</table>\n",
       "</div>"
      ],
      "text/plain": [
       "                                                    Name  \\\n",
       "28920                                      Como Pizzeria   \n",
       "28938                          Resto du Vieux La Prairie   \n",
       "28961                                      Quatro Bistro   \n",
       "28962                                 Eggsquis Laprairie   \n",
       "28971                 Thai Express Restaurant La Prairie   \n",
       "28979                         Restaurant Bar Sushi sogen   \n",
       "28992                                        Chez Julien   \n",
       "29036                                 Restaurant Boustan   \n",
       "29038                                    Bacaro Pizzeria   \n",
       "29160                                             Ramses   \n",
       "29173                                          Pizza Hut   \n",
       "29199                                             Subway   \n",
       "29211        3894207 Canada inc (Barbies - Siège Social)   \n",
       "29392                                         Yuzu sushi   \n",
       "29399                                         McDonald’s   \n",
       "29418                 Bacaro Pizzeria Express - Rockland   \n",
       "29424                                       Nickels Deli   \n",
       "29425                                        Bento Sushi   \n",
       "29428                                     Kenkō food bar   \n",
       "29440                      Jerry casse-croûte du Terroir   \n",
       "29454                                        Liv Salades   \n",
       "29475                         Pizzéria NO.900 - Rockland   \n",
       "29511                                      Sushi Miya Go   \n",
       "29537                                    Yko Chicken Bbq   \n",
       "29561                                     Domino's Pizza   \n",
       "29617                           Le Piment Rouge Beaumont   \n",
       "29625                                          Aki Sushi   \n",
       "29627                      APPAYON - Cuisine Bangladeshi   \n",
       "29631       SEGRETA Pizza AL Taglio + Epicerie Italienne   \n",
       "29636                                    Buffet Maharani   \n",
       "29638                               786 Restaurant Halal   \n",
       "29663                                           Thammada   \n",
       "29685                                          DJ POULET   \n",
       "29687                                    Restaurant Doan   \n",
       "29693                                      Lester's Deli   \n",
       "29694                  Les Enfants Terribles — Outremont   \n",
       "29739                       Pho Bep Cuisine Vietnamienne   \n",
       "29759                                       Yuukai sushi   \n",
       "29783                           Pizzeria Magpie Mile End   \n",
       "29938  Sushi Momo Le Comptoir - Takeout Counter Par C...   \n",
       "\n",
       "                                                 Address   Latitude  \\\n",
       "28920    577 Taschereau Blvd, La Prairie, Quebec J5R 1V4  45.411705   \n",
       "28938    238 Taschereau Blvd, La Prairie, Quebec J5R 1T1  45.416189   \n",
       "28961    825 Chem. de Saint-Jean, La Prairie, QC J5R 5E6  45.414144   \n",
       "28962    165 Taschereau Blvd, La Prairie, Quebec J5R 6G8  45.417395   \n",
       "28971  Place Perreault, 1028 Taschereau Blvd, La Prai...  45.406507   \n",
       "28979    170 Taschereau Blvd, La Prairie, Quebec J5R 5H6  45.417440   \n",
       "28992    130 Chem. de Saint-Jean, La Prairie, QC J5R 2J8  45.420380   \n",
       "29036                      56 QC-132, Delson, QC J5B 0A1  45.386179   \n",
       "29038    185 Taschereau Blvd, La Prairie, Quebec J5R 6G8  45.417291   \n",
       "29160     8500 Taschereau Blvd, Brossard, Quebec J4X 2T4  45.443856   \n",
       "29173     8245 Taschereau Blvd, Brossard, Quebec J4Y 1A4  45.448485   \n",
       "29199   9105 Bd Taschereau Local K, Brossard, QC J4Y 1V9  45.436635   \n",
       "29211  3050 Boul Matte local h, Brossard, Quebec J4Y 0G5  45.432530   \n",
       "29392  8015 Bd du Quartier #103, Brossard, Quebec J4Y...  45.440074   \n",
       "29399          8025 Bd du Quartier, Brossard, QC J4Y 0N6  45.439709   \n",
       "29418  2305 Rockland Rd local 5614, Mount Royal, Queb...  45.528197   \n",
       "29424  2305 Chem. Rockland #5804, Mont-Royal, QC H3P 3E9  45.528197   \n",
       "29425  2305 Rockland Rd Unit 5605, Mount Royal, Quebe...  45.528197   \n",
       "29428      2305 Rockland Rd, Mount Royal, Quebec H3P 3E9  45.528197   \n",
       "29440      2305 Rockland Rd, Mount Royal, Quebec H3P 2Z3  45.526741   \n",
       "29454      2305 Rockland Rd, Mount Royal, Quebec H3P 3E9  45.528197   \n",
       "29475      2305 Rockland Rd, Mount Royal, Quebec H3P 3E9  45.527331   \n",
       "29511         1387 Chem. Athlone, Mont-Royal, QC H3R 3G2  45.515010   \n",
       "29537         133 Rue Jean-Talon O, Montréal, QC H2R 2W9  45.521885   \n",
       "29561       250 Graham Blvd, Mount Royal, Quebec H3P 2C5  45.520620   \n",
       "29617             495 Beaumont Ave, Montreal, Quebec H3N  45.527546   \n",
       "29625     1280 Beaumont Ave, Mount Royal, Quebec H3P 3E5  45.520230   \n",
       "29627               520 Av. Ogilvy, Montréal, QC H3N 1M8  45.528886   \n",
       "29631         413 Beaumont Ave, Montreal, Quebec H3N 1T6  45.528283   \n",
       "29636         808 Rue Jean-Talon O, Montréal, QC H3N 1S4  45.526017   \n",
       "29638         850 Rue Jean-Talon O, Montréal, QC H3N 1S4  45.525771   \n",
       "29663        1205 Bernard Ave, Outremont, Quebec H2V 1V5  45.520519   \n",
       "29685      1134 Ave Van Horne, Outremont, Quebec H2V 1J8  45.523410   \n",
       "29687       1356 Ave Van Horne, Montreal, Quebec H2V 1K5  45.520697   \n",
       "29693        1057 Bernard Ave, Outremont, Quebec H2V 1V1  45.522155   \n",
       "29694        1257 Bernard Ave, Outremont, Quebec H2V 1V8  45.519924   \n",
       "29739      102 Rue Saint-Viateur O, Montréal, QC H2T 2L1  45.524414   \n",
       "29759            5407 Park Ave, Montreal, Quebec H2V 4G9  45.522069   \n",
       "29783            16 Maguire St, Montreal, Quebec H2T 1B8  45.524703   \n",
       "29938          16 Ave des Pins, Montreal, Quebec H2W 1N3  45.515266   \n",
       "\n",
       "       Longitude  Rating Price Level  \n",
       "28920 -73.492798     4.4           2  \n",
       "28938 -73.489345     4.4           1  \n",
       "28961 -73.483159     4.6         N/A  \n",
       "28962 -73.487214     4.1           2  \n",
       "28971 -73.498465     3.6           1  \n",
       "28979 -73.488585     4.5           2  \n",
       "28992 -73.495147     4.7           3  \n",
       "29036 -73.547274     4.4           1  \n",
       "29038 -73.487185     4.3           2  \n",
       "29160 -73.473414     4.1           2  \n",
       "29173 -73.468294     3.2           2  \n",
       "29199 -73.472942     3.1           1  \n",
       "29211 -73.471030     3.6           2  \n",
       "29392 -73.442828     3.9           2  \n",
       "29399 -73.443043     3.1           1  \n",
       "29418 -73.648124     3.4           2  \n",
       "29424 -73.648124     2.2           2  \n",
       "29425 -73.648124     2.1           2  \n",
       "29428 -73.648124     4.1         N/A  \n",
       "29440 -73.648867     4.9         N/A  \n",
       "29454 -73.648124     3.0         N/A  \n",
       "29475 -73.648573     4.4           2  \n",
       "29511 -73.645793     4.5         N/A  \n",
       "29537 -73.627505     0.0         N/A  \n",
       "29561 -73.627472     3.8           1  \n",
       "29617 -73.619667     4.0         N/A  \n",
       "29625 -73.624282     5.0           2  \n",
       "29627 -73.625209     4.2           1  \n",
       "29631 -73.618920     4.8         N/A  \n",
       "29636 -73.624529     4.1           1  \n",
       "29638 -73.624752     3.9           1  \n",
       "29663 -73.608732     4.3         N/A  \n",
       "29685 -73.612128     4.3           1  \n",
       "29687 -73.614481     4.5         N/A  \n",
       "29693 -73.607131     4.4           2  \n",
       "29694 -73.609135     3.9           3  \n",
       "29739 -73.600046     4.5         N/A  \n",
       "29759 -73.601220     4.5           2  \n",
       "29783 -73.595522     4.4           2  \n",
       "29938 -73.574704     4.4         N/A  "
      ]
     },
     "execution_count": 195,
     "metadata": {},
     "output_type": "execute_result"
    }
   ],
   "source": [
    "restruants_in_montreal_collected_unique.tail(40)\n"
   ]
  },
  {
   "cell_type": "markdown",
   "metadata": {},
   "source": [
    "## Add GeoHashes"
   ]
  },
  {
   "cell_type": "code",
   "execution_count": 196,
   "metadata": {},
   "outputs": [],
   "source": [
    "import geohash\n",
    "\n",
    "# Function to generate geohash\n",
    "def compute_geohash(row, precision=5):\n",
    "    return geohash.encode(row['Latitude'], row['Longitude'], precision=precision)\n"
   ]
  },
  {
   "cell_type": "code",
   "execution_count": 197,
   "metadata": {},
   "outputs": [
    {
     "name": "stderr",
     "output_type": "stream",
     "text": [
      "C:\\Users\\Laven\\AppData\\Local\\Temp\\ipykernel_35620\\2990376992.py:2: SettingWithCopyWarning: \n",
      "A value is trying to be set on a copy of a slice from a DataFrame.\n",
      "Try using .loc[row_indexer,col_indexer] = value instead\n",
      "\n",
      "See the caveats in the documentation: https://pandas.pydata.org/pandas-docs/stable/user_guide/indexing.html#returning-a-view-versus-a-copy\n",
      "  restruants_in_montreal_collected_unique['Geohash'] = restruants_in_montreal_collected_unique.apply(compute_geohash, axis=1)\n"
     ]
    }
   ],
   "source": [
    "# Apply the function to each row in the DataFrame\n",
    "restruants_in_montreal_collected_unique['Geohash'] = restruants_in_montreal_collected_unique.apply(compute_geohash, axis=1)\n"
   ]
  },
  {
   "cell_type": "code",
   "execution_count": 198,
   "metadata": {},
   "outputs": [
    {
     "data": {
      "text/html": [
       "<div>\n",
       "<style scoped>\n",
       "    .dataframe tbody tr th:only-of-type {\n",
       "        vertical-align: middle;\n",
       "    }\n",
       "\n",
       "    .dataframe tbody tr th {\n",
       "        vertical-align: top;\n",
       "    }\n",
       "\n",
       "    .dataframe thead th {\n",
       "        text-align: right;\n",
       "    }\n",
       "</style>\n",
       "<table border=\"1\" class=\"dataframe\">\n",
       "  <thead>\n",
       "    <tr style=\"text-align: right;\">\n",
       "      <th></th>\n",
       "      <th>Name</th>\n",
       "      <th>Address</th>\n",
       "      <th>Latitude</th>\n",
       "      <th>Longitude</th>\n",
       "      <th>Rating</th>\n",
       "      <th>Price Level</th>\n",
       "      <th>Geohash</th>\n",
       "    </tr>\n",
       "  </thead>\n",
       "  <tbody>\n",
       "    <tr>\n",
       "      <th>0</th>\n",
       "      <td>Restaurant Branzino</td>\n",
       "      <td>50 René-Lévesque Blvd W, Montreal, Quebec H2Z 1A2</td>\n",
       "      <td>45.508147</td>\n",
       "      <td>-73.561650</td>\n",
       "      <td>3.9</td>\n",
       "      <td>N/A</td>\n",
       "      <td>f25dy</td>\n",
       "    </tr>\n",
       "    <tr>\n",
       "      <th>1</th>\n",
       "      <td>Bar et Restaurant La Catrina - Vieux-Port</td>\n",
       "      <td>119 De la Commune St W, Montreal, Quebec H2Y 2C7</td>\n",
       "      <td>45.503820</td>\n",
       "      <td>-73.553983</td>\n",
       "      <td>4.1</td>\n",
       "      <td>2</td>\n",
       "      <td>f25dy</td>\n",
       "    </tr>\n",
       "    <tr>\n",
       "      <th>2</th>\n",
       "      <td>COMMODORE restaurant Montréal</td>\n",
       "      <td>355 Blvd. De Maisonneuve Ouest, Montreal, Queb...</td>\n",
       "      <td>45.507151</td>\n",
       "      <td>-73.569114</td>\n",
       "      <td>3.9</td>\n",
       "      <td>N/A</td>\n",
       "      <td>f25dv</td>\n",
       "    </tr>\n",
       "    <tr>\n",
       "      <th>3</th>\n",
       "      <td>Restaurant Keung Kee</td>\n",
       "      <td>70 Rue De la Gauchetière O, Montréal, QC H2Z 1C1</td>\n",
       "      <td>45.507253</td>\n",
       "      <td>-73.560407</td>\n",
       "      <td>3.9</td>\n",
       "      <td>2</td>\n",
       "      <td>f25dy</td>\n",
       "    </tr>\n",
       "    <tr>\n",
       "      <th>4</th>\n",
       "      <td>Beijing Restaurant</td>\n",
       "      <td>92 Rue De la Gauchetière O, Montréal, QC H2Z 1C1</td>\n",
       "      <td>45.506930</td>\n",
       "      <td>-73.560560</td>\n",
       "      <td>4.1</td>\n",
       "      <td>2</td>\n",
       "      <td>f25dy</td>\n",
       "    </tr>\n",
       "    <tr>\n",
       "      <th>...</th>\n",
       "      <td>...</td>\n",
       "      <td>...</td>\n",
       "      <td>...</td>\n",
       "      <td>...</td>\n",
       "      <td>...</td>\n",
       "      <td>...</td>\n",
       "      <td>...</td>\n",
       "    </tr>\n",
       "    <tr>\n",
       "      <th>29694</th>\n",
       "      <td>Les Enfants Terribles — Outremont</td>\n",
       "      <td>1257 Bernard Ave, Outremont, Quebec H2V 1V8</td>\n",
       "      <td>45.519924</td>\n",
       "      <td>-73.609135</td>\n",
       "      <td>3.9</td>\n",
       "      <td>3</td>\n",
       "      <td>f25du</td>\n",
       "    </tr>\n",
       "    <tr>\n",
       "      <th>29739</th>\n",
       "      <td>Pho Bep Cuisine Vietnamienne</td>\n",
       "      <td>102 Rue Saint-Viateur O, Montréal, QC H2T 2L1</td>\n",
       "      <td>45.524414</td>\n",
       "      <td>-73.600046</td>\n",
       "      <td>4.5</td>\n",
       "      <td>N/A</td>\n",
       "      <td>f25dv</td>\n",
       "    </tr>\n",
       "    <tr>\n",
       "      <th>29759</th>\n",
       "      <td>Yuukai sushi</td>\n",
       "      <td>5407 Park Ave, Montreal, Quebec H2V 4G9</td>\n",
       "      <td>45.522069</td>\n",
       "      <td>-73.601220</td>\n",
       "      <td>4.5</td>\n",
       "      <td>2</td>\n",
       "      <td>f25dv</td>\n",
       "    </tr>\n",
       "    <tr>\n",
       "      <th>29783</th>\n",
       "      <td>Pizzeria Magpie Mile End</td>\n",
       "      <td>16 Maguire St, Montreal, Quebec H2T 1B8</td>\n",
       "      <td>45.524703</td>\n",
       "      <td>-73.595522</td>\n",
       "      <td>4.4</td>\n",
       "      <td>2</td>\n",
       "      <td>f25dv</td>\n",
       "    </tr>\n",
       "    <tr>\n",
       "      <th>29938</th>\n",
       "      <td>Sushi Momo Le Comptoir - Takeout Counter Par C...</td>\n",
       "      <td>16 Ave des Pins, Montreal, Quebec H2W 1N3</td>\n",
       "      <td>45.515266</td>\n",
       "      <td>-73.574704</td>\n",
       "      <td>4.4</td>\n",
       "      <td>N/A</td>\n",
       "      <td>f25dv</td>\n",
       "    </tr>\n",
       "  </tbody>\n",
       "</table>\n",
       "<p>2772 rows × 7 columns</p>\n",
       "</div>"
      ],
      "text/plain": [
       "                                                    Name  \\\n",
       "0                                    Restaurant Branzino   \n",
       "1              Bar et Restaurant La Catrina - Vieux-Port   \n",
       "2                          COMMODORE restaurant Montréal   \n",
       "3                                   Restaurant Keung Kee   \n",
       "4                                     Beijing Restaurant   \n",
       "...                                                  ...   \n",
       "29694                  Les Enfants Terribles — Outremont   \n",
       "29739                       Pho Bep Cuisine Vietnamienne   \n",
       "29759                                       Yuukai sushi   \n",
       "29783                           Pizzeria Magpie Mile End   \n",
       "29938  Sushi Momo Le Comptoir - Takeout Counter Par C...   \n",
       "\n",
       "                                                 Address   Latitude  \\\n",
       "0      50 René-Lévesque Blvd W, Montreal, Quebec H2Z 1A2  45.508147   \n",
       "1       119 De la Commune St W, Montreal, Quebec H2Y 2C7  45.503820   \n",
       "2      355 Blvd. De Maisonneuve Ouest, Montreal, Queb...  45.507151   \n",
       "3       70 Rue De la Gauchetière O, Montréal, QC H2Z 1C1  45.507253   \n",
       "4       92 Rue De la Gauchetière O, Montréal, QC H2Z 1C1  45.506930   \n",
       "...                                                  ...        ...   \n",
       "29694        1257 Bernard Ave, Outremont, Quebec H2V 1V8  45.519924   \n",
       "29739      102 Rue Saint-Viateur O, Montréal, QC H2T 2L1  45.524414   \n",
       "29759            5407 Park Ave, Montreal, Quebec H2V 4G9  45.522069   \n",
       "29783            16 Maguire St, Montreal, Quebec H2T 1B8  45.524703   \n",
       "29938          16 Ave des Pins, Montreal, Quebec H2W 1N3  45.515266   \n",
       "\n",
       "       Longitude  Rating Price Level Geohash  \n",
       "0     -73.561650     3.9         N/A   f25dy  \n",
       "1     -73.553983     4.1           2   f25dy  \n",
       "2     -73.569114     3.9         N/A   f25dv  \n",
       "3     -73.560407     3.9           2   f25dy  \n",
       "4     -73.560560     4.1           2   f25dy  \n",
       "...          ...     ...         ...     ...  \n",
       "29694 -73.609135     3.9           3   f25du  \n",
       "29739 -73.600046     4.5         N/A   f25dv  \n",
       "29759 -73.601220     4.5           2   f25dv  \n",
       "29783 -73.595522     4.4           2   f25dv  \n",
       "29938 -73.574704     4.4         N/A   f25dv  \n",
       "\n",
       "[2772 rows x 7 columns]"
      ]
     },
     "execution_count": 198,
     "metadata": {},
     "output_type": "execute_result"
    }
   ],
   "source": [
    "restruants_in_montreal_collected_unique"
   ]
  },
  {
   "cell_type": "code",
   "execution_count": 201,
   "metadata": {},
   "outputs": [],
   "source": [
    "restruants_in_montreal_collected_unique.to_csv('restaurants_in_montreal_collected_unique_utf8.csv', index=False, encoding='utf-8-sig')\n"
   ]
  }
 ],
 "metadata": {
  "kernelspec": {
   "display_name": "lh_labs",
   "language": "python",
   "name": "lh_labs"
  },
  "language_info": {
   "codemirror_mode": {
    "name": "ipython",
    "version": 3
   },
   "file_extension": ".py",
   "mimetype": "text/x-python",
   "name": "python",
   "nbconvert_exporter": "python",
   "pygments_lexer": "ipython3",
   "version": "3.9.18"
  }
 },
 "nbformat": 4,
 "nbformat_minor": 2
}
