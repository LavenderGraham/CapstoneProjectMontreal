{
 "cells": [
  {
   "cell_type": "markdown",
   "metadata": {},
   "source": [
    "## Importing Libraries And Setting Working Directory"
   ]
  },
  {
   "cell_type": "code",
   "execution_count": 62,
   "metadata": {},
   "outputs": [],
   "source": [
    "import pandas as pd\n",
    "import os # use this to access your environment variables\n",
    "import requests # this will be used to call the APIs\n",
    "import numpy as np\n",
    "import time\n"
   ]
  },
  {
   "cell_type": "code",
   "execution_count": null,
   "metadata": {},
   "outputs": [],
   "source": [
    "os.chdir(\"C:/Users/Laven/Documents/Data_Analysis/Capstone_Project\")"
   ]
  },
  {
   "cell_type": "markdown",
   "metadata": {},
   "source": [
    "## Getting API Key\n"
   ]
  },
  {
   "cell_type": "code",
   "execution_count": 7,
   "metadata": {},
   "outputs": [],
   "source": [
    "google_api_key = os.getenv('GOOGLE_PLACES_API_KEY')"
   ]
  },
  {
   "cell_type": "markdown",
   "metadata": {},
   "source": [
    "## Querying Database"
   ]
  },
  {
   "cell_type": "code",
   "execution_count": 5,
   "metadata": {},
   "outputs": [],
   "source": [
    "google_parameters = {\n",
    "    'query': 'bar in Montreal',\n",
    "    'key': google_api_key,\n",
    "    'location': '45.5088,-73.5878',\n",
    "    'radius': 30000, \n",
    "}"
   ]
  },
  {
   "cell_type": "code",
   "execution_count": 19,
   "metadata": {},
   "outputs": [],
   "source": [
    "data = []\n",
    "response = requests.get('https://maps.googleapis.com/maps/api/place/textsearch/json', params=google_parameters)\n"
   ]
  },
  {
   "cell_type": "code",
   "execution_count": 20,
   "metadata": {},
   "outputs": [],
   "source": [
    "while True:\n",
    "    if response.status_code == 200:\n",
    "        response_json = response.json()\n",
    "        results = response_json.get('results', [])\n",
    "        for place in results:\n",
    "            data.append({\n",
    "                'Name': place.get('name'),\n",
    "                'Address': place.get('formatted_address'),\n",
    "                'Latitude': place['geometry']['location']['lat'],\n",
    "                'Longitude': place['geometry']['location']['lng'],\n",
    "                'Rating': place.get('rating', 'N/A'),  # Default if not available\n",
    "                'Price Level': place.get('price_level', 'N/A')  # Default if not available\n",
    "            })\n",
    "        next_page_token = response_json.get('next_page_token')\n",
    "        if not next_page_token:\n",
    "            break\n",
    "        time.sleep(2)  # Pause before making the next request\n",
    "        google_parameters['pagetoken'] = next_page_token\n",
    "        response = requests.get('https://maps.googleapis.com/maps/api/place/textsearch/json', params=google_parameters)\n",
    "    else:\n",
    "        print(f\"Request failed with status code {response.status_code}\")\n",
    "        break\n",
    "\n",
    "    "
   ]
  },
  {
   "cell_type": "code",
   "execution_count": 31,
   "metadata": {},
   "outputs": [
    {
     "data": {
      "text/plain": [
       "[{'Name': 'Bootlegger cocktail bar & cuisine',\n",
       "  'Address': '3481 St Laurent Blvd 2eme Etage, Montreal, Quebec H2X 2T6, Canada',\n",
       "  'Latitude': 45.5131942,\n",
       "  'Longitude': -73.5706793,\n",
       "  'Rating': 4.6,\n",
       "  'Price Level': 2},\n",
       " {'Name': 'Cloakroom Bar',\n",
       "  'Address': '2175 Rue de la Montagne #100, Montréal, QC H3G 1Z8, Canada',\n",
       "  'Latitude': 45.4994655,\n",
       "  'Longitude': -73.5778416,\n",
       "  'Rating': 4.7,\n",
       "  'Price Level': 3},\n",
       " {'Name': 'Bar Courcelle',\n",
       "  'Address': '4685 Notre-Dame St W, Montreal, Quebec H4C 1S7, Canada',\n",
       "  'Latitude': 45.472933,\n",
       "  'Longitude': -73.5888025,\n",
       "  'Rating': 4.4,\n",
       "  'Price Level': 2},\n",
       " {'Name': 'Philemon Bar',\n",
       "  'Address': '111 Saint-Paul St W, Montreal, Quebec H2Y 1Z5, Canada',\n",
       "  'Latitude': 45.5040576,\n",
       "  'Longitude': -73.5547406,\n",
       "  'Rating': 4,\n",
       "  'Price Level': 2},\n",
       " {'Name': 'Grumpys Bar',\n",
       "  'Address': '1242 Bishop St, Montreal, Quebec H3G 2E3, Canada',\n",
       "  'Latitude': 45.4960667,\n",
       "  'Longitude': -73.5757711,\n",
       "  'Rating': 4.4,\n",
       "  'Price Level': 1},\n",
       " {'Name': 'La Distillerie no.1',\n",
       "  'Address': '300 Ontario St E, Montreal, Quebec H2X 1H6, Canada',\n",
       "  'Latitude': 45.51481039999999,\n",
       "  'Longitude': -73.5654241,\n",
       "  'Rating': 4.6,\n",
       "  'Price Level': 2},\n",
       " {'Name': 'London Pub',\n",
       "  'Address': '1337 Maisonneuve Blvd W, Montreal, Quebec H3G 2C1, Canada',\n",
       "  'Latitude': 45.4982975,\n",
       "  'Longitude': -73.57749869999999,\n",
       "  'Rating': 4.3,\n",
       "  'Price Level': 2},\n",
       " {'Name': 'N sur Mackay',\n",
       "  'Address': '1244 Mackay St, Montreal, Quebec H3G 2H4, Canada',\n",
       "  'Latitude': 45.4953005,\n",
       "  'Longitude': -73.57623670000001,\n",
       "  'Rating': 4.5,\n",
       "  'Price Level': 2},\n",
       " {'Name': 'Bar Le Mal Nécessaire',\n",
       "  'Address': '1106B St Laurent Blvd, Montreal, Quebec H2Z 1J5, Canada',\n",
       "  'Latitude': 45.5085232,\n",
       "  'Longitude': -73.5611959,\n",
       "  'Rating': 4.5,\n",
       "  'Price Level': 2},\n",
       " {'Name': 'Nhậu bar',\n",
       "  'Address': '600 William St, Montreal, Quebec H3C 1N6, Canada',\n",
       "  'Latitude': 45.4997336,\n",
       "  'Longitude': -73.5561875,\n",
       "  'Rating': 4.2,\n",
       "  'Price Level': 'N/A'},\n",
       " {'Name': 'The Coldroom',\n",
       "  'Address': 'R. Saint-Vincent, Montréal, QC H2Y 1G8, Canada',\n",
       "  'Latitude': 45.5071838,\n",
       "  'Longitude': -73.55311689999999,\n",
       "  'Rating': 4.7,\n",
       "  'Price Level': 3},\n",
       " {'Name': 'El Pequeño Bar',\n",
       "  'Address': '401a R. Saint-Vincent, Montréal, QC H2Y 3A4, Canada',\n",
       "  'Latitude': 45.5071216,\n",
       "  'Longitude': -73.553145,\n",
       "  'Rating': 4.7,\n",
       "  'Price Level': 2},\n",
       " {'Name': 'Bar Waverly',\n",
       "  'Address': '5550 St Laurent Blvd, Montreal, Quebec H2T 1S8, Canada',\n",
       "  'Latitude': 45.5257571,\n",
       "  'Longitude': -73.5991868,\n",
       "  'Rating': 4.1,\n",
       "  'Price Level': 2},\n",
       " {'Name': 'Atwater Cocktail Club',\n",
       "  'Address': '512 Atwater Ave, Montreal, Quebec H4C 2G5, Canada',\n",
       "  'Latitude': 45.4814235,\n",
       "  'Longitude': -73.57832909999999,\n",
       "  'Rating': 4.6,\n",
       "  'Price Level': 2},\n",
       " {'Name': \"Ziggy's Pub\",\n",
       "  'Address': '1470 Crescent St, Montreal, Quebec H3G 2B6, Canada',\n",
       "  'Latitude': 45.4977765,\n",
       "  'Longitude': -73.57723370000001,\n",
       "  'Rating': 4.1,\n",
       "  'Price Level': 2},\n",
       " {'Name': 'Candi bar',\n",
       "  'Address': '1148 Mont-Royal Ave E, Montreal, Quebec H2J 1X8, Canada',\n",
       "  'Latitude': 45.52850830000001,\n",
       "  'Longitude': -73.57856629999999,\n",
       "  'Rating': 3.9,\n",
       "  'Price Level': 2},\n",
       " {'Name': 'Nacarat Bar, Queen Elizabeth Hotel, Montreal',\n",
       "  'Address': '900 René-Lévesque Blvd W, Montreal, Quebec H3B 4A5, Canada',\n",
       "  'Latitude': 45.5006599,\n",
       "  'Longitude': -73.5680847,\n",
       "  'Rating': 4.3,\n",
       "  'Price Level': 'N/A'},\n",
       " {'Name': \"Bar L'Barouf\",\n",
       "  'Address': '4171 Saint Denis St, Montreal, Quebec H2W 2M3, Canada',\n",
       "  'Latitude': 45.521809,\n",
       "  'Longitude': -73.577784,\n",
       "  'Rating': 4.1,\n",
       "  'Price Level': 2},\n",
       " {'Name': \"Pub L'Île Noire\",\n",
       "  'Address': '1649 Saint Denis St, Montreal, Quebec H2X 3K4, Canada',\n",
       "  'Latitude': 45.5152276,\n",
       "  'Longitude': -73.5633248,\n",
       "  'Rating': 4.6,\n",
       "  'Price Level': 2},\n",
       " {'Name': 'Barfly',\n",
       "  'Address': '4062 St Laurent Blvd, Montreal, Quebec H2W 1Y8, Canada',\n",
       "  'Latitude': 45.5170431,\n",
       "  'Longitude': -73.580043,\n",
       "  'Rating': 4.1,\n",
       "  'Price Level': 1},\n",
       " {'Name': 'Bar Renard',\n",
       "  'Address': '1272 St Catherine St E, Montreal, Quebec H2L 2H2, Canada',\n",
       "  'Latitude': 45.5190369,\n",
       "  'Longitude': -73.5554958,\n",
       "  'Rating': 4.3,\n",
       "  'Price Level': 2},\n",
       " {'Name': 'Taverne Midway',\n",
       "  'Address': '1219 St Laurent Blvd, Montreal, Quebec H2X 2S6, Canada',\n",
       "  'Latitude': 45.50974009999999,\n",
       "  'Longitude': -73.5632631,\n",
       "  'Rating': 4.3,\n",
       "  'Price Level': 2},\n",
       " {'Name': 'LE BAYOU BAR',\n",
       "  'Address': '4134 St Laurent Blvd, Montreal, Quebec H2W 1Y8, Canada',\n",
       "  'Latitude': 45.5176042,\n",
       "  'Longitude': -73.58108299999999,\n",
       "  'Rating': 3.9,\n",
       "  'Price Level': 'N/A'},\n",
       " {'Name': 'Mad Hatter Pub',\n",
       "  'Address': '1240 Crescent St, Montreal, Quebec H3G 2A9, Canada',\n",
       "  'Latitude': 45.496702,\n",
       "  'Longitude': -73.5752619,\n",
       "  'Rating': 4.3,\n",
       "  'Price Level': 1},\n",
       " {'Name': 'Bar MINĒRAL',\n",
       "  'Address': '1641 R. Atateken, Montréal, QC H2L 3L4, Canada',\n",
       "  'Latitude': 45.5187982,\n",
       "  'Longitude': -73.55970789999999,\n",
       "  'Rating': 4.5,\n",
       "  'Price Level': 'N/A'},\n",
       " {'Name': 'Moose Bawr',\n",
       "  'Address': '1817 Saint-Catherine St W, Montreal, Quebec H3H 1M2, Canada',\n",
       "  'Latitude': 45.49359279999999,\n",
       "  'Longitude': -73.57975139999999,\n",
       "  'Rating': 4.2,\n",
       "  'Price Level': 2},\n",
       " {'Name': 'Sir Winston Churchill Pub',\n",
       "  'Address': '1455 Crescent St, Montreal, Quebec H3G 2B2, Canada',\n",
       "  'Latitude': 45.4979112,\n",
       "  'Longitude': -73.5768909,\n",
       "  'Rating': 4,\n",
       "  'Price Level': 2},\n",
       " {'Name': \"Le P'tit Bar\",\n",
       "  'Address': '3451 Saint Denis St, Montreal, Quebec H2X 3L1, Canada',\n",
       "  'Latitude': 45.5175218,\n",
       "  'Longitude': -73.5683652,\n",
       "  'Rating': 4.5,\n",
       "  'Price Level': 1},\n",
       " {'Name': 'Bar Pamplemousse',\n",
       "  'Address': '1579 St Laurent Blvd, Montreal, Quebec H2X 2S9, Canada',\n",
       "  'Latitude': 45.510883,\n",
       "  'Longitude': -73.56566470000001,\n",
       "  'Rating': 4.5,\n",
       "  'Price Level': 2},\n",
       " {'Name': 'Bar A',\n",
       "  'Address': '213 Rue Rachel E, Montréal, QC H2W 1E4, Canada',\n",
       "  'Latitude': 45.5200081,\n",
       "  'Longitude': -73.5800179,\n",
       "  'Rating': 4.6,\n",
       "  'Price Level': 1},\n",
       " {'Name': 'Bar vodka',\n",
       "  'Address': '5505 Decarie Blvd, Montreal, Quebec H3W 3C7, Canada',\n",
       "  'Latitude': 45.4871389,\n",
       "  'Longitude': -73.6359497,\n",
       "  'Rating': 4.1,\n",
       "  'Price Level': 1},\n",
       " {'Name': 'Piranha Bar',\n",
       "  'Address': '680 Saint-Catherine St W, Montreal, Quebec H3B 1C2, Canada',\n",
       "  'Latitude': 45.5028519,\n",
       "  'Longitude': -73.5699419,\n",
       "  'Rating': 4.1,\n",
       "  'Price Level': 1},\n",
       " {'Name': 'Bar Plan-B',\n",
       "  'Address': '327 Mont-Royal Ave E, Montreal, Quebec H2T 1P8, Canada',\n",
       "  'Latitude': 45.5232361,\n",
       "  'Longitude': -73.5836781,\n",
       "  'Rating': 4.3,\n",
       "  'Price Level': 2},\n",
       " {'Name': 'Bar George',\n",
       "  'Address': 'Le Mount Stephen, 1440 Drummond St, Montreal, Quebec H3G 1V9, Canada',\n",
       "  'Latitude': 45.49904430000001,\n",
       "  'Longitude': -73.57577789999999,\n",
       "  'Rating': 4.5,\n",
       "  'Price Level': 3},\n",
       " {'Name': \"l'idéal bar & contenus\",\n",
       "  'Address': '151 Ontario St E, Montreal, Quebec H2X 1H5, Canada',\n",
       "  'Latitude': 45.5129854,\n",
       "  'Longitude': -73.5663466,\n",
       "  'Rating': 4.5,\n",
       "  'Price Level': 'N/A'},\n",
       " {'Name': 'BAR - Big in Japan',\n",
       "  'Address': '4175 St Laurent Blvd, Montreal, Quebec H2W 1Y7, Canada',\n",
       "  'Latitude': 45.5180321,\n",
       "  'Longitude': -73.5814716,\n",
       "  'Rating': 4.2,\n",
       "  'Price Level': 3},\n",
       " {'Name': 'Pub Andrew’s',\n",
       "  'Address': '1239 Guy St, Montreal, Quebec H3H 2K5, Canada',\n",
       "  'Latitude': 45.49484330000001,\n",
       "  'Longitude': -73.5770086,\n",
       "  'Rating': 4.3,\n",
       "  'Price Level': 1},\n",
       " {'Name': 'Bar Suzanne',\n",
       "  'Address': '20 Duluth Ave E, Montreal, Quebec H2W 1G6, Canada',\n",
       "  'Latitude': 45.51724170000001,\n",
       "  'Longitude': -73.5789417,\n",
       "  'Rating': 4.4,\n",
       "  'Price Level': 2},\n",
       " {'Name': 'Sans Soleil Bar',\n",
       "  'Address': '1002 Rue Saint-Urbain, Montréal, QC H2Z 1K6, Canada',\n",
       "  'Latitude': 45.5065579,\n",
       "  'Longitude': -73.560513,\n",
       "  'Rating': 4.6,\n",
       "  'Price Level': 'N/A'},\n",
       " {'Name': 'Bar Furco',\n",
       "  'Address': '425 Mayor St, Montreal, Quebec H3A 1N9, Canada',\n",
       "  'Latitude': 45.5059676,\n",
       "  'Longitude': -73.5690925,\n",
       "  'Rating': 4.1,\n",
       "  'Price Level': 2},\n",
       " {'Name': 'The MTL Bistro + Bar',\n",
       "  'Address': '4051 Rue St-Hubert, Montréal, QC H2L 4A7, Canada',\n",
       "  'Latitude': 45.5226257,\n",
       "  'Longitude': -73.5743013,\n",
       "  'Rating': 4.3,\n",
       "  'Price Level': 2},\n",
       " {'Name': 'Bar Rouge (Bar le Bievre)',\n",
       "  'Address': '5018 Decarie Blvd, Montreal, Quebec H3X 2H8, Canada',\n",
       "  'Latitude': 45.4831619,\n",
       "  'Longitude': -73.62879509999999,\n",
       "  'Rating': 3.8,\n",
       "  'Price Level': 1},\n",
       " {'Name': '132 Bar Vintage',\n",
       "  'Address': '132 Rue Fleury O, Montréal, QC H3L 1T4, Canada',\n",
       "  'Latitude': 45.5465666,\n",
       "  'Longitude': -73.6659009,\n",
       "  'Rating': 4.5,\n",
       "  'Price Level': 2},\n",
       " {'Name': 'Club Pelicano',\n",
       "  'Address': '1076 Rue de Bleury #001, Montreal, Quebec H2Z 1N2, Canada',\n",
       "  'Latitude': 45.50450559999999,\n",
       "  'Longitude': -73.5634331,\n",
       "  'Rating': 4.4,\n",
       "  'Price Level': 2},\n",
       " {'Name': 'Le 4ᶱ Mur',\n",
       "  'Address': '2021 Saint Denis St, Montreal, Quebec H2X 3K8, Canada',\n",
       "  'Latitude': 45.5162633,\n",
       "  'Longitude': -73.5657721,\n",
       "  'Rating': 4.6,\n",
       "  'Price Level': 3},\n",
       " {'Name': 'Bar Bifteck St-Laurent',\n",
       "  'Address': '3702 St Laurent Blvd, Montreal, Quebec H2X 2V4, Canada',\n",
       "  'Latitude': 45.5145904,\n",
       "  'Longitude': -73.5743638,\n",
       "  'Rating': 4,\n",
       "  'Price Level': 1},\n",
       " {'Name': 'MR250 Bar Lounge',\n",
       "  'Address': '250 Mont-Royal Ave E, Montreal, Quebec H2T 1P5, Canada',\n",
       "  'Latitude': 45.5224435,\n",
       "  'Longitude': -73.5840703,\n",
       "  'Rating': 4.3,\n",
       "  'Price Level': 1},\n",
       " {'Name': 'Honey Martin',\n",
       "  'Address': '5916 Sherbrooke St W, Montreal, Quebec H4A 1X7, Canada',\n",
       "  'Latitude': 45.4687522,\n",
       "  'Longitude': -73.6189579,\n",
       "  'Rating': 4.5,\n",
       "  'Price Level': 2},\n",
       " {'Name': \"McLean's Pub\",\n",
       "  'Address': '1210 Peel St, Montreal, Quebec H3B 2T6, Canada',\n",
       "  'Latitude': 45.4995305,\n",
       "  'Longitude': -73.5721343,\n",
       "  'Rating': 4.2,\n",
       "  'Price Level': 2},\n",
       " {'Name': 'McKibbin’s',\n",
       "  'Address': '1426 Bishop St, Montreal, Quebec H3G 2E6, Canada',\n",
       "  'Latitude': 45.496857,\n",
       "  'Longitude': -73.57723399999999,\n",
       "  'Rating': 4.4,\n",
       "  'Price Level': 2},\n",
       " {'Name': 'Le Boudoir café-bar Inc',\n",
       "  'Address': '850 Mont-Royal Ave E, Montreal, Quebec H2J 1X1, Canada',\n",
       "  'Latitude': 45.5262026,\n",
       "  'Longitude': -73.5806817,\n",
       "  'Rating': 4.3,\n",
       "  'Price Level': 2},\n",
       " {'Name': 'Bar Henrietta',\n",
       "  'Address': '115 Av. Laurier O, Montréal, QC H2T 2N6, Canada',\n",
       "  'Latitude': 45.5216231,\n",
       "  'Longitude': -73.59435359999999,\n",
       "  'Rating': 4.5,\n",
       "  'Price Level': 2},\n",
       " {'Name': 'Bar Le Record',\n",
       "  'Address': '7622 Rue St-Hubert, Montréal, QC H2R 2N6, Canada',\n",
       "  'Latitude': 45.5437649,\n",
       "  'Longitude': -73.6201608,\n",
       "  'Rating': 4.5,\n",
       "  'Price Level': 1},\n",
       " {'Name': 'Goldies Bar',\n",
       "  'Address': '7425 Rue Saint-Jacques, Montréal, QC H4B 1W6, Canada',\n",
       "  'Latitude': 45.4536354,\n",
       "  'Longitude': -73.63703749999999,\n",
       "  'Rating': 3.7,\n",
       "  'Price Level': 1},\n",
       " {'Name': 'Peel Pub - Sports Bar/Bar Sportif',\n",
       "  'Address': '1196 Peel St, Montreal, Quebec H3B 2T6, Canada',\n",
       "  'Latitude': 45.4994033,\n",
       "  'Longitude': -73.57194249999999,\n",
       "  'Rating': 3.8,\n",
       "  'Price Level': 1},\n",
       " {'Name': 'Le Cocktail',\n",
       "  'Address': '1669 St Catherine St E, Montreal, Quebec H2L 2J5, Canada',\n",
       "  'Latitude': 45.5222163,\n",
       "  'Longitude': -73.5528827,\n",
       "  'Rating': 4.2,\n",
       "  'Price Level': 'N/A'},\n",
       " {'Name': 'Bar Cicchetti',\n",
       "  'Address': '6703 Park Ave, Montreal, Quebec H2V 4J3, Canada',\n",
       "  'Latitude': 45.5287357,\n",
       "  'Longitude': -73.6163452,\n",
       "  'Rating': 4.5,\n",
       "  'Price Level': 2},\n",
       " {'Name': \"Hurley's Irish Pub\",\n",
       "  'Address': '1225 Crescent St, Montreal, Quebec H3G 2B1, Canada',\n",
       "  'Latitude': 45.4968637,\n",
       "  'Longitude': -73.57479289999999,\n",
       "  'Rating': 4.4,\n",
       "  'Price Level': 2},\n",
       " {'Name': 'Bar Sarah B',\n",
       "  'Address': '360 Rue Saint-Antoine O, Montréal, QC H2Y 3X4, Canada',\n",
       "  'Latitude': 45.5028077,\n",
       "  'Longitude': -73.56058399999999,\n",
       "  'Rating': 4.2,\n",
       "  'Price Level': 3},\n",
       " {'Name': 'Bar Le Jockey',\n",
       "  'Address': '1309 Rue Saint-Zotique E, Montreal, Quebec H2G 1G6, Canada',\n",
       "  'Latitude': 45.5417644,\n",
       "  'Longitude': -73.6029901,\n",
       "  'Rating': 4.5,\n",
       "  'Price Level': 2}]"
      ]
     },
     "execution_count": 31,
     "metadata": {},
     "output_type": "execute_result"
    }
   ],
   "source": [
    "data"
   ]
  },
  {
   "cell_type": "code",
   "execution_count": 32,
   "metadata": {},
   "outputs": [
    {
     "data": {
      "text/plain": [
       "60"
      ]
     },
     "execution_count": 32,
     "metadata": {},
     "output_type": "execute_result"
    }
   ],
   "source": [
    "len(data)"
   ]
  },
  {
   "cell_type": "code",
   "execution_count": 63,
   "metadata": {},
   "outputs": [],
   "source": [
    "# Convert the data into a DataFrame\n",
    "montreal_bars_df = pd.DataFrame(data)"
   ]
  },
  {
   "cell_type": "code",
   "execution_count": 23,
   "metadata": {},
   "outputs": [
    {
     "data": {
      "text/html": [
       "<div>\n",
       "<style scoped>\n",
       "    .dataframe tbody tr th:only-of-type {\n",
       "        vertical-align: middle;\n",
       "    }\n",
       "\n",
       "    .dataframe tbody tr th {\n",
       "        vertical-align: top;\n",
       "    }\n",
       "\n",
       "    .dataframe thead th {\n",
       "        text-align: right;\n",
       "    }\n",
       "</style>\n",
       "<table border=\"1\" class=\"dataframe\">\n",
       "  <thead>\n",
       "    <tr style=\"text-align: right;\">\n",
       "      <th></th>\n",
       "      <th>Name</th>\n",
       "      <th>Address</th>\n",
       "      <th>Latitude</th>\n",
       "      <th>Longitude</th>\n",
       "      <th>Rating</th>\n",
       "      <th>Price Level</th>\n",
       "    </tr>\n",
       "  </thead>\n",
       "  <tbody>\n",
       "    <tr>\n",
       "      <th>0</th>\n",
       "      <td>Bootlegger cocktail bar &amp; cuisine</td>\n",
       "      <td>3481 St Laurent Blvd 2eme Etage, Montreal, Que...</td>\n",
       "      <td>45.513194</td>\n",
       "      <td>-73.570679</td>\n",
       "      <td>4.6</td>\n",
       "      <td>2</td>\n",
       "    </tr>\n",
       "    <tr>\n",
       "      <th>1</th>\n",
       "      <td>Cloakroom Bar</td>\n",
       "      <td>2175 Rue de la Montagne #100, Montréal, QC H3G...</td>\n",
       "      <td>45.499465</td>\n",
       "      <td>-73.577842</td>\n",
       "      <td>4.7</td>\n",
       "      <td>3</td>\n",
       "    </tr>\n",
       "    <tr>\n",
       "      <th>2</th>\n",
       "      <td>Bar Courcelle</td>\n",
       "      <td>4685 Notre-Dame St W, Montreal, Quebec H4C 1S7...</td>\n",
       "      <td>45.472933</td>\n",
       "      <td>-73.588802</td>\n",
       "      <td>4.4</td>\n",
       "      <td>2</td>\n",
       "    </tr>\n",
       "    <tr>\n",
       "      <th>3</th>\n",
       "      <td>Philemon Bar</td>\n",
       "      <td>111 Saint-Paul St W, Montreal, Quebec H2Y 1Z5,...</td>\n",
       "      <td>45.504058</td>\n",
       "      <td>-73.554741</td>\n",
       "      <td>4.0</td>\n",
       "      <td>2</td>\n",
       "    </tr>\n",
       "    <tr>\n",
       "      <th>4</th>\n",
       "      <td>Grumpys Bar</td>\n",
       "      <td>1242 Bishop St, Montreal, Quebec H3G 2E3, Canada</td>\n",
       "      <td>45.496067</td>\n",
       "      <td>-73.575771</td>\n",
       "      <td>4.4</td>\n",
       "      <td>1</td>\n",
       "    </tr>\n",
       "    <tr>\n",
       "      <th>5</th>\n",
       "      <td>La Distillerie no.1</td>\n",
       "      <td>300 Ontario St E, Montreal, Quebec H2X 1H6, Ca...</td>\n",
       "      <td>45.514810</td>\n",
       "      <td>-73.565424</td>\n",
       "      <td>4.6</td>\n",
       "      <td>2</td>\n",
       "    </tr>\n",
       "    <tr>\n",
       "      <th>6</th>\n",
       "      <td>London Pub</td>\n",
       "      <td>1337 Maisonneuve Blvd W, Montreal, Quebec H3G ...</td>\n",
       "      <td>45.498297</td>\n",
       "      <td>-73.577499</td>\n",
       "      <td>4.3</td>\n",
       "      <td>2</td>\n",
       "    </tr>\n",
       "    <tr>\n",
       "      <th>7</th>\n",
       "      <td>N sur Mackay</td>\n",
       "      <td>1244 Mackay St, Montreal, Quebec H3G 2H4, Canada</td>\n",
       "      <td>45.495300</td>\n",
       "      <td>-73.576237</td>\n",
       "      <td>4.5</td>\n",
       "      <td>2</td>\n",
       "    </tr>\n",
       "    <tr>\n",
       "      <th>8</th>\n",
       "      <td>Bar Le Mal Nécessaire</td>\n",
       "      <td>1106B St Laurent Blvd, Montreal, Quebec H2Z 1J...</td>\n",
       "      <td>45.508523</td>\n",
       "      <td>-73.561196</td>\n",
       "      <td>4.5</td>\n",
       "      <td>2</td>\n",
       "    </tr>\n",
       "    <tr>\n",
       "      <th>9</th>\n",
       "      <td>Nhậu bar</td>\n",
       "      <td>600 William St, Montreal, Quebec H3C 1N6, Canada</td>\n",
       "      <td>45.499734</td>\n",
       "      <td>-73.556187</td>\n",
       "      <td>4.2</td>\n",
       "      <td>N/A</td>\n",
       "    </tr>\n",
       "    <tr>\n",
       "      <th>10</th>\n",
       "      <td>The Coldroom</td>\n",
       "      <td>R. Saint-Vincent, Montréal, QC H2Y 1G8, Canada</td>\n",
       "      <td>45.507184</td>\n",
       "      <td>-73.553117</td>\n",
       "      <td>4.7</td>\n",
       "      <td>3</td>\n",
       "    </tr>\n",
       "    <tr>\n",
       "      <th>11</th>\n",
       "      <td>El Pequeño Bar</td>\n",
       "      <td>401a R. Saint-Vincent, Montréal, QC H2Y 3A4, C...</td>\n",
       "      <td>45.507122</td>\n",
       "      <td>-73.553145</td>\n",
       "      <td>4.7</td>\n",
       "      <td>2</td>\n",
       "    </tr>\n",
       "    <tr>\n",
       "      <th>12</th>\n",
       "      <td>Bar Waverly</td>\n",
       "      <td>5550 St Laurent Blvd, Montreal, Quebec H2T 1S8...</td>\n",
       "      <td>45.525757</td>\n",
       "      <td>-73.599187</td>\n",
       "      <td>4.1</td>\n",
       "      <td>2</td>\n",
       "    </tr>\n",
       "    <tr>\n",
       "      <th>13</th>\n",
       "      <td>Atwater Cocktail Club</td>\n",
       "      <td>512 Atwater Ave, Montreal, Quebec H4C 2G5, Canada</td>\n",
       "      <td>45.481423</td>\n",
       "      <td>-73.578329</td>\n",
       "      <td>4.6</td>\n",
       "      <td>2</td>\n",
       "    </tr>\n",
       "    <tr>\n",
       "      <th>14</th>\n",
       "      <td>Ziggy's Pub</td>\n",
       "      <td>1470 Crescent St, Montreal, Quebec H3G 2B6, Ca...</td>\n",
       "      <td>45.497777</td>\n",
       "      <td>-73.577234</td>\n",
       "      <td>4.1</td>\n",
       "      <td>2</td>\n",
       "    </tr>\n",
       "    <tr>\n",
       "      <th>15</th>\n",
       "      <td>Candi bar</td>\n",
       "      <td>1148 Mont-Royal Ave E, Montreal, Quebec H2J 1X...</td>\n",
       "      <td>45.528508</td>\n",
       "      <td>-73.578566</td>\n",
       "      <td>3.9</td>\n",
       "      <td>2</td>\n",
       "    </tr>\n",
       "    <tr>\n",
       "      <th>16</th>\n",
       "      <td>Nacarat Bar, Queen Elizabeth Hotel, Montreal</td>\n",
       "      <td>900 René-Lévesque Blvd W, Montreal, Quebec H3B...</td>\n",
       "      <td>45.500660</td>\n",
       "      <td>-73.568085</td>\n",
       "      <td>4.3</td>\n",
       "      <td>N/A</td>\n",
       "    </tr>\n",
       "    <tr>\n",
       "      <th>17</th>\n",
       "      <td>Bar L'Barouf</td>\n",
       "      <td>4171 Saint Denis St, Montreal, Quebec H2W 2M3,...</td>\n",
       "      <td>45.521809</td>\n",
       "      <td>-73.577784</td>\n",
       "      <td>4.1</td>\n",
       "      <td>2</td>\n",
       "    </tr>\n",
       "    <tr>\n",
       "      <th>18</th>\n",
       "      <td>Pub L'Île Noire</td>\n",
       "      <td>1649 Saint Denis St, Montreal, Quebec H2X 3K4,...</td>\n",
       "      <td>45.515228</td>\n",
       "      <td>-73.563325</td>\n",
       "      <td>4.6</td>\n",
       "      <td>2</td>\n",
       "    </tr>\n",
       "    <tr>\n",
       "      <th>19</th>\n",
       "      <td>Barfly</td>\n",
       "      <td>4062 St Laurent Blvd, Montreal, Quebec H2W 1Y8...</td>\n",
       "      <td>45.517043</td>\n",
       "      <td>-73.580043</td>\n",
       "      <td>4.1</td>\n",
       "      <td>1</td>\n",
       "    </tr>\n",
       "    <tr>\n",
       "      <th>20</th>\n",
       "      <td>Bar Renard</td>\n",
       "      <td>1272 St Catherine St E, Montreal, Quebec H2L 2...</td>\n",
       "      <td>45.519037</td>\n",
       "      <td>-73.555496</td>\n",
       "      <td>4.3</td>\n",
       "      <td>2</td>\n",
       "    </tr>\n",
       "    <tr>\n",
       "      <th>21</th>\n",
       "      <td>Taverne Midway</td>\n",
       "      <td>1219 St Laurent Blvd, Montreal, Quebec H2X 2S6...</td>\n",
       "      <td>45.509740</td>\n",
       "      <td>-73.563263</td>\n",
       "      <td>4.3</td>\n",
       "      <td>2</td>\n",
       "    </tr>\n",
       "    <tr>\n",
       "      <th>22</th>\n",
       "      <td>LE BAYOU BAR</td>\n",
       "      <td>4134 St Laurent Blvd, Montreal, Quebec H2W 1Y8...</td>\n",
       "      <td>45.517604</td>\n",
       "      <td>-73.581083</td>\n",
       "      <td>3.9</td>\n",
       "      <td>N/A</td>\n",
       "    </tr>\n",
       "    <tr>\n",
       "      <th>23</th>\n",
       "      <td>Mad Hatter Pub</td>\n",
       "      <td>1240 Crescent St, Montreal, Quebec H3G 2A9, Ca...</td>\n",
       "      <td>45.496702</td>\n",
       "      <td>-73.575262</td>\n",
       "      <td>4.3</td>\n",
       "      <td>1</td>\n",
       "    </tr>\n",
       "    <tr>\n",
       "      <th>24</th>\n",
       "      <td>Bar MINĒRAL</td>\n",
       "      <td>1641 R. Atateken, Montréal, QC H2L 3L4, Canada</td>\n",
       "      <td>45.518798</td>\n",
       "      <td>-73.559708</td>\n",
       "      <td>4.5</td>\n",
       "      <td>N/A</td>\n",
       "    </tr>\n",
       "    <tr>\n",
       "      <th>25</th>\n",
       "      <td>Moose Bawr</td>\n",
       "      <td>1817 Saint-Catherine St W, Montreal, Quebec H3...</td>\n",
       "      <td>45.493593</td>\n",
       "      <td>-73.579751</td>\n",
       "      <td>4.2</td>\n",
       "      <td>2</td>\n",
       "    </tr>\n",
       "    <tr>\n",
       "      <th>26</th>\n",
       "      <td>Sir Winston Churchill Pub</td>\n",
       "      <td>1455 Crescent St, Montreal, Quebec H3G 2B2, Ca...</td>\n",
       "      <td>45.497911</td>\n",
       "      <td>-73.576891</td>\n",
       "      <td>4.0</td>\n",
       "      <td>2</td>\n",
       "    </tr>\n",
       "    <tr>\n",
       "      <th>27</th>\n",
       "      <td>Le P'tit Bar</td>\n",
       "      <td>3451 Saint Denis St, Montreal, Quebec H2X 3L1,...</td>\n",
       "      <td>45.517522</td>\n",
       "      <td>-73.568365</td>\n",
       "      <td>4.5</td>\n",
       "      <td>1</td>\n",
       "    </tr>\n",
       "    <tr>\n",
       "      <th>28</th>\n",
       "      <td>Bar Pamplemousse</td>\n",
       "      <td>1579 St Laurent Blvd, Montreal, Quebec H2X 2S9...</td>\n",
       "      <td>45.510883</td>\n",
       "      <td>-73.565665</td>\n",
       "      <td>4.5</td>\n",
       "      <td>2</td>\n",
       "    </tr>\n",
       "    <tr>\n",
       "      <th>29</th>\n",
       "      <td>Bar A</td>\n",
       "      <td>213 Rue Rachel E, Montréal, QC H2W 1E4, Canada</td>\n",
       "      <td>45.520008</td>\n",
       "      <td>-73.580018</td>\n",
       "      <td>4.6</td>\n",
       "      <td>1</td>\n",
       "    </tr>\n",
       "    <tr>\n",
       "      <th>30</th>\n",
       "      <td>Bar vodka</td>\n",
       "      <td>5505 Decarie Blvd, Montreal, Quebec H3W 3C7, C...</td>\n",
       "      <td>45.487139</td>\n",
       "      <td>-73.635950</td>\n",
       "      <td>4.1</td>\n",
       "      <td>1</td>\n",
       "    </tr>\n",
       "    <tr>\n",
       "      <th>31</th>\n",
       "      <td>Piranha Bar</td>\n",
       "      <td>680 Saint-Catherine St W, Montreal, Quebec H3B...</td>\n",
       "      <td>45.502852</td>\n",
       "      <td>-73.569942</td>\n",
       "      <td>4.1</td>\n",
       "      <td>1</td>\n",
       "    </tr>\n",
       "    <tr>\n",
       "      <th>32</th>\n",
       "      <td>Bar Plan-B</td>\n",
       "      <td>327 Mont-Royal Ave E, Montreal, Quebec H2T 1P8...</td>\n",
       "      <td>45.523236</td>\n",
       "      <td>-73.583678</td>\n",
       "      <td>4.3</td>\n",
       "      <td>2</td>\n",
       "    </tr>\n",
       "    <tr>\n",
       "      <th>33</th>\n",
       "      <td>Bar George</td>\n",
       "      <td>Le Mount Stephen, 1440 Drummond St, Montreal, ...</td>\n",
       "      <td>45.499044</td>\n",
       "      <td>-73.575778</td>\n",
       "      <td>4.5</td>\n",
       "      <td>3</td>\n",
       "    </tr>\n",
       "    <tr>\n",
       "      <th>34</th>\n",
       "      <td>l'idéal bar &amp; contenus</td>\n",
       "      <td>151 Ontario St E, Montreal, Quebec H2X 1H5, Ca...</td>\n",
       "      <td>45.512985</td>\n",
       "      <td>-73.566347</td>\n",
       "      <td>4.5</td>\n",
       "      <td>N/A</td>\n",
       "    </tr>\n",
       "    <tr>\n",
       "      <th>35</th>\n",
       "      <td>BAR - Big in Japan</td>\n",
       "      <td>4175 St Laurent Blvd, Montreal, Quebec H2W 1Y7...</td>\n",
       "      <td>45.518032</td>\n",
       "      <td>-73.581472</td>\n",
       "      <td>4.2</td>\n",
       "      <td>3</td>\n",
       "    </tr>\n",
       "    <tr>\n",
       "      <th>36</th>\n",
       "      <td>Pub Andrew’s</td>\n",
       "      <td>1239 Guy St, Montreal, Quebec H3H 2K5, Canada</td>\n",
       "      <td>45.494843</td>\n",
       "      <td>-73.577009</td>\n",
       "      <td>4.3</td>\n",
       "      <td>1</td>\n",
       "    </tr>\n",
       "    <tr>\n",
       "      <th>37</th>\n",
       "      <td>Bar Suzanne</td>\n",
       "      <td>20 Duluth Ave E, Montreal, Quebec H2W 1G6, Canada</td>\n",
       "      <td>45.517242</td>\n",
       "      <td>-73.578942</td>\n",
       "      <td>4.4</td>\n",
       "      <td>2</td>\n",
       "    </tr>\n",
       "    <tr>\n",
       "      <th>38</th>\n",
       "      <td>Sans Soleil Bar</td>\n",
       "      <td>1002 Rue Saint-Urbain, Montréal, QC H2Z 1K6, C...</td>\n",
       "      <td>45.506558</td>\n",
       "      <td>-73.560513</td>\n",
       "      <td>4.6</td>\n",
       "      <td>N/A</td>\n",
       "    </tr>\n",
       "    <tr>\n",
       "      <th>39</th>\n",
       "      <td>Bar Furco</td>\n",
       "      <td>425 Mayor St, Montreal, Quebec H3A 1N9, Canada</td>\n",
       "      <td>45.505968</td>\n",
       "      <td>-73.569092</td>\n",
       "      <td>4.1</td>\n",
       "      <td>2</td>\n",
       "    </tr>\n",
       "    <tr>\n",
       "      <th>40</th>\n",
       "      <td>The MTL Bistro + Bar</td>\n",
       "      <td>4051 Rue St-Hubert, Montréal, QC H2L 4A7, Canada</td>\n",
       "      <td>45.522626</td>\n",
       "      <td>-73.574301</td>\n",
       "      <td>4.3</td>\n",
       "      <td>2</td>\n",
       "    </tr>\n",
       "    <tr>\n",
       "      <th>41</th>\n",
       "      <td>Bar Rouge (Bar le Bievre)</td>\n",
       "      <td>5018 Decarie Blvd, Montreal, Quebec H3X 2H8, C...</td>\n",
       "      <td>45.483162</td>\n",
       "      <td>-73.628795</td>\n",
       "      <td>3.8</td>\n",
       "      <td>1</td>\n",
       "    </tr>\n",
       "    <tr>\n",
       "      <th>42</th>\n",
       "      <td>132 Bar Vintage</td>\n",
       "      <td>132 Rue Fleury O, Montréal, QC H3L 1T4, Canada</td>\n",
       "      <td>45.546567</td>\n",
       "      <td>-73.665901</td>\n",
       "      <td>4.5</td>\n",
       "      <td>2</td>\n",
       "    </tr>\n",
       "    <tr>\n",
       "      <th>43</th>\n",
       "      <td>Club Pelicano</td>\n",
       "      <td>1076 Rue de Bleury #001, Montreal, Quebec H2Z ...</td>\n",
       "      <td>45.504506</td>\n",
       "      <td>-73.563433</td>\n",
       "      <td>4.4</td>\n",
       "      <td>2</td>\n",
       "    </tr>\n",
       "    <tr>\n",
       "      <th>44</th>\n",
       "      <td>Le 4ᶱ Mur</td>\n",
       "      <td>2021 Saint Denis St, Montreal, Quebec H2X 3K8,...</td>\n",
       "      <td>45.516263</td>\n",
       "      <td>-73.565772</td>\n",
       "      <td>4.6</td>\n",
       "      <td>3</td>\n",
       "    </tr>\n",
       "    <tr>\n",
       "      <th>45</th>\n",
       "      <td>Bar Bifteck St-Laurent</td>\n",
       "      <td>3702 St Laurent Blvd, Montreal, Quebec H2X 2V4...</td>\n",
       "      <td>45.514590</td>\n",
       "      <td>-73.574364</td>\n",
       "      <td>4.0</td>\n",
       "      <td>1</td>\n",
       "    </tr>\n",
       "    <tr>\n",
       "      <th>46</th>\n",
       "      <td>MR250 Bar Lounge</td>\n",
       "      <td>250 Mont-Royal Ave E, Montreal, Quebec H2T 1P5...</td>\n",
       "      <td>45.522444</td>\n",
       "      <td>-73.584070</td>\n",
       "      <td>4.3</td>\n",
       "      <td>1</td>\n",
       "    </tr>\n",
       "    <tr>\n",
       "      <th>47</th>\n",
       "      <td>Honey Martin</td>\n",
       "      <td>5916 Sherbrooke St W, Montreal, Quebec H4A 1X7...</td>\n",
       "      <td>45.468752</td>\n",
       "      <td>-73.618958</td>\n",
       "      <td>4.5</td>\n",
       "      <td>2</td>\n",
       "    </tr>\n",
       "    <tr>\n",
       "      <th>48</th>\n",
       "      <td>McLean's Pub</td>\n",
       "      <td>1210 Peel St, Montreal, Quebec H3B 2T6, Canada</td>\n",
       "      <td>45.499530</td>\n",
       "      <td>-73.572134</td>\n",
       "      <td>4.2</td>\n",
       "      <td>2</td>\n",
       "    </tr>\n",
       "    <tr>\n",
       "      <th>49</th>\n",
       "      <td>McKibbin’s</td>\n",
       "      <td>1426 Bishop St, Montreal, Quebec H3G 2E6, Canada</td>\n",
       "      <td>45.496857</td>\n",
       "      <td>-73.577234</td>\n",
       "      <td>4.4</td>\n",
       "      <td>2</td>\n",
       "    </tr>\n",
       "    <tr>\n",
       "      <th>50</th>\n",
       "      <td>Le Boudoir café-bar Inc</td>\n",
       "      <td>850 Mont-Royal Ave E, Montreal, Quebec H2J 1X1...</td>\n",
       "      <td>45.526203</td>\n",
       "      <td>-73.580682</td>\n",
       "      <td>4.3</td>\n",
       "      <td>2</td>\n",
       "    </tr>\n",
       "    <tr>\n",
       "      <th>51</th>\n",
       "      <td>Bar Henrietta</td>\n",
       "      <td>115 Av. Laurier O, Montréal, QC H2T 2N6, Canada</td>\n",
       "      <td>45.521623</td>\n",
       "      <td>-73.594354</td>\n",
       "      <td>4.5</td>\n",
       "      <td>2</td>\n",
       "    </tr>\n",
       "    <tr>\n",
       "      <th>52</th>\n",
       "      <td>Bar Le Record</td>\n",
       "      <td>7622 Rue St-Hubert, Montréal, QC H2R 2N6, Canada</td>\n",
       "      <td>45.543765</td>\n",
       "      <td>-73.620161</td>\n",
       "      <td>4.5</td>\n",
       "      <td>1</td>\n",
       "    </tr>\n",
       "    <tr>\n",
       "      <th>53</th>\n",
       "      <td>Goldies Bar</td>\n",
       "      <td>7425 Rue Saint-Jacques, Montréal, QC H4B 1W6, ...</td>\n",
       "      <td>45.453635</td>\n",
       "      <td>-73.637037</td>\n",
       "      <td>3.7</td>\n",
       "      <td>1</td>\n",
       "    </tr>\n",
       "    <tr>\n",
       "      <th>54</th>\n",
       "      <td>Peel Pub - Sports Bar/Bar Sportif</td>\n",
       "      <td>1196 Peel St, Montreal, Quebec H3B 2T6, Canada</td>\n",
       "      <td>45.499403</td>\n",
       "      <td>-73.571942</td>\n",
       "      <td>3.8</td>\n",
       "      <td>1</td>\n",
       "    </tr>\n",
       "    <tr>\n",
       "      <th>55</th>\n",
       "      <td>Le Cocktail</td>\n",
       "      <td>1669 St Catherine St E, Montreal, Quebec H2L 2...</td>\n",
       "      <td>45.522216</td>\n",
       "      <td>-73.552883</td>\n",
       "      <td>4.2</td>\n",
       "      <td>N/A</td>\n",
       "    </tr>\n",
       "    <tr>\n",
       "      <th>56</th>\n",
       "      <td>Bar Cicchetti</td>\n",
       "      <td>6703 Park Ave, Montreal, Quebec H2V 4J3, Canada</td>\n",
       "      <td>45.528736</td>\n",
       "      <td>-73.616345</td>\n",
       "      <td>4.5</td>\n",
       "      <td>2</td>\n",
       "    </tr>\n",
       "    <tr>\n",
       "      <th>57</th>\n",
       "      <td>Hurley's Irish Pub</td>\n",
       "      <td>1225 Crescent St, Montreal, Quebec H3G 2B1, Ca...</td>\n",
       "      <td>45.496864</td>\n",
       "      <td>-73.574793</td>\n",
       "      <td>4.4</td>\n",
       "      <td>2</td>\n",
       "    </tr>\n",
       "    <tr>\n",
       "      <th>58</th>\n",
       "      <td>Bar Sarah B</td>\n",
       "      <td>360 Rue Saint-Antoine O, Montréal, QC H2Y 3X4,...</td>\n",
       "      <td>45.502808</td>\n",
       "      <td>-73.560584</td>\n",
       "      <td>4.2</td>\n",
       "      <td>3</td>\n",
       "    </tr>\n",
       "    <tr>\n",
       "      <th>59</th>\n",
       "      <td>Bar Le Jockey</td>\n",
       "      <td>1309 Rue Saint-Zotique E, Montreal, Quebec H2G...</td>\n",
       "      <td>45.541764</td>\n",
       "      <td>-73.602990</td>\n",
       "      <td>4.5</td>\n",
       "      <td>2</td>\n",
       "    </tr>\n",
       "  </tbody>\n",
       "</table>\n",
       "</div>"
      ],
      "text/plain": [
       "                                            Name  \\\n",
       "0              Bootlegger cocktail bar & cuisine   \n",
       "1                                  Cloakroom Bar   \n",
       "2                                  Bar Courcelle   \n",
       "3                                   Philemon Bar   \n",
       "4                                    Grumpys Bar   \n",
       "5                            La Distillerie no.1   \n",
       "6                                     London Pub   \n",
       "7                                   N sur Mackay   \n",
       "8                          Bar Le Mal Nécessaire   \n",
       "9                                       Nhậu bar   \n",
       "10                                  The Coldroom   \n",
       "11                                El Pequeño Bar   \n",
       "12                                   Bar Waverly   \n",
       "13                         Atwater Cocktail Club   \n",
       "14                                   Ziggy's Pub   \n",
       "15                                     Candi bar   \n",
       "16  Nacarat Bar, Queen Elizabeth Hotel, Montreal   \n",
       "17                                  Bar L'Barouf   \n",
       "18                               Pub L'Île Noire   \n",
       "19                                        Barfly   \n",
       "20                                    Bar Renard   \n",
       "21                                Taverne Midway   \n",
       "22                                  LE BAYOU BAR   \n",
       "23                                Mad Hatter Pub   \n",
       "24                                   Bar MINĒRAL   \n",
       "25                                    Moose Bawr   \n",
       "26                     Sir Winston Churchill Pub   \n",
       "27                                  Le P'tit Bar   \n",
       "28                              Bar Pamplemousse   \n",
       "29                                         Bar A   \n",
       "30                                     Bar vodka   \n",
       "31                                   Piranha Bar   \n",
       "32                                    Bar Plan-B   \n",
       "33                                    Bar George   \n",
       "34                        l'idéal bar & contenus   \n",
       "35                            BAR - Big in Japan   \n",
       "36                                  Pub Andrew’s   \n",
       "37                                   Bar Suzanne   \n",
       "38                               Sans Soleil Bar   \n",
       "39                                     Bar Furco   \n",
       "40                          The MTL Bistro + Bar   \n",
       "41                     Bar Rouge (Bar le Bievre)   \n",
       "42                               132 Bar Vintage   \n",
       "43                                 Club Pelicano   \n",
       "44                                     Le 4ᶱ Mur   \n",
       "45                        Bar Bifteck St-Laurent   \n",
       "46                              MR250 Bar Lounge   \n",
       "47                                  Honey Martin   \n",
       "48                                  McLean's Pub   \n",
       "49                                    McKibbin’s   \n",
       "50                       Le Boudoir café-bar Inc   \n",
       "51                                 Bar Henrietta   \n",
       "52                                 Bar Le Record   \n",
       "53                                   Goldies Bar   \n",
       "54             Peel Pub - Sports Bar/Bar Sportif   \n",
       "55                                   Le Cocktail   \n",
       "56                                 Bar Cicchetti   \n",
       "57                            Hurley's Irish Pub   \n",
       "58                                   Bar Sarah B   \n",
       "59                                 Bar Le Jockey   \n",
       "\n",
       "                                              Address   Latitude  Longitude  \\\n",
       "0   3481 St Laurent Blvd 2eme Etage, Montreal, Que...  45.513194 -73.570679   \n",
       "1   2175 Rue de la Montagne #100, Montréal, QC H3G...  45.499465 -73.577842   \n",
       "2   4685 Notre-Dame St W, Montreal, Quebec H4C 1S7...  45.472933 -73.588802   \n",
       "3   111 Saint-Paul St W, Montreal, Quebec H2Y 1Z5,...  45.504058 -73.554741   \n",
       "4    1242 Bishop St, Montreal, Quebec H3G 2E3, Canada  45.496067 -73.575771   \n",
       "5   300 Ontario St E, Montreal, Quebec H2X 1H6, Ca...  45.514810 -73.565424   \n",
       "6   1337 Maisonneuve Blvd W, Montreal, Quebec H3G ...  45.498297 -73.577499   \n",
       "7    1244 Mackay St, Montreal, Quebec H3G 2H4, Canada  45.495300 -73.576237   \n",
       "8   1106B St Laurent Blvd, Montreal, Quebec H2Z 1J...  45.508523 -73.561196   \n",
       "9    600 William St, Montreal, Quebec H3C 1N6, Canada  45.499734 -73.556187   \n",
       "10     R. Saint-Vincent, Montréal, QC H2Y 1G8, Canada  45.507184 -73.553117   \n",
       "11  401a R. Saint-Vincent, Montréal, QC H2Y 3A4, C...  45.507122 -73.553145   \n",
       "12  5550 St Laurent Blvd, Montreal, Quebec H2T 1S8...  45.525757 -73.599187   \n",
       "13  512 Atwater Ave, Montreal, Quebec H4C 2G5, Canada  45.481423 -73.578329   \n",
       "14  1470 Crescent St, Montreal, Quebec H3G 2B6, Ca...  45.497777 -73.577234   \n",
       "15  1148 Mont-Royal Ave E, Montreal, Quebec H2J 1X...  45.528508 -73.578566   \n",
       "16  900 René-Lévesque Blvd W, Montreal, Quebec H3B...  45.500660 -73.568085   \n",
       "17  4171 Saint Denis St, Montreal, Quebec H2W 2M3,...  45.521809 -73.577784   \n",
       "18  1649 Saint Denis St, Montreal, Quebec H2X 3K4,...  45.515228 -73.563325   \n",
       "19  4062 St Laurent Blvd, Montreal, Quebec H2W 1Y8...  45.517043 -73.580043   \n",
       "20  1272 St Catherine St E, Montreal, Quebec H2L 2...  45.519037 -73.555496   \n",
       "21  1219 St Laurent Blvd, Montreal, Quebec H2X 2S6...  45.509740 -73.563263   \n",
       "22  4134 St Laurent Blvd, Montreal, Quebec H2W 1Y8...  45.517604 -73.581083   \n",
       "23  1240 Crescent St, Montreal, Quebec H3G 2A9, Ca...  45.496702 -73.575262   \n",
       "24     1641 R. Atateken, Montréal, QC H2L 3L4, Canada  45.518798 -73.559708   \n",
       "25  1817 Saint-Catherine St W, Montreal, Quebec H3...  45.493593 -73.579751   \n",
       "26  1455 Crescent St, Montreal, Quebec H3G 2B2, Ca...  45.497911 -73.576891   \n",
       "27  3451 Saint Denis St, Montreal, Quebec H2X 3L1,...  45.517522 -73.568365   \n",
       "28  1579 St Laurent Blvd, Montreal, Quebec H2X 2S9...  45.510883 -73.565665   \n",
       "29     213 Rue Rachel E, Montréal, QC H2W 1E4, Canada  45.520008 -73.580018   \n",
       "30  5505 Decarie Blvd, Montreal, Quebec H3W 3C7, C...  45.487139 -73.635950   \n",
       "31  680 Saint-Catherine St W, Montreal, Quebec H3B...  45.502852 -73.569942   \n",
       "32  327 Mont-Royal Ave E, Montreal, Quebec H2T 1P8...  45.523236 -73.583678   \n",
       "33  Le Mount Stephen, 1440 Drummond St, Montreal, ...  45.499044 -73.575778   \n",
       "34  151 Ontario St E, Montreal, Quebec H2X 1H5, Ca...  45.512985 -73.566347   \n",
       "35  4175 St Laurent Blvd, Montreal, Quebec H2W 1Y7...  45.518032 -73.581472   \n",
       "36      1239 Guy St, Montreal, Quebec H3H 2K5, Canada  45.494843 -73.577009   \n",
       "37  20 Duluth Ave E, Montreal, Quebec H2W 1G6, Canada  45.517242 -73.578942   \n",
       "38  1002 Rue Saint-Urbain, Montréal, QC H2Z 1K6, C...  45.506558 -73.560513   \n",
       "39     425 Mayor St, Montreal, Quebec H3A 1N9, Canada  45.505968 -73.569092   \n",
       "40   4051 Rue St-Hubert, Montréal, QC H2L 4A7, Canada  45.522626 -73.574301   \n",
       "41  5018 Decarie Blvd, Montreal, Quebec H3X 2H8, C...  45.483162 -73.628795   \n",
       "42     132 Rue Fleury O, Montréal, QC H3L 1T4, Canada  45.546567 -73.665901   \n",
       "43  1076 Rue de Bleury #001, Montreal, Quebec H2Z ...  45.504506 -73.563433   \n",
       "44  2021 Saint Denis St, Montreal, Quebec H2X 3K8,...  45.516263 -73.565772   \n",
       "45  3702 St Laurent Blvd, Montreal, Quebec H2X 2V4...  45.514590 -73.574364   \n",
       "46  250 Mont-Royal Ave E, Montreal, Quebec H2T 1P5...  45.522444 -73.584070   \n",
       "47  5916 Sherbrooke St W, Montreal, Quebec H4A 1X7...  45.468752 -73.618958   \n",
       "48     1210 Peel St, Montreal, Quebec H3B 2T6, Canada  45.499530 -73.572134   \n",
       "49   1426 Bishop St, Montreal, Quebec H3G 2E6, Canada  45.496857 -73.577234   \n",
       "50  850 Mont-Royal Ave E, Montreal, Quebec H2J 1X1...  45.526203 -73.580682   \n",
       "51    115 Av. Laurier O, Montréal, QC H2T 2N6, Canada  45.521623 -73.594354   \n",
       "52   7622 Rue St-Hubert, Montréal, QC H2R 2N6, Canada  45.543765 -73.620161   \n",
       "53  7425 Rue Saint-Jacques, Montréal, QC H4B 1W6, ...  45.453635 -73.637037   \n",
       "54     1196 Peel St, Montreal, Quebec H3B 2T6, Canada  45.499403 -73.571942   \n",
       "55  1669 St Catherine St E, Montreal, Quebec H2L 2...  45.522216 -73.552883   \n",
       "56    6703 Park Ave, Montreal, Quebec H2V 4J3, Canada  45.528736 -73.616345   \n",
       "57  1225 Crescent St, Montreal, Quebec H3G 2B1, Ca...  45.496864 -73.574793   \n",
       "58  360 Rue Saint-Antoine O, Montréal, QC H2Y 3X4,...  45.502808 -73.560584   \n",
       "59  1309 Rue Saint-Zotique E, Montreal, Quebec H2G...  45.541764 -73.602990   \n",
       "\n",
       "    Rating Price Level  \n",
       "0      4.6           2  \n",
       "1      4.7           3  \n",
       "2      4.4           2  \n",
       "3      4.0           2  \n",
       "4      4.4           1  \n",
       "5      4.6           2  \n",
       "6      4.3           2  \n",
       "7      4.5           2  \n",
       "8      4.5           2  \n",
       "9      4.2         N/A  \n",
       "10     4.7           3  \n",
       "11     4.7           2  \n",
       "12     4.1           2  \n",
       "13     4.6           2  \n",
       "14     4.1           2  \n",
       "15     3.9           2  \n",
       "16     4.3         N/A  \n",
       "17     4.1           2  \n",
       "18     4.6           2  \n",
       "19     4.1           1  \n",
       "20     4.3           2  \n",
       "21     4.3           2  \n",
       "22     3.9         N/A  \n",
       "23     4.3           1  \n",
       "24     4.5         N/A  \n",
       "25     4.2           2  \n",
       "26     4.0           2  \n",
       "27     4.5           1  \n",
       "28     4.5           2  \n",
       "29     4.6           1  \n",
       "30     4.1           1  \n",
       "31     4.1           1  \n",
       "32     4.3           2  \n",
       "33     4.5           3  \n",
       "34     4.5         N/A  \n",
       "35     4.2           3  \n",
       "36     4.3           1  \n",
       "37     4.4           2  \n",
       "38     4.6         N/A  \n",
       "39     4.1           2  \n",
       "40     4.3           2  \n",
       "41     3.8           1  \n",
       "42     4.5           2  \n",
       "43     4.4           2  \n",
       "44     4.6           3  \n",
       "45     4.0           1  \n",
       "46     4.3           1  \n",
       "47     4.5           2  \n",
       "48     4.2           2  \n",
       "49     4.4           2  \n",
       "50     4.3           2  \n",
       "51     4.5           2  \n",
       "52     4.5           1  \n",
       "53     3.7           1  \n",
       "54     3.8           1  \n",
       "55     4.2         N/A  \n",
       "56     4.5           2  \n",
       "57     4.4           2  \n",
       "58     4.2           3  \n",
       "59     4.5           2  "
      ]
     },
     "execution_count": 23,
     "metadata": {},
     "output_type": "execute_result"
    }
   ],
   "source": [
    "montreal_bars_df\n",
    "\n"
   ]
  },
  {
   "cell_type": "markdown",
   "metadata": {},
   "source": [
    "### Roadblock. At this point I checked with the documentation and found out that Google Places API returns a maximum of 60 locations per API call. The problem is not with my code but the API itself. Therefore I have prepared a list of the coordinates of all the subway, light rail, and citybike stations in montreal. I'm going to run my an API query for all of them and then concatenate the resulting data frames together and remove duplicates."
   ]
  },
  {
   "cell_type": "code",
   "execution_count": 72,
   "metadata": {},
   "outputs": [],
   "source": [
    "lat_lon_list_full_montreal = pd.read_csv(\"lat_lon_list_full_montreal_ex.csv\")\n"
   ]
  },
  {
   "cell_type": "code",
   "execution_count": 73,
   "metadata": {},
   "outputs": [
    {
     "data": {
      "text/html": [
       "<div>\n",
       "<style scoped>\n",
       "    .dataframe tbody tr th:only-of-type {\n",
       "        vertical-align: middle;\n",
       "    }\n",
       "\n",
       "    .dataframe tbody tr th {\n",
       "        vertical-align: top;\n",
       "    }\n",
       "\n",
       "    .dataframe thead th {\n",
       "        text-align: right;\n",
       "    }\n",
       "</style>\n",
       "<table border=\"1\" class=\"dataframe\">\n",
       "  <thead>\n",
       "    <tr style=\"text-align: right;\">\n",
       "      <th></th>\n",
       "      <th>Latitude</th>\n",
       "      <th>Longitude</th>\n",
       "    </tr>\n",
       "  </thead>\n",
       "  <tbody>\n",
       "    <tr>\n",
       "      <th>0</th>\n",
       "      <td>45.510253</td>\n",
       "      <td>-73.556777</td>\n",
       "    </tr>\n",
       "    <tr>\n",
       "      <th>1</th>\n",
       "      <td>45.510599</td>\n",
       "      <td>-73.566925</td>\n",
       "    </tr>\n",
       "    <tr>\n",
       "      <th>2</th>\n",
       "      <td>45.513294</td>\n",
       "      <td>-73.550578</td>\n",
       "    </tr>\n",
       "    <tr>\n",
       "      <th>3</th>\n",
       "      <td>45.514339</td>\n",
       "      <td>-73.561685</td>\n",
       "    </tr>\n",
       "    <tr>\n",
       "      <th>4</th>\n",
       "      <td>45.518143</td>\n",
       "      <td>-73.568004</td>\n",
       "    </tr>\n",
       "    <tr>\n",
       "      <th>...</th>\n",
       "      <td>...</td>\n",
       "      <td>...</td>\n",
       "    </tr>\n",
       "    <tr>\n",
       "      <th>475</th>\n",
       "      <td>45.440000</td>\n",
       "      <td>-73.490000</td>\n",
       "    </tr>\n",
       "    <tr>\n",
       "      <th>476</th>\n",
       "      <td>45.440000</td>\n",
       "      <td>-73.480000</td>\n",
       "    </tr>\n",
       "    <tr>\n",
       "      <th>477</th>\n",
       "      <td>45.440000</td>\n",
       "      <td>-73.470000</td>\n",
       "    </tr>\n",
       "    <tr>\n",
       "      <th>478</th>\n",
       "      <td>45.440000</td>\n",
       "      <td>-73.460000</td>\n",
       "    </tr>\n",
       "    <tr>\n",
       "      <th>479</th>\n",
       "      <td>45.440000</td>\n",
       "      <td>-73.450000</td>\n",
       "    </tr>\n",
       "  </tbody>\n",
       "</table>\n",
       "<p>480 rows × 2 columns</p>\n",
       "</div>"
      ],
      "text/plain": [
       "      Latitude  Longitude\n",
       "0    45.510253 -73.556777\n",
       "1    45.510599 -73.566925\n",
       "2    45.513294 -73.550578\n",
       "3    45.514339 -73.561685\n",
       "4    45.518143 -73.568004\n",
       "..         ...        ...\n",
       "475  45.440000 -73.490000\n",
       "476  45.440000 -73.480000\n",
       "477  45.440000 -73.470000\n",
       "478  45.440000 -73.460000\n",
       "479  45.440000 -73.450000\n",
       "\n",
       "[480 rows x 2 columns]"
      ]
     },
     "execution_count": 73,
     "metadata": {},
     "output_type": "execute_result"
    }
   ],
   "source": [
    "lat_lon_list_full_montreal"
   ]
  },
  {
   "cell_type": "code",
   "execution_count": 246,
   "metadata": {},
   "outputs": [],
   "source": [
    "append_this = [(45.52, -73.66), (45.52, -73.65), (45.52, -73.64), (45.52, -73.63), (45.52, -73.62), (45.52, -73.61), (45.52, -73.6), (45.52, -73.59), (45.52, -73.58), (45.52, -73.57), (45.52, -73.76)]"
   ]
  },
  {
   "cell_type": "code",
   "execution_count": null,
   "metadata": {},
   "outputs": [],
   "source": []
  },
  {
   "cell_type": "code",
   "execution_count": 248,
   "metadata": {},
   "outputs": [],
   "source": [
    "new_tuples_df = pd.DataFrame(append_this, columns=['Latitude', 'Longitude'])"
   ]
  },
  {
   "cell_type": "code",
   "execution_count": 249,
   "metadata": {},
   "outputs": [
    {
     "data": {
      "text/html": [
       "<div>\n",
       "<style scoped>\n",
       "    .dataframe tbody tr th:only-of-type {\n",
       "        vertical-align: middle;\n",
       "    }\n",
       "\n",
       "    .dataframe tbody tr th {\n",
       "        vertical-align: top;\n",
       "    }\n",
       "\n",
       "    .dataframe thead th {\n",
       "        text-align: right;\n",
       "    }\n",
       "</style>\n",
       "<table border=\"1\" class=\"dataframe\">\n",
       "  <thead>\n",
       "    <tr style=\"text-align: right;\">\n",
       "      <th></th>\n",
       "      <th>Latitude</th>\n",
       "      <th>Longitude</th>\n",
       "    </tr>\n",
       "  </thead>\n",
       "  <tbody>\n",
       "    <tr>\n",
       "      <th>0</th>\n",
       "      <td>45.52</td>\n",
       "      <td>-73.66</td>\n",
       "    </tr>\n",
       "    <tr>\n",
       "      <th>1</th>\n",
       "      <td>45.52</td>\n",
       "      <td>-73.65</td>\n",
       "    </tr>\n",
       "    <tr>\n",
       "      <th>2</th>\n",
       "      <td>45.52</td>\n",
       "      <td>-73.64</td>\n",
       "    </tr>\n",
       "    <tr>\n",
       "      <th>3</th>\n",
       "      <td>45.52</td>\n",
       "      <td>-73.63</td>\n",
       "    </tr>\n",
       "    <tr>\n",
       "      <th>4</th>\n",
       "      <td>45.52</td>\n",
       "      <td>-73.62</td>\n",
       "    </tr>\n",
       "    <tr>\n",
       "      <th>5</th>\n",
       "      <td>45.52</td>\n",
       "      <td>-73.61</td>\n",
       "    </tr>\n",
       "    <tr>\n",
       "      <th>6</th>\n",
       "      <td>45.52</td>\n",
       "      <td>-73.60</td>\n",
       "    </tr>\n",
       "    <tr>\n",
       "      <th>7</th>\n",
       "      <td>45.52</td>\n",
       "      <td>-73.59</td>\n",
       "    </tr>\n",
       "    <tr>\n",
       "      <th>8</th>\n",
       "      <td>45.52</td>\n",
       "      <td>-73.58</td>\n",
       "    </tr>\n",
       "    <tr>\n",
       "      <th>9</th>\n",
       "      <td>45.52</td>\n",
       "      <td>-73.57</td>\n",
       "    </tr>\n",
       "    <tr>\n",
       "      <th>10</th>\n",
       "      <td>45.52</td>\n",
       "      <td>-73.76</td>\n",
       "    </tr>\n",
       "  </tbody>\n",
       "</table>\n",
       "</div>"
      ],
      "text/plain": [
       "    Latitude  Longitude\n",
       "0      45.52     -73.66\n",
       "1      45.52     -73.65\n",
       "2      45.52     -73.64\n",
       "3      45.52     -73.63\n",
       "4      45.52     -73.62\n",
       "5      45.52     -73.61\n",
       "6      45.52     -73.60\n",
       "7      45.52     -73.59\n",
       "8      45.52     -73.58\n",
       "9      45.52     -73.57\n",
       "10     45.52     -73.76"
      ]
     },
     "execution_count": 249,
     "metadata": {},
     "output_type": "execute_result"
    }
   ],
   "source": [
    "new_tuples_df"
   ]
  },
  {
   "cell_type": "code",
   "execution_count": 132,
   "metadata": {},
   "outputs": [],
   "source": [
    "lat_lon_list_full_montreal = pd.concat([lat_lon_list_full_montreal, new_tuples_df], ignore_index=True)\n"
   ]
  },
  {
   "cell_type": "code",
   "execution_count": 133,
   "metadata": {},
   "outputs": [
    {
     "data": {
      "text/html": [
       "<div>\n",
       "<style scoped>\n",
       "    .dataframe tbody tr th:only-of-type {\n",
       "        vertical-align: middle;\n",
       "    }\n",
       "\n",
       "    .dataframe tbody tr th {\n",
       "        vertical-align: top;\n",
       "    }\n",
       "\n",
       "    .dataframe thead th {\n",
       "        text-align: right;\n",
       "    }\n",
       "</style>\n",
       "<table border=\"1\" class=\"dataframe\">\n",
       "  <thead>\n",
       "    <tr style=\"text-align: right;\">\n",
       "      <th></th>\n",
       "      <th>Latitude</th>\n",
       "      <th>Longitude</th>\n",
       "    </tr>\n",
       "  </thead>\n",
       "  <tbody>\n",
       "    <tr>\n",
       "      <th>0</th>\n",
       "      <td>45.510253</td>\n",
       "      <td>-73.556777</td>\n",
       "    </tr>\n",
       "    <tr>\n",
       "      <th>1</th>\n",
       "      <td>45.510599</td>\n",
       "      <td>-73.566925</td>\n",
       "    </tr>\n",
       "    <tr>\n",
       "      <th>2</th>\n",
       "      <td>45.513294</td>\n",
       "      <td>-73.550578</td>\n",
       "    </tr>\n",
       "    <tr>\n",
       "      <th>3</th>\n",
       "      <td>45.514339</td>\n",
       "      <td>-73.561685</td>\n",
       "    </tr>\n",
       "    <tr>\n",
       "      <th>4</th>\n",
       "      <td>45.518143</td>\n",
       "      <td>-73.568004</td>\n",
       "    </tr>\n",
       "    <tr>\n",
       "      <th>...</th>\n",
       "      <td>...</td>\n",
       "      <td>...</td>\n",
       "    </tr>\n",
       "    <tr>\n",
       "      <th>511</th>\n",
       "      <td>45.520000</td>\n",
       "      <td>73.600000</td>\n",
       "    </tr>\n",
       "    <tr>\n",
       "      <th>512</th>\n",
       "      <td>45.520000</td>\n",
       "      <td>73.590000</td>\n",
       "    </tr>\n",
       "    <tr>\n",
       "      <th>513</th>\n",
       "      <td>45.520000</td>\n",
       "      <td>73.580000</td>\n",
       "    </tr>\n",
       "    <tr>\n",
       "      <th>514</th>\n",
       "      <td>45.520000</td>\n",
       "      <td>73.570000</td>\n",
       "    </tr>\n",
       "    <tr>\n",
       "      <th>515</th>\n",
       "      <td>45.520000</td>\n",
       "      <td>73.760000</td>\n",
       "    </tr>\n",
       "  </tbody>\n",
       "</table>\n",
       "<p>516 rows × 2 columns</p>\n",
       "</div>"
      ],
      "text/plain": [
       "      Latitude  Longitude\n",
       "0    45.510253 -73.556777\n",
       "1    45.510599 -73.566925\n",
       "2    45.513294 -73.550578\n",
       "3    45.514339 -73.561685\n",
       "4    45.518143 -73.568004\n",
       "..         ...        ...\n",
       "511  45.520000  73.600000\n",
       "512  45.520000  73.590000\n",
       "513  45.520000  73.580000\n",
       "514  45.520000  73.570000\n",
       "515  45.520000  73.760000\n",
       "\n",
       "[516 rows x 2 columns]"
      ]
     },
     "execution_count": 133,
     "metadata": {},
     "output_type": "execute_result"
    }
   ],
   "source": [
    "lat_lon_list_full_montreal"
   ]
  },
  {
   "cell_type": "code",
   "execution_count": 140,
   "metadata": {},
   "outputs": [
    {
     "data": {
      "text/html": [
       "<div>\n",
       "<style scoped>\n",
       "    .dataframe tbody tr th:only-of-type {\n",
       "        vertical-align: middle;\n",
       "    }\n",
       "\n",
       "    .dataframe tbody tr th {\n",
       "        vertical-align: top;\n",
       "    }\n",
       "\n",
       "    .dataframe thead th {\n",
       "        text-align: right;\n",
       "    }\n",
       "</style>\n",
       "<table border=\"1\" class=\"dataframe\">\n",
       "  <thead>\n",
       "    <tr style=\"text-align: right;\">\n",
       "      <th></th>\n",
       "      <th>Latitude</th>\n",
       "      <th>Longitude</th>\n",
       "    </tr>\n",
       "  </thead>\n",
       "  <tbody>\n",
       "    <tr>\n",
       "      <th>466</th>\n",
       "      <td>45.44</td>\n",
       "      <td>-73.58</td>\n",
       "    </tr>\n",
       "    <tr>\n",
       "      <th>467</th>\n",
       "      <td>45.44</td>\n",
       "      <td>-73.57</td>\n",
       "    </tr>\n",
       "    <tr>\n",
       "      <th>468</th>\n",
       "      <td>45.44</td>\n",
       "      <td>-73.56</td>\n",
       "    </tr>\n",
       "    <tr>\n",
       "      <th>469</th>\n",
       "      <td>45.44</td>\n",
       "      <td>-73.55</td>\n",
       "    </tr>\n",
       "    <tr>\n",
       "      <th>470</th>\n",
       "      <td>45.44</td>\n",
       "      <td>-73.54</td>\n",
       "    </tr>\n",
       "    <tr>\n",
       "      <th>471</th>\n",
       "      <td>45.44</td>\n",
       "      <td>-73.53</td>\n",
       "    </tr>\n",
       "    <tr>\n",
       "      <th>472</th>\n",
       "      <td>45.44</td>\n",
       "      <td>-73.52</td>\n",
       "    </tr>\n",
       "    <tr>\n",
       "      <th>473</th>\n",
       "      <td>45.44</td>\n",
       "      <td>-73.51</td>\n",
       "    </tr>\n",
       "    <tr>\n",
       "      <th>474</th>\n",
       "      <td>45.44</td>\n",
       "      <td>-73.50</td>\n",
       "    </tr>\n",
       "    <tr>\n",
       "      <th>475</th>\n",
       "      <td>45.44</td>\n",
       "      <td>-73.49</td>\n",
       "    </tr>\n",
       "    <tr>\n",
       "      <th>476</th>\n",
       "      <td>45.44</td>\n",
       "      <td>-73.48</td>\n",
       "    </tr>\n",
       "    <tr>\n",
       "      <th>477</th>\n",
       "      <td>45.44</td>\n",
       "      <td>-73.47</td>\n",
       "    </tr>\n",
       "    <tr>\n",
       "      <th>478</th>\n",
       "      <td>45.44</td>\n",
       "      <td>-73.46</td>\n",
       "    </tr>\n",
       "    <tr>\n",
       "      <th>479</th>\n",
       "      <td>45.44</td>\n",
       "      <td>-73.45</td>\n",
       "    </tr>\n",
       "    <tr>\n",
       "      <th>480</th>\n",
       "      <td>45.52</td>\n",
       "      <td>73.67</td>\n",
       "    </tr>\n",
       "    <tr>\n",
       "      <th>481</th>\n",
       "      <td>45.52</td>\n",
       "      <td>73.66</td>\n",
       "    </tr>\n",
       "    <tr>\n",
       "      <th>482</th>\n",
       "      <td>45.52</td>\n",
       "      <td>73.65</td>\n",
       "    </tr>\n",
       "    <tr>\n",
       "      <th>483</th>\n",
       "      <td>45.52</td>\n",
       "      <td>73.64</td>\n",
       "    </tr>\n",
       "    <tr>\n",
       "      <th>484</th>\n",
       "      <td>45.52</td>\n",
       "      <td>73.63</td>\n",
       "    </tr>\n",
       "    <tr>\n",
       "      <th>485</th>\n",
       "      <td>45.52</td>\n",
       "      <td>73.62</td>\n",
       "    </tr>\n",
       "    <tr>\n",
       "      <th>486</th>\n",
       "      <td>45.52</td>\n",
       "      <td>73.61</td>\n",
       "    </tr>\n",
       "    <tr>\n",
       "      <th>487</th>\n",
       "      <td>45.51</td>\n",
       "      <td>73.60</td>\n",
       "    </tr>\n",
       "    <tr>\n",
       "      <th>488</th>\n",
       "      <td>45.51</td>\n",
       "      <td>73.59</td>\n",
       "    </tr>\n",
       "    <tr>\n",
       "      <th>489</th>\n",
       "      <td>45.51</td>\n",
       "      <td>73.58</td>\n",
       "    </tr>\n",
       "    <tr>\n",
       "      <th>490</th>\n",
       "      <td>45.51</td>\n",
       "      <td>73.57</td>\n",
       "    </tr>\n",
       "    <tr>\n",
       "      <th>491</th>\n",
       "      <td>45.51</td>\n",
       "      <td>73.76</td>\n",
       "    </tr>\n",
       "    <tr>\n",
       "      <th>492</th>\n",
       "      <td>45.52</td>\n",
       "      <td>73.67</td>\n",
       "    </tr>\n",
       "    <tr>\n",
       "      <th>493</th>\n",
       "      <td>45.52</td>\n",
       "      <td>73.66</td>\n",
       "    </tr>\n",
       "    <tr>\n",
       "      <th>494</th>\n",
       "      <td>45.52</td>\n",
       "      <td>73.65</td>\n",
       "    </tr>\n",
       "    <tr>\n",
       "      <th>495</th>\n",
       "      <td>45.52</td>\n",
       "      <td>73.64</td>\n",
       "    </tr>\n",
       "    <tr>\n",
       "      <th>496</th>\n",
       "      <td>45.52</td>\n",
       "      <td>73.63</td>\n",
       "    </tr>\n",
       "    <tr>\n",
       "      <th>497</th>\n",
       "      <td>45.52</td>\n",
       "      <td>73.62</td>\n",
       "    </tr>\n",
       "    <tr>\n",
       "      <th>498</th>\n",
       "      <td>45.52</td>\n",
       "      <td>73.61</td>\n",
       "    </tr>\n",
       "    <tr>\n",
       "      <th>499</th>\n",
       "      <td>45.51</td>\n",
       "      <td>73.60</td>\n",
       "    </tr>\n",
       "    <tr>\n",
       "      <th>500</th>\n",
       "      <td>45.51</td>\n",
       "      <td>73.59</td>\n",
       "    </tr>\n",
       "    <tr>\n",
       "      <th>501</th>\n",
       "      <td>45.51</td>\n",
       "      <td>73.58</td>\n",
       "    </tr>\n",
       "    <tr>\n",
       "      <th>502</th>\n",
       "      <td>45.51</td>\n",
       "      <td>73.57</td>\n",
       "    </tr>\n",
       "    <tr>\n",
       "      <th>503</th>\n",
       "      <td>45.51</td>\n",
       "      <td>73.76</td>\n",
       "    </tr>\n",
       "    <tr>\n",
       "      <th>504</th>\n",
       "      <td>45.52</td>\n",
       "      <td>73.67</td>\n",
       "    </tr>\n",
       "    <tr>\n",
       "      <th>505</th>\n",
       "      <td>45.52</td>\n",
       "      <td>73.66</td>\n",
       "    </tr>\n",
       "    <tr>\n",
       "      <th>506</th>\n",
       "      <td>45.52</td>\n",
       "      <td>73.65</td>\n",
       "    </tr>\n",
       "    <tr>\n",
       "      <th>507</th>\n",
       "      <td>45.52</td>\n",
       "      <td>73.64</td>\n",
       "    </tr>\n",
       "    <tr>\n",
       "      <th>508</th>\n",
       "      <td>45.52</td>\n",
       "      <td>73.63</td>\n",
       "    </tr>\n",
       "    <tr>\n",
       "      <th>509</th>\n",
       "      <td>45.52</td>\n",
       "      <td>73.62</td>\n",
       "    </tr>\n",
       "    <tr>\n",
       "      <th>510</th>\n",
       "      <td>45.52</td>\n",
       "      <td>73.61</td>\n",
       "    </tr>\n",
       "    <tr>\n",
       "      <th>511</th>\n",
       "      <td>45.52</td>\n",
       "      <td>73.60</td>\n",
       "    </tr>\n",
       "    <tr>\n",
       "      <th>512</th>\n",
       "      <td>45.52</td>\n",
       "      <td>73.59</td>\n",
       "    </tr>\n",
       "    <tr>\n",
       "      <th>513</th>\n",
       "      <td>45.52</td>\n",
       "      <td>73.58</td>\n",
       "    </tr>\n",
       "    <tr>\n",
       "      <th>514</th>\n",
       "      <td>45.52</td>\n",
       "      <td>73.57</td>\n",
       "    </tr>\n",
       "    <tr>\n",
       "      <th>515</th>\n",
       "      <td>45.52</td>\n",
       "      <td>73.76</td>\n",
       "    </tr>\n",
       "  </tbody>\n",
       "</table>\n",
       "</div>"
      ],
      "text/plain": [
       "     Latitude  Longitude\n",
       "466     45.44     -73.58\n",
       "467     45.44     -73.57\n",
       "468     45.44     -73.56\n",
       "469     45.44     -73.55\n",
       "470     45.44     -73.54\n",
       "471     45.44     -73.53\n",
       "472     45.44     -73.52\n",
       "473     45.44     -73.51\n",
       "474     45.44     -73.50\n",
       "475     45.44     -73.49\n",
       "476     45.44     -73.48\n",
       "477     45.44     -73.47\n",
       "478     45.44     -73.46\n",
       "479     45.44     -73.45\n",
       "480     45.52      73.67\n",
       "481     45.52      73.66\n",
       "482     45.52      73.65\n",
       "483     45.52      73.64\n",
       "484     45.52      73.63\n",
       "485     45.52      73.62\n",
       "486     45.52      73.61\n",
       "487     45.51      73.60\n",
       "488     45.51      73.59\n",
       "489     45.51      73.58\n",
       "490     45.51      73.57\n",
       "491     45.51      73.76\n",
       "492     45.52      73.67\n",
       "493     45.52      73.66\n",
       "494     45.52      73.65\n",
       "495     45.52      73.64\n",
       "496     45.52      73.63\n",
       "497     45.52      73.62\n",
       "498     45.52      73.61\n",
       "499     45.51      73.60\n",
       "500     45.51      73.59\n",
       "501     45.51      73.58\n",
       "502     45.51      73.57\n",
       "503     45.51      73.76\n",
       "504     45.52      73.67\n",
       "505     45.52      73.66\n",
       "506     45.52      73.65\n",
       "507     45.52      73.64\n",
       "508     45.52      73.63\n",
       "509     45.52      73.62\n",
       "510     45.52      73.61\n",
       "511     45.52      73.60\n",
       "512     45.52      73.59\n",
       "513     45.52      73.58\n",
       "514     45.52      73.57\n",
       "515     45.52      73.76"
      ]
     },
     "execution_count": 140,
     "metadata": {},
     "output_type": "execute_result"
    }
   ],
   "source": [
    "lat_lon_list_full_montreal.tail(50)"
   ]
  },
  {
   "cell_type": "code",
   "execution_count": 135,
   "metadata": {},
   "outputs": [],
   "source": [
    "lat_lon_list_full_montreal.to_csv('lat_lon_list_full_montreal_4', index=False)"
   ]
  },
  {
   "cell_type": "code",
   "execution_count": 136,
   "metadata": {},
   "outputs": [],
   "source": [
    "lat_lon_list_full_montreal_1 = lat_lon_list_full_montreal.iloc[:10,:]\n",
    "lat_lon_list_full_montreal_2 = lat_lon_list_full_montreal.iloc[10:20,:]\n",
    "lat_lon_list_full_montreal_3 = lat_lon_list_full_montreal.iloc[20:30,:]\n",
    "lat_lon_list_full_montreal_4 = lat_lon_list_full_montreal.iloc[30:40,:]\n",
    "lat_lon_list_full_montreal_5 = lat_lon_list_full_montreal.iloc[40:50,:]\n",
    "lat_lon_list_full_montreal_6 = lat_lon_list_full_montreal.iloc[50:60,:]\n",
    "lat_lon_list_full_montreal_7 = lat_lon_list_full_montreal.iloc[60:70,:]\n",
    "lat_lon_list_full_montreal_8 = lat_lon_list_full_montreal.iloc[70:80,:]\n",
    "lat_lon_list_full_montreal_9 = lat_lon_list_full_montreal.iloc[80:90,:]\n",
    "lat_lon_list_full_montreal_10 = lat_lon_list_full_montreal.iloc[90:100,:]\n",
    "lat_lon_list_full_montreal_11 = lat_lon_list_full_montreal.iloc[100:110,:]\n",
    "lat_lon_list_full_montreal_12 = lat_lon_list_full_montreal.iloc[110:120,:]\n",
    "lat_lon_list_full_montreal_13 = lat_lon_list_full_montreal.iloc[120:130,:]\n",
    "lat_lon_list_full_montreal_14 = lat_lon_list_full_montreal.iloc[130:140,:]\n",
    "lat_lon_list_full_montreal_15 = lat_lon_list_full_montreal.iloc[140:150,:]\n",
    "lat_lon_list_full_montreal_16 = lat_lon_list_full_montreal.iloc[150:160,:]\n",
    "lat_lon_list_full_montreal_17 = lat_lon_list_full_montreal.iloc[160:170,:]\n",
    "lat_lon_list_full_montreal_18 = lat_lon_list_full_montreal.iloc[170:180,:]\n",
    "lat_lon_list_full_montreal_19 = lat_lon_list_full_montreal.iloc[180:190,:]\n",
    "lat_lon_list_full_montreal_20 = lat_lon_list_full_montreal.iloc[190:200,:]\n",
    "lat_lon_list_full_montreal_21 = lat_lon_list_full_montreal.iloc[200:210,:]\n",
    "lat_lon_list_full_montreal_22 = lat_lon_list_full_montreal.iloc[210:220,:]\n",
    "lat_lon_list_full_montreal_23 = lat_lon_list_full_montreal.iloc[220:230,:]\n",
    "lat_lon_list_full_montreal_24 = lat_lon_list_full_montreal.iloc[230:240,:]\n",
    "lat_lon_list_full_montreal_25 = lat_lon_list_full_montreal.iloc[240:250,:]\n",
    "lat_lon_list_full_montreal_26 = lat_lon_list_full_montreal.iloc[250:260,:]\n",
    "lat_lon_list_full_montreal_27 = lat_lon_list_full_montreal.iloc[260:270,:]\n",
    "lat_lon_list_full_montreal_28 = lat_lon_list_full_montreal.iloc[270:280,:]\n",
    "lat_lon_list_full_montreal_29 = lat_lon_list_full_montreal.iloc[280:290,:]\n",
    "lat_lon_list_full_montreal_30 = lat_lon_list_full_montreal.iloc[290:300,:]\n",
    "lat_lon_list_full_montreal_31 = lat_lon_list_full_montreal.iloc[300:310,:]\n",
    "lat_lon_list_full_montreal_32 = lat_lon_list_full_montreal.iloc[310:320,:]\n",
    "lat_lon_list_full_montreal_33 = lat_lon_list_full_montreal.iloc[320:330,:]\n",
    "lat_lon_list_full_montreal_34 = lat_lon_list_full_montreal.iloc[330:340,:]\n",
    "lat_lon_list_full_montreal_35 = lat_lon_list_full_montreal.iloc[340:350,:]\n",
    "lat_lon_list_full_montreal_36 = lat_lon_list_full_montreal.iloc[350:360,:]\n",
    "lat_lon_list_full_montreal_37 = lat_lon_list_full_montreal.iloc[360:370,:]\n",
    "lat_lon_list_full_montreal_38 = lat_lon_list_full_montreal.iloc[370:380,:]\n",
    "lat_lon_list_full_montreal_39 = lat_lon_list_full_montreal.iloc[380:390,:]\n",
    "lat_lon_list_full_montreal_40 = lat_lon_list_full_montreal.iloc[390:400,:]\n",
    "lat_lon_list_full_montreal_41 = lat_lon_list_full_montreal.iloc[400:410,:]\n",
    "lat_lon_list_full_montreal_42 = lat_lon_list_full_montreal.iloc[410:420,:]\n",
    "lat_lon_list_full_montreal_43 = lat_lon_list_full_montreal.iloc[420:430,:]\n",
    "lat_lon_list_full_montreal_44 = lat_lon_list_full_montreal.iloc[430:440,:]\n",
    "lat_lon_list_full_montreal_45 = lat_lon_list_full_montreal.iloc[440:450,:]\n",
    "lat_lon_list_full_montreal_46 = lat_lon_list_full_montreal.iloc[450:460,:]\n",
    "lat_lon_list_full_montreal_47 = lat_lon_list_full_montreal.iloc[460:470,:]\n",
    "lat_lon_list_full_montreal_48 = lat_lon_list_full_montreal.iloc[470:480,:]\n",
    "lat_lon_list_full_montreal_49 = lat_lon_list_full_montreal.iloc[480:490,:]\n",
    "lat_lon_list_full_montreal_50 = lat_lon_list_full_montreal.iloc[480:490,:]\n",
    "lat_lon_list_full_montreal_51 = lat_lon_list_full_montreal.iloc[490:500,:]\n",
    "lat_lon_list_full_montreal_52 = lat_lon_list_full_montreal.iloc[500:510,:]\n",
    "lat_lon_list_full_montreal_53 = lat_lon_list_full_montreal.iloc[510:520,:]"
   ]
  },
  {
   "cell_type": "code",
   "execution_count": 76,
   "metadata": {},
   "outputs": [
    {
     "data": {
      "text/html": [
       "<div>\n",
       "<style scoped>\n",
       "    .dataframe tbody tr th:only-of-type {\n",
       "        vertical-align: middle;\n",
       "    }\n",
       "\n",
       "    .dataframe tbody tr th {\n",
       "        vertical-align: top;\n",
       "    }\n",
       "\n",
       "    .dataframe thead th {\n",
       "        text-align: right;\n",
       "    }\n",
       "</style>\n",
       "<table border=\"1\" class=\"dataframe\">\n",
       "  <thead>\n",
       "    <tr style=\"text-align: right;\">\n",
       "      <th></th>\n",
       "      <th>Latitude</th>\n",
       "      <th>Longitude</th>\n",
       "    </tr>\n",
       "  </thead>\n",
       "  <tbody>\n",
       "    <tr>\n",
       "      <th>0</th>\n",
       "      <td>45.510253</td>\n",
       "      <td>-73.556777</td>\n",
       "    </tr>\n",
       "    <tr>\n",
       "      <th>1</th>\n",
       "      <td>45.510599</td>\n",
       "      <td>-73.566925</td>\n",
       "    </tr>\n",
       "    <tr>\n",
       "      <th>2</th>\n",
       "      <td>45.513294</td>\n",
       "      <td>-73.550578</td>\n",
       "    </tr>\n",
       "    <tr>\n",
       "      <th>3</th>\n",
       "      <td>45.514339</td>\n",
       "      <td>-73.561685</td>\n",
       "    </tr>\n",
       "    <tr>\n",
       "      <th>4</th>\n",
       "      <td>45.518143</td>\n",
       "      <td>-73.568004</td>\n",
       "    </tr>\n",
       "    <tr>\n",
       "      <th>5</th>\n",
       "      <td>45.510860</td>\n",
       "      <td>-73.549830</td>\n",
       "    </tr>\n",
       "    <tr>\n",
       "      <th>6</th>\n",
       "      <td>45.507144</td>\n",
       "      <td>-73.555119</td>\n",
       "    </tr>\n",
       "    <tr>\n",
       "      <th>7</th>\n",
       "      <td>45.507610</td>\n",
       "      <td>-73.551836</td>\n",
       "    </tr>\n",
       "    <tr>\n",
       "      <th>8</th>\n",
       "      <td>45.502054</td>\n",
       "      <td>-73.573465</td>\n",
       "    </tr>\n",
       "    <tr>\n",
       "      <th>9</th>\n",
       "      <td>45.506314</td>\n",
       "      <td>-73.559671</td>\n",
       "    </tr>\n",
       "  </tbody>\n",
       "</table>\n",
       "</div>"
      ],
      "text/plain": [
       "    Latitude  Longitude\n",
       "0  45.510253 -73.556777\n",
       "1  45.510599 -73.566925\n",
       "2  45.513294 -73.550578\n",
       "3  45.514339 -73.561685\n",
       "4  45.518143 -73.568004\n",
       "5  45.510860 -73.549830\n",
       "6  45.507144 -73.555119\n",
       "7  45.507610 -73.551836\n",
       "8  45.502054 -73.573465\n",
       "9  45.506314 -73.559671"
      ]
     },
     "execution_count": 76,
     "metadata": {},
     "output_type": "execute_result"
    }
   ],
   "source": [
    "lat_lon_list_full_montreal_1"
   ]
  },
  {
   "cell_type": "code",
   "execution_count": 77,
   "metadata": {},
   "outputs": [
    {
     "data": {
      "text/html": [
       "<div>\n",
       "<style scoped>\n",
       "    .dataframe tbody tr th:only-of-type {\n",
       "        vertical-align: middle;\n",
       "    }\n",
       "\n",
       "    .dataframe tbody tr th {\n",
       "        vertical-align: top;\n",
       "    }\n",
       "\n",
       "    .dataframe thead th {\n",
       "        text-align: right;\n",
       "    }\n",
       "</style>\n",
       "<table border=\"1\" class=\"dataframe\">\n",
       "  <thead>\n",
       "    <tr style=\"text-align: right;\">\n",
       "      <th></th>\n",
       "      <th>Latitude</th>\n",
       "      <th>Longitude</th>\n",
       "    </tr>\n",
       "  </thead>\n",
       "  <tbody>\n",
       "    <tr>\n",
       "      <th>10</th>\n",
       "      <td>45.505312</td>\n",
       "      <td>-73.560891</td>\n",
       "    </tr>\n",
       "    <tr>\n",
       "      <th>11</th>\n",
       "      <td>45.504242</td>\n",
       "      <td>-73.553469</td>\n",
       "    </tr>\n",
       "    <tr>\n",
       "      <th>12</th>\n",
       "      <td>45.499965</td>\n",
       "      <td>-73.556154</td>\n",
       "    </tr>\n",
       "    <tr>\n",
       "      <th>13</th>\n",
       "      <td>45.502940</td>\n",
       "      <td>-73.560640</td>\n",
       "    </tr>\n",
       "    <tr>\n",
       "      <th>14</th>\n",
       "      <td>45.501143</td>\n",
       "      <td>-73.560773</td>\n",
       "    </tr>\n",
       "    <tr>\n",
       "      <th>15</th>\n",
       "      <td>45.500643</td>\n",
       "      <td>-73.565408</td>\n",
       "    </tr>\n",
       "    <tr>\n",
       "      <th>16</th>\n",
       "      <td>45.502060</td>\n",
       "      <td>-73.562950</td>\n",
       "    </tr>\n",
       "    <tr>\n",
       "      <th>17</th>\n",
       "      <td>45.521564</td>\n",
       "      <td>-73.570367</td>\n",
       "    </tr>\n",
       "    <tr>\n",
       "      <th>18</th>\n",
       "      <td>45.541448</td>\n",
       "      <td>-73.598394</td>\n",
       "    </tr>\n",
       "    <tr>\n",
       "      <th>19</th>\n",
       "      <td>45.498370</td>\n",
       "      <td>-73.560556</td>\n",
       "    </tr>\n",
       "  </tbody>\n",
       "</table>\n",
       "</div>"
      ],
      "text/plain": [
       "     Latitude  Longitude\n",
       "10  45.505312 -73.560891\n",
       "11  45.504242 -73.553469\n",
       "12  45.499965 -73.556154\n",
       "13  45.502940 -73.560640\n",
       "14  45.501143 -73.560773\n",
       "15  45.500643 -73.565408\n",
       "16  45.502060 -73.562950\n",
       "17  45.521564 -73.570367\n",
       "18  45.541448 -73.598394\n",
       "19  45.498370 -73.560556"
      ]
     },
     "execution_count": 77,
     "metadata": {},
     "output_type": "execute_result"
    }
   ],
   "source": [
    "lat_lon_list_full_montreal_2"
   ]
  },
  {
   "cell_type": "code",
   "execution_count": 168,
   "metadata": {},
   "outputs": [
    {
     "data": {
      "text/html": [
       "<div>\n",
       "<style scoped>\n",
       "    .dataframe tbody tr th:only-of-type {\n",
       "        vertical-align: middle;\n",
       "    }\n",
       "\n",
       "    .dataframe tbody tr th {\n",
       "        vertical-align: top;\n",
       "    }\n",
       "\n",
       "    .dataframe thead th {\n",
       "        text-align: right;\n",
       "    }\n",
       "</style>\n",
       "<table border=\"1\" class=\"dataframe\">\n",
       "  <thead>\n",
       "    <tr style=\"text-align: right;\">\n",
       "      <th></th>\n",
       "      <th>Latitude</th>\n",
       "      <th>Longitude</th>\n",
       "    </tr>\n",
       "  </thead>\n",
       "  <tbody>\n",
       "    <tr>\n",
       "      <th>510</th>\n",
       "      <td>45.52</td>\n",
       "      <td>73.61</td>\n",
       "    </tr>\n",
       "    <tr>\n",
       "      <th>511</th>\n",
       "      <td>45.52</td>\n",
       "      <td>73.60</td>\n",
       "    </tr>\n",
       "    <tr>\n",
       "      <th>512</th>\n",
       "      <td>45.52</td>\n",
       "      <td>73.59</td>\n",
       "    </tr>\n",
       "    <tr>\n",
       "      <th>513</th>\n",
       "      <td>45.52</td>\n",
       "      <td>73.58</td>\n",
       "    </tr>\n",
       "    <tr>\n",
       "      <th>514</th>\n",
       "      <td>45.52</td>\n",
       "      <td>73.57</td>\n",
       "    </tr>\n",
       "    <tr>\n",
       "      <th>515</th>\n",
       "      <td>45.52</td>\n",
       "      <td>73.76</td>\n",
       "    </tr>\n",
       "  </tbody>\n",
       "</table>\n",
       "</div>"
      ],
      "text/plain": [
       "     Latitude  Longitude\n",
       "510     45.52      73.61\n",
       "511     45.52      73.60\n",
       "512     45.52      73.59\n",
       "513     45.52      73.58\n",
       "514     45.52      73.57\n",
       "515     45.52      73.76"
      ]
     },
     "execution_count": 168,
     "metadata": {},
     "output_type": "execute_result"
    }
   ],
   "source": [
    "lat_lon_list_full_montreal_53"
   ]
  },
  {
   "cell_type": "code",
   "execution_count": 78,
   "metadata": {},
   "outputs": [],
   "source": [
    "data = []  # This will hold data for all bars from all queries\n",
    "\n"
   ]
  },
  {
   "cell_type": "markdown",
   "metadata": {},
   "source": [
    "## Running API Call Loop.\n",
    "\n",
    "## The Loop Returns A Maximum Of 60 Results Per Call. So I'm Running It Many Times Over A List Of Latitude-Longitude Coordinate Pairs. This Will Find All The Restaurants In Montreal That Are In The Downtown Area Or The Transit Serviced Areas Covered By My Coordinate Pairs.\n",
    "\n",
    "## This Will Have Enough Redundancy That The Same Restaurants Will Be Found Many Times. The Duplicates Will Be Filtered Out"
   ]
  },
  {
   "cell_type": "code",
   "execution_count": 250,
   "metadata": {},
   "outputs": [],
   "source": [
    "# Loop through each coordinate pair\n",
    "for index, row in new_tuples_df.iterrows():\n",
    "    google_parameters = {\n",
    "        'query': 'bars',\n",
    "        'key': google_api_key,\n",
    "        'location': f\"{row['Latitude']},{row['Longitude']}\",\n",
    "        'radius': 1000,\n",
    "        'type': 'bar'\n",
    "    }\n",
    "\n",
    "    response = requests.get('https://maps.googleapis.com/maps/api/place/textsearch/json', params=google_parameters)\n",
    "\n",
    "    # Collect results for the current location\n",
    "    local_data = []\n",
    "    while True:\n",
    "        if response.status_code == 200:\n",
    "            response_json = response.json()\n",
    "            results = response_json.get('results', [])\n",
    "            for place in results:\n",
    "                local_data.append({\n",
    "                    'Name': place.get('name'),\n",
    "                    'Address': place.get('formatted_address'),\n",
    "                    'Latitude': place['geometry']['location']['lat'],\n",
    "                    'Longitude': place['geometry']['location']['lng'],\n",
    "                    'Rating': place.get('rating', 'N/A'),\n",
    "                    'Price Level': place.get('price_level', 'N/A')\n",
    "                })\n",
    "\n",
    "            # Check for a next page token and continue if present\n",
    "            next_page_token = response_json.get('next_page_token')\n",
    "            if not next_page_token:\n",
    "                break\n",
    "            time.sleep(2)\n",
    "            google_parameters['pagetoken'] = next_page_token\n",
    "            response = requests.get('https://maps.googleapis.com/maps/api/place/textsearch/json', params=google_parameters)\n",
    "        else:\n",
    "            print(f\"Request failed for {row['Latitude']},{row['Longitude']} with status code {response.status_code}\")\n",
    "            break\n",
    "    # Extend the master data list with the results from this local query\n",
    "    data.extend(local_data)"
   ]
  },
  {
   "cell_type": "code",
   "execution_count": 80,
   "metadata": {},
   "outputs": [],
   "source": [
    "# Convert the data collected so far into a DataFrame\n",
    "bars_1_df = pd.DataFrame(data)"
   ]
  },
  {
   "cell_type": "code",
   "execution_count": 81,
   "metadata": {},
   "outputs": [
    {
     "data": {
      "text/html": [
       "<div>\n",
       "<style scoped>\n",
       "    .dataframe tbody tr th:only-of-type {\n",
       "        vertical-align: middle;\n",
       "    }\n",
       "\n",
       "    .dataframe tbody tr th {\n",
       "        vertical-align: top;\n",
       "    }\n",
       "\n",
       "    .dataframe thead th {\n",
       "        text-align: right;\n",
       "    }\n",
       "</style>\n",
       "<table border=\"1\" class=\"dataframe\">\n",
       "  <thead>\n",
       "    <tr style=\"text-align: right;\">\n",
       "      <th></th>\n",
       "      <th>Name</th>\n",
       "      <th>Address</th>\n",
       "      <th>Latitude</th>\n",
       "      <th>Longitude</th>\n",
       "      <th>Rating</th>\n",
       "      <th>Price Level</th>\n",
       "    </tr>\n",
       "  </thead>\n",
       "  <tbody>\n",
       "    <tr>\n",
       "      <th>0</th>\n",
       "      <td>Pub St-Paul</td>\n",
       "      <td>124 Rue Saint-Paul E, Montréal, QC H2Y 1G6</td>\n",
       "      <td>45.506944</td>\n",
       "      <td>-73.552500</td>\n",
       "      <td>3.9</td>\n",
       "      <td>2</td>\n",
       "    </tr>\n",
       "    <tr>\n",
       "      <th>1</th>\n",
       "      <td>Piranha Bar</td>\n",
       "      <td>680 Saint-Catherine St W, Montreal, Quebec H3B...</td>\n",
       "      <td>45.502852</td>\n",
       "      <td>-73.569942</td>\n",
       "      <td>4.1</td>\n",
       "      <td>1</td>\n",
       "    </tr>\n",
       "    <tr>\n",
       "      <th>2</th>\n",
       "      <td>Patrick's Pub</td>\n",
       "      <td>1707 Saint Denis St, Montreal, Quebec H2X 3K4</td>\n",
       "      <td>45.515570</td>\n",
       "      <td>-73.564079</td>\n",
       "      <td>4.2</td>\n",
       "      <td>2</td>\n",
       "    </tr>\n",
       "    <tr>\n",
       "      <th>3</th>\n",
       "      <td>MVP Resto-Bar Sportif</td>\n",
       "      <td>200 St Catherine St E, Montreal, Quebec H2X 1L1</td>\n",
       "      <td>45.511730</td>\n",
       "      <td>-73.561981</td>\n",
       "      <td>3.8</td>\n",
       "      <td>2</td>\n",
       "    </tr>\n",
       "    <tr>\n",
       "      <th>4</th>\n",
       "      <td>Pub John Michaels</td>\n",
       "      <td>458 Pl. Jacques-Cartier, Montréal, QC H2Y 3Z2</td>\n",
       "      <td>45.508011</td>\n",
       "      <td>-73.553953</td>\n",
       "      <td>4.0</td>\n",
       "      <td>2</td>\n",
       "    </tr>\n",
       "    <tr>\n",
       "      <th>...</th>\n",
       "      <td>...</td>\n",
       "      <td>...</td>\n",
       "      <td>...</td>\n",
       "      <td>...</td>\n",
       "      <td>...</td>\n",
       "      <td>...</td>\n",
       "    </tr>\n",
       "    <tr>\n",
       "      <th>595</th>\n",
       "      <td>Bar Pamplemousse</td>\n",
       "      <td>1579 St Laurent Blvd, Montreal, Quebec H2X 2S9</td>\n",
       "      <td>45.510883</td>\n",
       "      <td>-73.565665</td>\n",
       "      <td>4.5</td>\n",
       "      <td>2</td>\n",
       "    </tr>\n",
       "    <tr>\n",
       "      <th>596</th>\n",
       "      <td>Mad Hatter Pub</td>\n",
       "      <td>1240 Crescent St, Montreal, Quebec H3G 2A9</td>\n",
       "      <td>45.496702</td>\n",
       "      <td>-73.575262</td>\n",
       "      <td>4.3</td>\n",
       "      <td>1</td>\n",
       "    </tr>\n",
       "    <tr>\n",
       "      <th>597</th>\n",
       "      <td>Pub Quartier Latin</td>\n",
       "      <td>318 Ontario St E, Montreal, Quebec H2X 1H6</td>\n",
       "      <td>45.515003</td>\n",
       "      <td>-73.565362</td>\n",
       "      <td>4.6</td>\n",
       "      <td>2</td>\n",
       "    </tr>\n",
       "    <tr>\n",
       "      <th>598</th>\n",
       "      <td>HOOTERS</td>\n",
       "      <td>1433 Crescent St, Montreal, Quebec H3G 2B2</td>\n",
       "      <td>45.497673</td>\n",
       "      <td>-73.576425</td>\n",
       "      <td>3.2</td>\n",
       "      <td>2</td>\n",
       "    </tr>\n",
       "    <tr>\n",
       "      <th>599</th>\n",
       "      <td>Restaurant &amp; Bar Le Kube</td>\n",
       "      <td>Restaurant Hôtel, 900 Rue De la Gauchetière O,...</td>\n",
       "      <td>45.499151</td>\n",
       "      <td>-73.565686</td>\n",
       "      <td>3.4</td>\n",
       "      <td>N/A</td>\n",
       "    </tr>\n",
       "  </tbody>\n",
       "</table>\n",
       "<p>600 rows × 6 columns</p>\n",
       "</div>"
      ],
      "text/plain": [
       "                         Name  \\\n",
       "0                 Pub St-Paul   \n",
       "1                 Piranha Bar   \n",
       "2               Patrick's Pub   \n",
       "3       MVP Resto-Bar Sportif   \n",
       "4           Pub John Michaels   \n",
       "..                        ...   \n",
       "595          Bar Pamplemousse   \n",
       "596            Mad Hatter Pub   \n",
       "597        Pub Quartier Latin   \n",
       "598                   HOOTERS   \n",
       "599  Restaurant & Bar Le Kube   \n",
       "\n",
       "                                               Address   Latitude  Longitude  \\\n",
       "0           124 Rue Saint-Paul E, Montréal, QC H2Y 1G6  45.506944 -73.552500   \n",
       "1    680 Saint-Catherine St W, Montreal, Quebec H3B...  45.502852 -73.569942   \n",
       "2        1707 Saint Denis St, Montreal, Quebec H2X 3K4  45.515570 -73.564079   \n",
       "3      200 St Catherine St E, Montreal, Quebec H2X 1L1  45.511730 -73.561981   \n",
       "4        458 Pl. Jacques-Cartier, Montréal, QC H2Y 3Z2  45.508011 -73.553953   \n",
       "..                                                 ...        ...        ...   \n",
       "595     1579 St Laurent Blvd, Montreal, Quebec H2X 2S9  45.510883 -73.565665   \n",
       "596         1240 Crescent St, Montreal, Quebec H3G 2A9  45.496702 -73.575262   \n",
       "597         318 Ontario St E, Montreal, Quebec H2X 1H6  45.515003 -73.565362   \n",
       "598         1433 Crescent St, Montreal, Quebec H3G 2B2  45.497673 -73.576425   \n",
       "599  Restaurant Hôtel, 900 Rue De la Gauchetière O,...  45.499151 -73.565686   \n",
       "\n",
       "     Rating Price Level  \n",
       "0       3.9           2  \n",
       "1       4.1           1  \n",
       "2       4.2           2  \n",
       "3       3.8           2  \n",
       "4       4.0           2  \n",
       "..      ...         ...  \n",
       "595     4.5           2  \n",
       "596     4.3           1  \n",
       "597     4.6           2  \n",
       "598     3.2           2  \n",
       "599     3.4         N/A  \n",
       "\n",
       "[600 rows x 6 columns]"
      ]
     },
     "execution_count": 81,
     "metadata": {},
     "output_type": "execute_result"
    }
   ],
   "source": [
    "bars_1_df"
   ]
  },
  {
   "cell_type": "code",
   "execution_count": 83,
   "metadata": {},
   "outputs": [
    {
     "data": {
      "text/plain": [
       "Name           125\n",
       "Address        124\n",
       "Latitude       126\n",
       "Longitude      126\n",
       "Rating          20\n",
       "Price Level      4\n",
       "dtype: int64"
      ]
     },
     "execution_count": 83,
     "metadata": {},
     "output_type": "execute_result"
    }
   ],
   "source": [
    "bars_1_df.nunique(axis=0)"
   ]
  },
  {
   "cell_type": "code",
   "execution_count": 88,
   "metadata": {},
   "outputs": [],
   "source": [
    "# Convert the data collected so far into a DataFrame\n",
    "bars_2_df = pd.DataFrame(data)"
   ]
  },
  {
   "cell_type": "code",
   "execution_count": 89,
   "metadata": {},
   "outputs": [
    {
     "data": {
      "text/html": [
       "<div>\n",
       "<style scoped>\n",
       "    .dataframe tbody tr th:only-of-type {\n",
       "        vertical-align: middle;\n",
       "    }\n",
       "\n",
       "    .dataframe tbody tr th {\n",
       "        vertical-align: top;\n",
       "    }\n",
       "\n",
       "    .dataframe thead th {\n",
       "        text-align: right;\n",
       "    }\n",
       "</style>\n",
       "<table border=\"1\" class=\"dataframe\">\n",
       "  <thead>\n",
       "    <tr style=\"text-align: right;\">\n",
       "      <th></th>\n",
       "      <th>Name</th>\n",
       "      <th>Address</th>\n",
       "      <th>Latitude</th>\n",
       "      <th>Longitude</th>\n",
       "      <th>Rating</th>\n",
       "      <th>Price Level</th>\n",
       "    </tr>\n",
       "  </thead>\n",
       "  <tbody>\n",
       "    <tr>\n",
       "      <th>0</th>\n",
       "      <td>Pub St-Paul</td>\n",
       "      <td>124 Rue Saint-Paul E, Montréal, QC H2Y 1G6</td>\n",
       "      <td>45.506944</td>\n",
       "      <td>-73.552500</td>\n",
       "      <td>3.9</td>\n",
       "      <td>2</td>\n",
       "    </tr>\n",
       "    <tr>\n",
       "      <th>1</th>\n",
       "      <td>Piranha Bar</td>\n",
       "      <td>680 Saint-Catherine St W, Montreal, Quebec H3B...</td>\n",
       "      <td>45.502852</td>\n",
       "      <td>-73.569942</td>\n",
       "      <td>4.1</td>\n",
       "      <td>1</td>\n",
       "    </tr>\n",
       "    <tr>\n",
       "      <th>2</th>\n",
       "      <td>Patrick's Pub</td>\n",
       "      <td>1707 Saint Denis St, Montreal, Quebec H2X 3K4</td>\n",
       "      <td>45.515570</td>\n",
       "      <td>-73.564079</td>\n",
       "      <td>4.2</td>\n",
       "      <td>2</td>\n",
       "    </tr>\n",
       "    <tr>\n",
       "      <th>3</th>\n",
       "      <td>MVP Resto-Bar Sportif</td>\n",
       "      <td>200 St Catherine St E, Montreal, Quebec H2X 1L1</td>\n",
       "      <td>45.511730</td>\n",
       "      <td>-73.561981</td>\n",
       "      <td>3.8</td>\n",
       "      <td>2</td>\n",
       "    </tr>\n",
       "    <tr>\n",
       "      <th>4</th>\n",
       "      <td>Pub John Michaels</td>\n",
       "      <td>458 Pl. Jacques-Cartier, Montréal, QC H2Y 3Z2</td>\n",
       "      <td>45.508011</td>\n",
       "      <td>-73.553953</td>\n",
       "      <td>4.0</td>\n",
       "      <td>2</td>\n",
       "    </tr>\n",
       "    <tr>\n",
       "      <th>...</th>\n",
       "      <td>...</td>\n",
       "      <td>...</td>\n",
       "      <td>...</td>\n",
       "      <td>...</td>\n",
       "      <td>...</td>\n",
       "      <td>...</td>\n",
       "    </tr>\n",
       "    <tr>\n",
       "      <th>1195</th>\n",
       "      <td>Restaurant &amp; Bar Le Kube</td>\n",
       "      <td>Restaurant Hôtel, 900 Rue De la Gauchetière O,...</td>\n",
       "      <td>45.499151</td>\n",
       "      <td>-73.565686</td>\n",
       "      <td>3.4</td>\n",
       "      <td>N/A</td>\n",
       "    </tr>\n",
       "    <tr>\n",
       "      <th>1196</th>\n",
       "      <td>Le Warehouse</td>\n",
       "      <td>1446 Crescent St, Montreal, Quebec H3G 2B6</td>\n",
       "      <td>45.497574</td>\n",
       "      <td>-73.576840</td>\n",
       "      <td>4.0</td>\n",
       "      <td>1</td>\n",
       "    </tr>\n",
       "    <tr>\n",
       "      <th>1197</th>\n",
       "      <td>Bar Sarah B</td>\n",
       "      <td>360 Rue Saint-Antoine O, Montréal, QC H2Y 3X4</td>\n",
       "      <td>45.502808</td>\n",
       "      <td>-73.560584</td>\n",
       "      <td>4.2</td>\n",
       "      <td>3</td>\n",
       "    </tr>\n",
       "    <tr>\n",
       "      <th>1198</th>\n",
       "      <td>Le Bureau Bar Tapas</td>\n",
       "      <td>1642 Notre-Dame St W, Montreal, Quebec H3J 1M1</td>\n",
       "      <td>45.489383</td>\n",
       "      <td>-73.567560</td>\n",
       "      <td>4.4</td>\n",
       "      <td>2</td>\n",
       "    </tr>\n",
       "    <tr>\n",
       "      <th>1199</th>\n",
       "      <td>Bar Bisou Bisou</td>\n",
       "      <td>416 R. Saint-Vincent, Montréal, QC H2Y 1E6</td>\n",
       "      <td>45.507076</td>\n",
       "      <td>-73.553516</td>\n",
       "      <td>4.9</td>\n",
       "      <td>N/A</td>\n",
       "    </tr>\n",
       "  </tbody>\n",
       "</table>\n",
       "<p>1200 rows × 6 columns</p>\n",
       "</div>"
      ],
      "text/plain": [
       "                          Name  \\\n",
       "0                  Pub St-Paul   \n",
       "1                  Piranha Bar   \n",
       "2                Patrick's Pub   \n",
       "3        MVP Resto-Bar Sportif   \n",
       "4            Pub John Michaels   \n",
       "...                        ...   \n",
       "1195  Restaurant & Bar Le Kube   \n",
       "1196              Le Warehouse   \n",
       "1197               Bar Sarah B   \n",
       "1198       Le Bureau Bar Tapas   \n",
       "1199           Bar Bisou Bisou   \n",
       "\n",
       "                                                Address   Latitude  Longitude  \\\n",
       "0            124 Rue Saint-Paul E, Montréal, QC H2Y 1G6  45.506944 -73.552500   \n",
       "1     680 Saint-Catherine St W, Montreal, Quebec H3B...  45.502852 -73.569942   \n",
       "2         1707 Saint Denis St, Montreal, Quebec H2X 3K4  45.515570 -73.564079   \n",
       "3       200 St Catherine St E, Montreal, Quebec H2X 1L1  45.511730 -73.561981   \n",
       "4         458 Pl. Jacques-Cartier, Montréal, QC H2Y 3Z2  45.508011 -73.553953   \n",
       "...                                                 ...        ...        ...   \n",
       "1195  Restaurant Hôtel, 900 Rue De la Gauchetière O,...  45.499151 -73.565686   \n",
       "1196         1446 Crescent St, Montreal, Quebec H3G 2B6  45.497574 -73.576840   \n",
       "1197      360 Rue Saint-Antoine O, Montréal, QC H2Y 3X4  45.502808 -73.560584   \n",
       "1198     1642 Notre-Dame St W, Montreal, Quebec H3J 1M1  45.489383 -73.567560   \n",
       "1199         416 R. Saint-Vincent, Montréal, QC H2Y 1E6  45.507076 -73.553516   \n",
       "\n",
       "      Rating Price Level  \n",
       "0        3.9           2  \n",
       "1        4.1           1  \n",
       "2        4.2           2  \n",
       "3        3.8           2  \n",
       "4        4.0           2  \n",
       "...      ...         ...  \n",
       "1195     3.4         N/A  \n",
       "1196     4.0           1  \n",
       "1197     4.2           3  \n",
       "1198     4.4           2  \n",
       "1199     4.9         N/A  \n",
       "\n",
       "[1200 rows x 6 columns]"
      ]
     },
     "execution_count": 89,
     "metadata": {},
     "output_type": "execute_result"
    }
   ],
   "source": [
    "bars_2_df\n"
   ]
  },
  {
   "cell_type": "code",
   "execution_count": 91,
   "metadata": {},
   "outputs": [],
   "source": [
    "bars_3_df = pd.DataFrame(data)"
   ]
  },
  {
   "cell_type": "code",
   "execution_count": 92,
   "metadata": {},
   "outputs": [
    {
     "data": {
      "text/plain": [
       "1800"
      ]
     },
     "execution_count": 92,
     "metadata": {},
     "output_type": "execute_result"
    }
   ],
   "source": [
    "len(bars_3_df)"
   ]
  },
  {
   "cell_type": "code",
   "execution_count": 94,
   "metadata": {},
   "outputs": [
    {
     "data": {
      "text/plain": [
       "2400"
      ]
     },
     "execution_count": 94,
     "metadata": {},
     "output_type": "execute_result"
    }
   ],
   "source": [
    "bars_4_df = pd.DataFrame(data)\n",
    "len(bars_4_df)"
   ]
  },
  {
   "cell_type": "code",
   "execution_count": 96,
   "metadata": {},
   "outputs": [
    {
     "data": {
      "text/plain": [
       "3000"
      ]
     },
     "execution_count": 96,
     "metadata": {},
     "output_type": "execute_result"
    }
   ],
   "source": [
    "bars_5_df = pd.DataFrame(data)\n",
    "len(bars_5_df)"
   ]
  },
  {
   "cell_type": "code",
   "execution_count": 98,
   "metadata": {},
   "outputs": [
    {
     "data": {
      "text/plain": [
       "3600"
      ]
     },
     "execution_count": 98,
     "metadata": {},
     "output_type": "execute_result"
    }
   ],
   "source": [
    "bars_6_df = pd.DataFrame(data)\n",
    "len(bars_6_df)"
   ]
  },
  {
   "cell_type": "code",
   "execution_count": 100,
   "metadata": {},
   "outputs": [
    {
     "data": {
      "text/plain": [
       "4200"
      ]
     },
     "execution_count": 100,
     "metadata": {},
     "output_type": "execute_result"
    }
   ],
   "source": [
    "bars_7_df = pd.DataFrame(data)\n",
    "len(bars_7_df)"
   ]
  },
  {
   "cell_type": "code",
   "execution_count": 102,
   "metadata": {},
   "outputs": [
    {
     "data": {
      "text/plain": [
       "4800"
      ]
     },
     "execution_count": 102,
     "metadata": {},
     "output_type": "execute_result"
    }
   ],
   "source": [
    "bars_8_df = pd.DataFrame(data)\n",
    "len(bars_8_df)"
   ]
  },
  {
   "cell_type": "code",
   "execution_count": 113,
   "metadata": {},
   "outputs": [
    {
     "data": {
      "text/plain": [
       "6000"
      ]
     },
     "execution_count": 113,
     "metadata": {},
     "output_type": "execute_result"
    }
   ],
   "source": [
    "bars_9_df = pd.DataFrame(data)\n",
    "len(bars_9_df)"
   ]
  },
  {
   "cell_type": "code",
   "execution_count": 115,
   "metadata": {},
   "outputs": [
    {
     "data": {
      "text/plain": [
       "6600"
      ]
     },
     "execution_count": 115,
     "metadata": {},
     "output_type": "execute_result"
    }
   ],
   "source": [
    "bars_10_df = pd.DataFrame(data)\n",
    "len(bars_10_df)"
   ]
  },
  {
   "cell_type": "code",
   "execution_count": 117,
   "metadata": {},
   "outputs": [
    {
     "data": {
      "text/plain": [
       "7200"
      ]
     },
     "execution_count": 117,
     "metadata": {},
     "output_type": "execute_result"
    }
   ],
   "source": [
    "bars_11_df = pd.DataFrame(data)\n",
    "len(bars_11_df)"
   ]
  },
  {
   "cell_type": "code",
   "execution_count": 120,
   "metadata": {},
   "outputs": [
    {
     "data": {
      "text/plain": [
       "7800"
      ]
     },
     "execution_count": 120,
     "metadata": {},
     "output_type": "execute_result"
    }
   ],
   "source": [
    "bars_12_df = pd.DataFrame(data)\n",
    "len(bars_12_df)"
   ]
  },
  {
   "cell_type": "code",
   "execution_count": 138,
   "metadata": {},
   "outputs": [
    {
     "data": {
      "text/plain": [
       "8400"
      ]
     },
     "execution_count": 138,
     "metadata": {},
     "output_type": "execute_result"
    }
   ],
   "source": [
    "bars_13_df = pd.DataFrame(data)\n",
    "len(bars_13_df)"
   ]
  },
  {
   "cell_type": "code",
   "execution_count": 141,
   "metadata": {},
   "outputs": [
    {
     "data": {
      "text/plain": [
       "9000"
      ]
     },
     "execution_count": 141,
     "metadata": {},
     "output_type": "execute_result"
    }
   ],
   "source": [
    "bars_14_df = pd.DataFrame(data)\n",
    "len(bars_14_df)"
   ]
  },
  {
   "cell_type": "code",
   "execution_count": 143,
   "metadata": {},
   "outputs": [
    {
     "data": {
      "text/plain": [
       "9600"
      ]
     },
     "execution_count": 143,
     "metadata": {},
     "output_type": "execute_result"
    }
   ],
   "source": [
    "bars_15_df = pd.DataFrame(data)\n",
    "len(bars_15_df)"
   ]
  },
  {
   "cell_type": "code",
   "execution_count": 145,
   "metadata": {},
   "outputs": [
    {
     "data": {
      "text/plain": [
       "10200"
      ]
     },
     "execution_count": 145,
     "metadata": {},
     "output_type": "execute_result"
    }
   ],
   "source": [
    "bars_16_df = pd.DataFrame(data)\n",
    "len(bars_16_df)"
   ]
  },
  {
   "cell_type": "code",
   "execution_count": 147,
   "metadata": {},
   "outputs": [
    {
     "data": {
      "text/plain": [
       "10800"
      ]
     },
     "execution_count": 147,
     "metadata": {},
     "output_type": "execute_result"
    }
   ],
   "source": [
    "bars_17_df = pd.DataFrame(data)\n",
    "len(bars_17_df)"
   ]
  },
  {
   "cell_type": "code",
   "execution_count": 149,
   "metadata": {},
   "outputs": [
    {
     "data": {
      "text/plain": [
       "11340"
      ]
     },
     "execution_count": 149,
     "metadata": {},
     "output_type": "execute_result"
    }
   ],
   "source": [
    "bars_18_df = pd.DataFrame(data)\n",
    "len(bars_18_df)"
   ]
  },
  {
   "cell_type": "code",
   "execution_count": 151,
   "metadata": {},
   "outputs": [
    {
     "data": {
      "text/plain": [
       "11940"
      ]
     },
     "execution_count": 151,
     "metadata": {},
     "output_type": "execute_result"
    }
   ],
   "source": [
    "bars_19_df = pd.DataFrame(data)\n",
    "len(bars_19_df)"
   ]
  },
  {
   "cell_type": "code",
   "execution_count": 154,
   "metadata": {},
   "outputs": [
    {
     "data": {
      "text/plain": [
       "13140"
      ]
     },
     "execution_count": 154,
     "metadata": {},
     "output_type": "execute_result"
    }
   ],
   "source": [
    "bars_20_df = pd.DataFrame(data)\n",
    "len(bars_20_df)"
   ]
  },
  {
   "cell_type": "code",
   "execution_count": 156,
   "metadata": {},
   "outputs": [
    {
     "data": {
      "text/plain": [
       "13740"
      ]
     },
     "execution_count": 156,
     "metadata": {},
     "output_type": "execute_result"
    }
   ],
   "source": [
    "bars_21_df = pd.DataFrame(data)\n",
    "len(bars_21_df)"
   ]
  },
  {
   "cell_type": "code",
   "execution_count": 160,
   "metadata": {},
   "outputs": [],
   "source": [
    "bars_21_df.to_csv('bars_21_df', index=False)"
   ]
  },
  {
   "cell_type": "code",
   "execution_count": 162,
   "metadata": {},
   "outputs": [
    {
     "data": {
      "text/plain": [
       "14340"
      ]
     },
     "execution_count": 162,
     "metadata": {},
     "output_type": "execute_result"
    }
   ],
   "source": [
    "bars_22_df = pd.DataFrame(data)\n",
    "len(bars_22_df)"
   ]
  },
  {
   "cell_type": "code",
   "execution_count": 164,
   "metadata": {},
   "outputs": [
    {
     "data": {
      "text/plain": [
       "14940"
      ]
     },
     "execution_count": 164,
     "metadata": {},
     "output_type": "execute_result"
    }
   ],
   "source": [
    "bars_23_df = pd.DataFrame(data)\n",
    "len(bars_23_df)"
   ]
  },
  {
   "cell_type": "code",
   "execution_count": 166,
   "metadata": {},
   "outputs": [
    {
     "data": {
      "text/plain": [
       "15540"
      ]
     },
     "execution_count": 166,
     "metadata": {},
     "output_type": "execute_result"
    }
   ],
   "source": [
    "bars_24_df = pd.DataFrame(data)\n",
    "len(bars_24_df)"
   ]
  },
  {
   "cell_type": "code",
   "execution_count": 169,
   "metadata": {},
   "outputs": [
    {
     "data": {
      "text/plain": [
       "16140"
      ]
     },
     "execution_count": 169,
     "metadata": {},
     "output_type": "execute_result"
    }
   ],
   "source": [
    "bars_25_df = pd.DataFrame(data)\n",
    "len(bars_25_df)"
   ]
  },
  {
   "cell_type": "code",
   "execution_count": 171,
   "metadata": {},
   "outputs": [
    {
     "data": {
      "text/plain": [
       "16740"
      ]
     },
     "execution_count": 171,
     "metadata": {},
     "output_type": "execute_result"
    }
   ],
   "source": [
    "bars_26_df = pd.DataFrame(data)\n",
    "len(bars_26_df)"
   ]
  },
  {
   "cell_type": "code",
   "execution_count": 173,
   "metadata": {},
   "outputs": [
    {
     "data": {
      "text/plain": [
       "17340"
      ]
     },
     "execution_count": 173,
     "metadata": {},
     "output_type": "execute_result"
    }
   ],
   "source": [
    "bars_27_df = pd.DataFrame(data)\n",
    "len(bars_27_df)"
   ]
  },
  {
   "cell_type": "code",
   "execution_count": 175,
   "metadata": {},
   "outputs": [
    {
     "data": {
      "text/plain": [
       "17940"
      ]
     },
     "execution_count": 175,
     "metadata": {},
     "output_type": "execute_result"
    }
   ],
   "source": [
    "bars_28_df = pd.DataFrame(data)\n",
    "len(bars_28_df)"
   ]
  },
  {
   "cell_type": "code",
   "execution_count": 177,
   "metadata": {},
   "outputs": [
    {
     "data": {
      "text/plain": [
       "18540"
      ]
     },
     "execution_count": 177,
     "metadata": {},
     "output_type": "execute_result"
    }
   ],
   "source": [
    "bars_29_df = pd.DataFrame(data)\n",
    "len(bars_29_df)"
   ]
  },
  {
   "cell_type": "code",
   "execution_count": 179,
   "metadata": {},
   "outputs": [
    {
     "data": {
      "text/plain": [
       "19140"
      ]
     },
     "execution_count": 179,
     "metadata": {},
     "output_type": "execute_result"
    }
   ],
   "source": [
    "bars_30_df = pd.DataFrame(data)\n",
    "len(bars_30_df)"
   ]
  },
  {
   "cell_type": "code",
   "execution_count": 181,
   "metadata": {},
   "outputs": [
    {
     "data": {
      "text/plain": [
       "19740"
      ]
     },
     "execution_count": 181,
     "metadata": {},
     "output_type": "execute_result"
    }
   ],
   "source": [
    "bars_31_df = pd.DataFrame(data)\n",
    "len(bars_31_df)"
   ]
  },
  {
   "cell_type": "code",
   "execution_count": 183,
   "metadata": {},
   "outputs": [
    {
     "data": {
      "text/plain": [
       "20340"
      ]
     },
     "execution_count": 183,
     "metadata": {},
     "output_type": "execute_result"
    }
   ],
   "source": [
    "bars_32_df = pd.DataFrame(data)\n",
    "len(bars_32_df)"
   ]
  },
  {
   "cell_type": "code",
   "execution_count": 186,
   "metadata": {},
   "outputs": [
    {
     "data": {
      "text/plain": [
       "20940"
      ]
     },
     "execution_count": 186,
     "metadata": {},
     "output_type": "execute_result"
    }
   ],
   "source": [
    "bars_33_df = pd.DataFrame(data)\n",
    "len(bars_33_df)"
   ]
  },
  {
   "cell_type": "code",
   "execution_count": 188,
   "metadata": {},
   "outputs": [
    {
     "data": {
      "text/plain": [
       "21540"
      ]
     },
     "execution_count": 188,
     "metadata": {},
     "output_type": "execute_result"
    }
   ],
   "source": [
    "bars_34_df = pd.DataFrame(data)\n",
    "len(bars_34_df)"
   ]
  },
  {
   "cell_type": "code",
   "execution_count": 190,
   "metadata": {},
   "outputs": [
    {
     "data": {
      "text/plain": [
       "22140"
      ]
     },
     "execution_count": 190,
     "metadata": {},
     "output_type": "execute_result"
    }
   ],
   "source": [
    "bars_35_df = pd.DataFrame(data)\n",
    "len(bars_35_df)"
   ]
  },
  {
   "cell_type": "code",
   "execution_count": 192,
   "metadata": {},
   "outputs": [
    {
     "data": {
      "text/plain": [
       "22740"
      ]
     },
     "execution_count": 192,
     "metadata": {},
     "output_type": "execute_result"
    }
   ],
   "source": [
    "bars_36_df = pd.DataFrame(data)\n",
    "len(bars_36_df)"
   ]
  },
  {
   "cell_type": "code",
   "execution_count": 194,
   "metadata": {},
   "outputs": [
    {
     "data": {
      "text/plain": [
       "23340"
      ]
     },
     "execution_count": 194,
     "metadata": {},
     "output_type": "execute_result"
    }
   ],
   "source": [
    "bars_37_df = pd.DataFrame(data)\n",
    "len(bars_37_df)"
   ]
  },
  {
   "cell_type": "code",
   "execution_count": 196,
   "metadata": {},
   "outputs": [
    {
     "data": {
      "text/plain": [
       "23940"
      ]
     },
     "execution_count": 196,
     "metadata": {},
     "output_type": "execute_result"
    }
   ],
   "source": [
    "bars_38_df = pd.DataFrame(data)\n",
    "len(bars_38_df)"
   ]
  },
  {
   "cell_type": "code",
   "execution_count": 198,
   "metadata": {},
   "outputs": [
    {
     "data": {
      "text/plain": [
       "24540"
      ]
     },
     "execution_count": 198,
     "metadata": {},
     "output_type": "execute_result"
    }
   ],
   "source": [
    "bars_39_df = pd.DataFrame(data)\n",
    "len(bars_39_df)"
   ]
  },
  {
   "cell_type": "code",
   "execution_count": 200,
   "metadata": {},
   "outputs": [
    {
     "data": {
      "text/plain": [
       "25140"
      ]
     },
     "execution_count": 200,
     "metadata": {},
     "output_type": "execute_result"
    }
   ],
   "source": [
    "bars_40_df = pd.DataFrame(data)\n",
    "len(bars_40_df)"
   ]
  },
  {
   "cell_type": "code",
   "execution_count": 202,
   "metadata": {},
   "outputs": [
    {
     "data": {
      "text/plain": [
       "25740"
      ]
     },
     "execution_count": 202,
     "metadata": {},
     "output_type": "execute_result"
    }
   ],
   "source": [
    "bars_41_df = pd.DataFrame(data)\n",
    "len(bars_41_df)"
   ]
  },
  {
   "cell_type": "code",
   "execution_count": 204,
   "metadata": {},
   "outputs": [
    {
     "data": {
      "text/plain": [
       "26340"
      ]
     },
     "execution_count": 204,
     "metadata": {},
     "output_type": "execute_result"
    }
   ],
   "source": [
    "bars_42_df = pd.DataFrame(data)\n",
    "len(bars_42_df)"
   ]
  },
  {
   "cell_type": "code",
   "execution_count": 206,
   "metadata": {},
   "outputs": [
    {
     "data": {
      "text/plain": [
       "26940"
      ]
     },
     "execution_count": 206,
     "metadata": {},
     "output_type": "execute_result"
    }
   ],
   "source": [
    "bars_43_df = pd.DataFrame(data)\n",
    "len(bars_43_df)"
   ]
  },
  {
   "cell_type": "code",
   "execution_count": 208,
   "metadata": {},
   "outputs": [
    {
     "data": {
      "text/plain": [
       "27540"
      ]
     },
     "execution_count": 208,
     "metadata": {},
     "output_type": "execute_result"
    }
   ],
   "source": [
    "bars_44_df = pd.DataFrame(data)\n",
    "len(bars_44_df)"
   ]
  },
  {
   "cell_type": "code",
   "execution_count": 210,
   "metadata": {},
   "outputs": [
    {
     "data": {
      "text/plain": [
       "28140"
      ]
     },
     "execution_count": 210,
     "metadata": {},
     "output_type": "execute_result"
    }
   ],
   "source": [
    "bars_45_df = pd.DataFrame(data)\n",
    "len(bars_45_df)"
   ]
  },
  {
   "cell_type": "code",
   "execution_count": 212,
   "metadata": {},
   "outputs": [
    {
     "data": {
      "text/plain": [
       "28740"
      ]
     },
     "execution_count": 212,
     "metadata": {},
     "output_type": "execute_result"
    }
   ],
   "source": [
    "bars_46_df = pd.DataFrame(data)\n",
    "len(bars_46_df)"
   ]
  },
  {
   "cell_type": "code",
   "execution_count": 214,
   "metadata": {},
   "outputs": [
    {
     "data": {
      "text/plain": [
       "29340"
      ]
     },
     "execution_count": 214,
     "metadata": {},
     "output_type": "execute_result"
    }
   ],
   "source": [
    "bars_47_df = pd.DataFrame(data)\n",
    "len(bars_47_df)"
   ]
  },
  {
   "cell_type": "code",
   "execution_count": 216,
   "metadata": {},
   "outputs": [
    {
     "data": {
      "text/plain": [
       "29940"
      ]
     },
     "execution_count": 216,
     "metadata": {},
     "output_type": "execute_result"
    }
   ],
   "source": [
    "bars_48_df = pd.DataFrame(data)\n",
    "len(bars_48_df)"
   ]
  },
  {
   "cell_type": "code",
   "execution_count": 218,
   "metadata": {},
   "outputs": [
    {
     "data": {
      "text/plain": [
       "30540"
      ]
     },
     "execution_count": 218,
     "metadata": {},
     "output_type": "execute_result"
    }
   ],
   "source": [
    "bars_49_df = pd.DataFrame(data)\n",
    "len(bars_49_df)"
   ]
  },
  {
   "cell_type": "code",
   "execution_count": 220,
   "metadata": {},
   "outputs": [
    {
     "data": {
      "text/plain": [
       "31140"
      ]
     },
     "execution_count": 220,
     "metadata": {},
     "output_type": "execute_result"
    }
   ],
   "source": [
    "bars_50_df = pd.DataFrame(data)\n",
    "len(bars_50_df)"
   ]
  },
  {
   "cell_type": "code",
   "execution_count": 222,
   "metadata": {},
   "outputs": [
    {
     "data": {
      "text/plain": [
       "31740"
      ]
     },
     "execution_count": 222,
     "metadata": {},
     "output_type": "execute_result"
    }
   ],
   "source": [
    "bars_51_df = pd.DataFrame(data)\n",
    "len(bars_51_df)"
   ]
  },
  {
   "cell_type": "code",
   "execution_count": 224,
   "metadata": {},
   "outputs": [
    {
     "data": {
      "text/plain": [
       "32340"
      ]
     },
     "execution_count": 224,
     "metadata": {},
     "output_type": "execute_result"
    }
   ],
   "source": [
    "bars_52_df = pd.DataFrame(data)\n",
    "len(bars_52_df)\n"
   ]
  },
  {
   "cell_type": "code",
   "execution_count": 226,
   "metadata": {},
   "outputs": [
    {
     "data": {
      "text/plain": [
       "32700"
      ]
     },
     "execution_count": 226,
     "metadata": {},
     "output_type": "execute_result"
    }
   ],
   "source": [
    "bars_53_df = pd.DataFrame(data)\n",
    "len(bars_53_df)\n",
    "\n"
   ]
  },
  {
   "cell_type": "code",
   "execution_count": 252,
   "metadata": {},
   "outputs": [],
   "source": [
    "bars_54_df = pd.DataFrame(data)"
   ]
  },
  {
   "cell_type": "code",
   "execution_count": 253,
   "metadata": {},
   "outputs": [
    {
     "data": {
      "text/plain": [
       "33360"
      ]
     },
     "execution_count": 253,
     "metadata": {},
     "output_type": "execute_result"
    }
   ],
   "source": [
    "len(bars_54_df)"
   ]
  },
  {
   "cell_type": "code",
   "execution_count": 227,
   "metadata": {},
   "outputs": [
    {
     "data": {
      "text/html": [
       "<div>\n",
       "<style scoped>\n",
       "    .dataframe tbody tr th:only-of-type {\n",
       "        vertical-align: middle;\n",
       "    }\n",
       "\n",
       "    .dataframe tbody tr th {\n",
       "        vertical-align: top;\n",
       "    }\n",
       "\n",
       "    .dataframe thead th {\n",
       "        text-align: right;\n",
       "    }\n",
       "</style>\n",
       "<table border=\"1\" class=\"dataframe\">\n",
       "  <thead>\n",
       "    <tr style=\"text-align: right;\">\n",
       "      <th></th>\n",
       "      <th>Name</th>\n",
       "      <th>Address</th>\n",
       "      <th>Latitude</th>\n",
       "      <th>Longitude</th>\n",
       "      <th>Rating</th>\n",
       "      <th>Price Level</th>\n",
       "    </tr>\n",
       "  </thead>\n",
       "  <tbody>\n",
       "    <tr>\n",
       "      <th>0</th>\n",
       "      <td>Pub St-Paul</td>\n",
       "      <td>124 Rue Saint-Paul E, Montréal, QC H2Y 1G6</td>\n",
       "      <td>45.506944</td>\n",
       "      <td>-73.552500</td>\n",
       "      <td>3.9</td>\n",
       "      <td>2</td>\n",
       "    </tr>\n",
       "    <tr>\n",
       "      <th>1</th>\n",
       "      <td>Piranha Bar</td>\n",
       "      <td>680 Saint-Catherine St W, Montreal, Quebec H3B...</td>\n",
       "      <td>45.502852</td>\n",
       "      <td>-73.569942</td>\n",
       "      <td>4.1</td>\n",
       "      <td>1</td>\n",
       "    </tr>\n",
       "    <tr>\n",
       "      <th>2</th>\n",
       "      <td>Patrick's Pub</td>\n",
       "      <td>1707 Saint Denis St, Montreal, Quebec H2X 3K4</td>\n",
       "      <td>45.515570</td>\n",
       "      <td>-73.564079</td>\n",
       "      <td>4.2</td>\n",
       "      <td>2</td>\n",
       "    </tr>\n",
       "    <tr>\n",
       "      <th>3</th>\n",
       "      <td>MVP Resto-Bar Sportif</td>\n",
       "      <td>200 St Catherine St E, Montreal, Quebec H2X 1L1</td>\n",
       "      <td>45.511730</td>\n",
       "      <td>-73.561981</td>\n",
       "      <td>3.8</td>\n",
       "      <td>2</td>\n",
       "    </tr>\n",
       "    <tr>\n",
       "      <th>4</th>\n",
       "      <td>Pub John Michaels</td>\n",
       "      <td>458 Pl. Jacques-Cartier, Montréal, QC H2Y 3Z2</td>\n",
       "      <td>45.508011</td>\n",
       "      <td>-73.553953</td>\n",
       "      <td>4.0</td>\n",
       "      <td>2</td>\n",
       "    </tr>\n",
       "    <tr>\n",
       "      <th>...</th>\n",
       "      <td>...</td>\n",
       "      <td>...</td>\n",
       "      <td>...</td>\n",
       "      <td>...</td>\n",
       "      <td>...</td>\n",
       "      <td>...</td>\n",
       "    </tr>\n",
       "    <tr>\n",
       "      <th>32695</th>\n",
       "      <td>Barvikha</td>\n",
       "      <td>Konayev Ave 39, Shymkent</td>\n",
       "      <td>42.329149</td>\n",
       "      <td>69.601676</td>\n",
       "      <td>4.6</td>\n",
       "      <td>N/A</td>\n",
       "    </tr>\n",
       "    <tr>\n",
       "      <th>32696</th>\n",
       "      <td>SVOYBAR.KZ</td>\n",
       "      <td>Magzhan Zhumabaev Avenue 24, Astana 020000</td>\n",
       "      <td>51.140154</td>\n",
       "      <td>71.488687</td>\n",
       "      <td>2.9</td>\n",
       "      <td>N/A</td>\n",
       "    </tr>\n",
       "    <tr>\n",
       "      <th>32697</th>\n",
       "      <td>Угли Bar &amp; More Лаунж-бар</td>\n",
       "      <td>Respublika Ave 23/1, Astana 010000</td>\n",
       "      <td>51.164357</td>\n",
       "      <td>71.426272</td>\n",
       "      <td>4.6</td>\n",
       "      <td>N/A</td>\n",
       "    </tr>\n",
       "    <tr>\n",
       "      <th>32698</th>\n",
       "      <td>lounge bar</td>\n",
       "      <td>9V4X+VM4, Stepnogorsk 020000</td>\n",
       "      <td>52.357152</td>\n",
       "      <td>71.899304</td>\n",
       "      <td>3.2</td>\n",
       "      <td>N/A</td>\n",
       "    </tr>\n",
       "    <tr>\n",
       "      <th>32699</th>\n",
       "      <td>Black ROOM Lounge Bar</td>\n",
       "      <td>Zhengis Ave 5/1, Astana 010000</td>\n",
       "      <td>51.161735</td>\n",
       "      <td>71.413519</td>\n",
       "      <td>4.6</td>\n",
       "      <td>N/A</td>\n",
       "    </tr>\n",
       "  </tbody>\n",
       "</table>\n",
       "<p>32700 rows × 6 columns</p>\n",
       "</div>"
      ],
      "text/plain": [
       "                            Name  \\\n",
       "0                    Pub St-Paul   \n",
       "1                    Piranha Bar   \n",
       "2                  Patrick's Pub   \n",
       "3          MVP Resto-Bar Sportif   \n",
       "4              Pub John Michaels   \n",
       "...                          ...   \n",
       "32695                   Barvikha   \n",
       "32696                 SVOYBAR.KZ   \n",
       "32697  Угли Bar & More Лаунж-бар   \n",
       "32698                 lounge bar   \n",
       "32699      Black ROOM Lounge Bar   \n",
       "\n",
       "                                                 Address   Latitude  \\\n",
       "0             124 Rue Saint-Paul E, Montréal, QC H2Y 1G6  45.506944   \n",
       "1      680 Saint-Catherine St W, Montreal, Quebec H3B...  45.502852   \n",
       "2          1707 Saint Denis St, Montreal, Quebec H2X 3K4  45.515570   \n",
       "3        200 St Catherine St E, Montreal, Quebec H2X 1L1  45.511730   \n",
       "4          458 Pl. Jacques-Cartier, Montréal, QC H2Y 3Z2  45.508011   \n",
       "...                                                  ...        ...   \n",
       "32695                           Konayev Ave 39, Shymkent  42.329149   \n",
       "32696         Magzhan Zhumabaev Avenue 24, Astana 020000  51.140154   \n",
       "32697                 Respublika Ave 23/1, Astana 010000  51.164357   \n",
       "32698                       9V4X+VM4, Stepnogorsk 020000  52.357152   \n",
       "32699                     Zhengis Ave 5/1, Astana 010000  51.161735   \n",
       "\n",
       "       Longitude  Rating Price Level  \n",
       "0     -73.552500     3.9           2  \n",
       "1     -73.569942     4.1           1  \n",
       "2     -73.564079     4.2           2  \n",
       "3     -73.561981     3.8           2  \n",
       "4     -73.553953     4.0           2  \n",
       "...          ...     ...         ...  \n",
       "32695  69.601676     4.6         N/A  \n",
       "32696  71.488687     2.9         N/A  \n",
       "32697  71.426272     4.6         N/A  \n",
       "32698  71.899304     3.2         N/A  \n",
       "32699  71.413519     4.6         N/A  \n",
       "\n",
       "[32700 rows x 6 columns]"
      ]
     },
     "execution_count": 227,
     "metadata": {},
     "output_type": "execute_result"
    }
   ],
   "source": [
    "bars_53_df"
   ]
  },
  {
   "cell_type": "markdown",
   "metadata": {},
   "source": [
    "# Find and filter out duplicates\n"
   ]
  },
  {
   "cell_type": "code",
   "execution_count": null,
   "metadata": {},
   "outputs": [],
   "source": [
    "\n",
    "duplicate_rows = bars_54_df.duplicated()\n"
   ]
  },
  {
   "cell_type": "code",
   "execution_count": 255,
   "metadata": {},
   "outputs": [],
   "source": [
    "num_duplicates = duplicate_rows.sum()\n"
   ]
  },
  {
   "cell_type": "code",
   "execution_count": 256,
   "metadata": {},
   "outputs": [
    {
     "data": {
      "text/plain": [
       "32765"
      ]
     },
     "execution_count": 256,
     "metadata": {},
     "output_type": "execute_result"
    }
   ],
   "source": [
    "num_duplicates"
   ]
  },
  {
   "cell_type": "code",
   "execution_count": 257,
   "metadata": {},
   "outputs": [],
   "source": [
    "duplicates = bars_53_df[bars_53_df.duplicated(keep=False)]\n"
   ]
  },
  {
   "cell_type": "code",
   "execution_count": 258,
   "metadata": {},
   "outputs": [
    {
     "data": {
      "text/html": [
       "<div>\n",
       "<style scoped>\n",
       "    .dataframe tbody tr th:only-of-type {\n",
       "        vertical-align: middle;\n",
       "    }\n",
       "\n",
       "    .dataframe tbody tr th {\n",
       "        vertical-align: top;\n",
       "    }\n",
       "\n",
       "    .dataframe thead th {\n",
       "        text-align: right;\n",
       "    }\n",
       "</style>\n",
       "<table border=\"1\" class=\"dataframe\">\n",
       "  <thead>\n",
       "    <tr style=\"text-align: right;\">\n",
       "      <th></th>\n",
       "      <th>Name</th>\n",
       "      <th>Address</th>\n",
       "      <th>Latitude</th>\n",
       "      <th>Longitude</th>\n",
       "      <th>Rating</th>\n",
       "      <th>Price Level</th>\n",
       "    </tr>\n",
       "  </thead>\n",
       "  <tbody>\n",
       "    <tr>\n",
       "      <th>0</th>\n",
       "      <td>Pub St-Paul</td>\n",
       "      <td>124 Rue Saint-Paul E, Montréal, QC H2Y 1G6</td>\n",
       "      <td>45.506944</td>\n",
       "      <td>-73.552500</td>\n",
       "      <td>3.9</td>\n",
       "      <td>2</td>\n",
       "    </tr>\n",
       "    <tr>\n",
       "      <th>1</th>\n",
       "      <td>Piranha Bar</td>\n",
       "      <td>680 Saint-Catherine St W, Montreal, Quebec H3B...</td>\n",
       "      <td>45.502852</td>\n",
       "      <td>-73.569942</td>\n",
       "      <td>4.1</td>\n",
       "      <td>1</td>\n",
       "    </tr>\n",
       "    <tr>\n",
       "      <th>2</th>\n",
       "      <td>Patrick's Pub</td>\n",
       "      <td>1707 Saint Denis St, Montreal, Quebec H2X 3K4</td>\n",
       "      <td>45.515570</td>\n",
       "      <td>-73.564079</td>\n",
       "      <td>4.2</td>\n",
       "      <td>2</td>\n",
       "    </tr>\n",
       "    <tr>\n",
       "      <th>3</th>\n",
       "      <td>MVP Resto-Bar Sportif</td>\n",
       "      <td>200 St Catherine St E, Montreal, Quebec H2X 1L1</td>\n",
       "      <td>45.511730</td>\n",
       "      <td>-73.561981</td>\n",
       "      <td>3.8</td>\n",
       "      <td>2</td>\n",
       "    </tr>\n",
       "    <tr>\n",
       "      <th>4</th>\n",
       "      <td>Pub John Michaels</td>\n",
       "      <td>458 Pl. Jacques-Cartier, Montréal, QC H2Y 3Z2</td>\n",
       "      <td>45.508011</td>\n",
       "      <td>-73.553953</td>\n",
       "      <td>4.0</td>\n",
       "      <td>2</td>\n",
       "    </tr>\n",
       "    <tr>\n",
       "      <th>...</th>\n",
       "      <td>...</td>\n",
       "      <td>...</td>\n",
       "      <td>...</td>\n",
       "      <td>...</td>\n",
       "      <td>...</td>\n",
       "      <td>...</td>\n",
       "    </tr>\n",
       "    <tr>\n",
       "      <th>32695</th>\n",
       "      <td>Barvikha</td>\n",
       "      <td>Konayev Ave 39, Shymkent</td>\n",
       "      <td>42.329149</td>\n",
       "      <td>69.601676</td>\n",
       "      <td>4.6</td>\n",
       "      <td>N/A</td>\n",
       "    </tr>\n",
       "    <tr>\n",
       "      <th>32696</th>\n",
       "      <td>SVOYBAR.KZ</td>\n",
       "      <td>Magzhan Zhumabaev Avenue 24, Astana 020000</td>\n",
       "      <td>51.140154</td>\n",
       "      <td>71.488687</td>\n",
       "      <td>2.9</td>\n",
       "      <td>N/A</td>\n",
       "    </tr>\n",
       "    <tr>\n",
       "      <th>32697</th>\n",
       "      <td>Угли Bar &amp; More Лаунж-бар</td>\n",
       "      <td>Respublika Ave 23/1, Astana 010000</td>\n",
       "      <td>51.164357</td>\n",
       "      <td>71.426272</td>\n",
       "      <td>4.6</td>\n",
       "      <td>N/A</td>\n",
       "    </tr>\n",
       "    <tr>\n",
       "      <th>32698</th>\n",
       "      <td>lounge bar</td>\n",
       "      <td>9V4X+VM4, Stepnogorsk 020000</td>\n",
       "      <td>52.357152</td>\n",
       "      <td>71.899304</td>\n",
       "      <td>3.2</td>\n",
       "      <td>N/A</td>\n",
       "    </tr>\n",
       "    <tr>\n",
       "      <th>32699</th>\n",
       "      <td>Black ROOM Lounge Bar</td>\n",
       "      <td>Zhengis Ave 5/1, Astana 010000</td>\n",
       "      <td>51.161735</td>\n",
       "      <td>71.413519</td>\n",
       "      <td>4.6</td>\n",
       "      <td>N/A</td>\n",
       "    </tr>\n",
       "  </tbody>\n",
       "</table>\n",
       "<p>32673 rows × 6 columns</p>\n",
       "</div>"
      ],
      "text/plain": [
       "                            Name  \\\n",
       "0                    Pub St-Paul   \n",
       "1                    Piranha Bar   \n",
       "2                  Patrick's Pub   \n",
       "3          MVP Resto-Bar Sportif   \n",
       "4              Pub John Michaels   \n",
       "...                          ...   \n",
       "32695                   Barvikha   \n",
       "32696                 SVOYBAR.KZ   \n",
       "32697  Угли Bar & More Лаунж-бар   \n",
       "32698                 lounge bar   \n",
       "32699      Black ROOM Lounge Bar   \n",
       "\n",
       "                                                 Address   Latitude  \\\n",
       "0             124 Rue Saint-Paul E, Montréal, QC H2Y 1G6  45.506944   \n",
       "1      680 Saint-Catherine St W, Montreal, Quebec H3B...  45.502852   \n",
       "2          1707 Saint Denis St, Montreal, Quebec H2X 3K4  45.515570   \n",
       "3        200 St Catherine St E, Montreal, Quebec H2X 1L1  45.511730   \n",
       "4          458 Pl. Jacques-Cartier, Montréal, QC H2Y 3Z2  45.508011   \n",
       "...                                                  ...        ...   \n",
       "32695                           Konayev Ave 39, Shymkent  42.329149   \n",
       "32696         Magzhan Zhumabaev Avenue 24, Astana 020000  51.140154   \n",
       "32697                 Respublika Ave 23/1, Astana 010000  51.164357   \n",
       "32698                       9V4X+VM4, Stepnogorsk 020000  52.357152   \n",
       "32699                     Zhengis Ave 5/1, Astana 010000  51.161735   \n",
       "\n",
       "       Longitude  Rating Price Level  \n",
       "0     -73.552500     3.9           2  \n",
       "1     -73.569942     4.1           1  \n",
       "2     -73.564079     4.2           2  \n",
       "3     -73.561981     3.8           2  \n",
       "4     -73.553953     4.0           2  \n",
       "...          ...     ...         ...  \n",
       "32695  69.601676     4.6         N/A  \n",
       "32696  71.488687     2.9         N/A  \n",
       "32697  71.426272     4.6         N/A  \n",
       "32698  71.899304     3.2         N/A  \n",
       "32699  71.413519     4.6         N/A  \n",
       "\n",
       "[32673 rows x 6 columns]"
      ]
     },
     "execution_count": 258,
     "metadata": {},
     "output_type": "execute_result"
    }
   ],
   "source": [
    "duplicates"
   ]
  },
  {
   "cell_type": "code",
   "execution_count": 259,
   "metadata": {},
   "outputs": [],
   "source": [
    "bars_in_montreal_collected_unique = bars_54_df.drop_duplicates(keep='first')"
   ]
  },
  {
   "cell_type": "code",
   "execution_count": 260,
   "metadata": {},
   "outputs": [
    {
     "data": {
      "text/html": [
       "<div>\n",
       "<style scoped>\n",
       "    .dataframe tbody tr th:only-of-type {\n",
       "        vertical-align: middle;\n",
       "    }\n",
       "\n",
       "    .dataframe tbody tr th {\n",
       "        vertical-align: top;\n",
       "    }\n",
       "\n",
       "    .dataframe thead th {\n",
       "        text-align: right;\n",
       "    }\n",
       "</style>\n",
       "<table border=\"1\" class=\"dataframe\">\n",
       "  <thead>\n",
       "    <tr style=\"text-align: right;\">\n",
       "      <th></th>\n",
       "      <th>Name</th>\n",
       "      <th>Address</th>\n",
       "      <th>Latitude</th>\n",
       "      <th>Longitude</th>\n",
       "      <th>Rating</th>\n",
       "      <th>Price Level</th>\n",
       "    </tr>\n",
       "  </thead>\n",
       "  <tbody>\n",
       "    <tr>\n",
       "      <th>29995</th>\n",
       "      <td>Guten Pub</td>\n",
       "      <td>Mukimi Street 88, Tashkent, Toshkent Shahri, U...</td>\n",
       "      <td>41.285095</td>\n",
       "      <td>69.234993</td>\n",
       "      <td>4.1</td>\n",
       "      <td>N/A</td>\n",
       "    </tr>\n",
       "    <tr>\n",
       "      <th>29996</th>\n",
       "      <td>Radisson Бар Cigar</td>\n",
       "      <td>Saryarka Avenue 2, Astana 020000</td>\n",
       "      <td>51.159281</td>\n",
       "      <td>71.412689</td>\n",
       "      <td>5.0</td>\n",
       "      <td>N/A</td>\n",
       "    </tr>\n",
       "    <tr>\n",
       "      <th>29997</th>\n",
       "      <td>Barsuk Restobar</td>\n",
       "      <td>Молдагалиева 29Б, Atyrau</td>\n",
       "      <td>47.093408</td>\n",
       "      <td>51.915408</td>\n",
       "      <td>4.3</td>\n",
       "      <td>N/A</td>\n",
       "    </tr>\n",
       "    <tr>\n",
       "      <th>29998</th>\n",
       "      <td>WWK Bar</td>\n",
       "      <td>Prospekt Mangilik Yel. 27, Astana 020000</td>\n",
       "      <td>51.109234</td>\n",
       "      <td>71.431080</td>\n",
       "      <td>5.0</td>\n",
       "      <td>N/A</td>\n",
       "    </tr>\n",
       "    <tr>\n",
       "      <th>29999</th>\n",
       "      <td>Baoli Lounge &amp; Cafe Nur-Sultan</td>\n",
       "      <td>Turkistan Street 16, Astana 020000</td>\n",
       "      <td>51.106972</td>\n",
       "      <td>71.424823</td>\n",
       "      <td>4.1</td>\n",
       "      <td>2</td>\n",
       "    </tr>\n",
       "    <tr>\n",
       "      <th>30043</th>\n",
       "      <td>Resto Bar 24/7</td>\n",
       "      <td>R3FF+JC8, Karaganda 100000</td>\n",
       "      <td>49.824014</td>\n",
       "      <td>73.073505</td>\n",
       "      <td>5.0</td>\n",
       "      <td>N/A</td>\n",
       "    </tr>\n",
       "    <tr>\n",
       "      <th>30046</th>\n",
       "      <td>Мята Lounge Мендикуловта</td>\n",
       "      <td>Khadzhimukan Street 49, Almaty 050051</td>\n",
       "      <td>43.225372</td>\n",
       "      <td>76.954621</td>\n",
       "      <td>4.3</td>\n",
       "      <td>2</td>\n",
       "    </tr>\n",
       "    <tr>\n",
       "      <th>30047</th>\n",
       "      <td>Мята lounge на Кунаева</td>\n",
       "      <td>Kunaev St 83, Almaty 050000</td>\n",
       "      <td>43.256972</td>\n",
       "      <td>76.949263</td>\n",
       "      <td>4.7</td>\n",
       "      <td>N/A</td>\n",
       "    </tr>\n",
       "    <tr>\n",
       "      <th>30048</th>\n",
       "      <td>Kafe Gril' Bar Kabinet</td>\n",
       "      <td>Nurken Abdirov Avenue 32, Karaganda 100000</td>\n",
       "      <td>49.805729</td>\n",
       "      <td>73.101210</td>\n",
       "      <td>5.0</td>\n",
       "      <td>N/A</td>\n",
       "    </tr>\n",
       "    <tr>\n",
       "      <th>30051</th>\n",
       "      <td>Pivnoy Bar</td>\n",
       "      <td>4FJH+H94, Astana 020000</td>\n",
       "      <td>51.131247</td>\n",
       "      <td>71.478380</td>\n",
       "      <td>0.0</td>\n",
       "      <td>N/A</td>\n",
       "    </tr>\n",
       "    <tr>\n",
       "      <th>30056</th>\n",
       "      <td>Barvikha</td>\n",
       "      <td>Konayev Ave 39, Shymkent</td>\n",
       "      <td>42.329149</td>\n",
       "      <td>69.601676</td>\n",
       "      <td>4.6</td>\n",
       "      <td>N/A</td>\n",
       "    </tr>\n",
       "    <tr>\n",
       "      <th>30057</th>\n",
       "      <td>SVOYBAR.KZ</td>\n",
       "      <td>Magzhan Zhumabaev Avenue 24, Astana 020000</td>\n",
       "      <td>51.140154</td>\n",
       "      <td>71.488687</td>\n",
       "      <td>2.9</td>\n",
       "      <td>N/A</td>\n",
       "    </tr>\n",
       "    <tr>\n",
       "      <th>30059</th>\n",
       "      <td>lounge bar</td>\n",
       "      <td>9V4X+VM4, Stepnogorsk 020000</td>\n",
       "      <td>52.357152</td>\n",
       "      <td>71.899304</td>\n",
       "      <td>3.2</td>\n",
       "      <td>N/A</td>\n",
       "    </tr>\n",
       "    <tr>\n",
       "      <th>30297</th>\n",
       "      <td>РАЙБАР</td>\n",
       "      <td>Saryarka Avenue 21, Astana 010000</td>\n",
       "      <td>51.169423</td>\n",
       "      <td>71.406638</td>\n",
       "      <td>2.3</td>\n",
       "      <td>N/A</td>\n",
       "    </tr>\n",
       "    <tr>\n",
       "      <th>30779</th>\n",
       "      <td>Unobar</td>\n",
       "      <td>Kenesary St 65, Astana 020000</td>\n",
       "      <td>51.167510</td>\n",
       "      <td>71.441396</td>\n",
       "      <td>5.0</td>\n",
       "      <td>N/A</td>\n",
       "    </tr>\n",
       "    <tr>\n",
       "      <th>30953</th>\n",
       "      <td>Tennisi Arena Pub</td>\n",
       "      <td>Zhandosov Street 2, Almaty 050000</td>\n",
       "      <td>43.236895</td>\n",
       "      <td>76.913159</td>\n",
       "      <td>4.5</td>\n",
       "      <td>2</td>\n",
       "    </tr>\n",
       "    <tr>\n",
       "      <th>30957</th>\n",
       "      <td>Лаунж-бар \"Gin\"</td>\n",
       "      <td>R432+VFF, Nurken Abdirov Avenue, Karaganda 100000</td>\n",
       "      <td>49.804691</td>\n",
       "      <td>73.101182</td>\n",
       "      <td>4.1</td>\n",
       "      <td>N/A</td>\n",
       "    </tr>\n",
       "    <tr>\n",
       "      <th>33155</th>\n",
       "      <td>Barbossa</td>\n",
       "      <td>3956 A St Laurent Blvd, Montreal, Quebec H2W 1Y3</td>\n",
       "      <td>45.516651</td>\n",
       "      <td>-73.578984</td>\n",
       "      <td>4.1</td>\n",
       "      <td>2</td>\n",
       "    </tr>\n",
       "    <tr>\n",
       "      <th>33236</th>\n",
       "      <td>KARAOKE BAR 3 MINOTS</td>\n",
       "      <td>3812 St Laurent Blvd, Montreal, Quebec H2W 1X6</td>\n",
       "      <td>45.515533</td>\n",
       "      <td>-73.576472</td>\n",
       "      <td>3.4</td>\n",
       "      <td>1</td>\n",
       "    </tr>\n",
       "    <tr>\n",
       "      <th>33348</th>\n",
       "      <td>Castello Resto Lounge</td>\n",
       "      <td>615 Bd Curé-Labelle, Laval, QC H7V 2T8</td>\n",
       "      <td>45.537344</td>\n",
       "      <td>-73.742808</td>\n",
       "      <td>4.2</td>\n",
       "      <td>2</td>\n",
       "    </tr>\n",
       "  </tbody>\n",
       "</table>\n",
       "</div>"
      ],
      "text/plain": [
       "                                 Name  \\\n",
       "29995                       Guten Pub   \n",
       "29996              Radisson Бар Cigar   \n",
       "29997                 Barsuk Restobar   \n",
       "29998                         WWK Bar   \n",
       "29999  Baoli Lounge & Cafe Nur-Sultan   \n",
       "30043                  Resto Bar 24/7   \n",
       "30046        Мята Lounge Мендикуловта   \n",
       "30047          Мята lounge на Кунаева   \n",
       "30048          Kafe Gril' Bar Kabinet   \n",
       "30051                      Pivnoy Bar   \n",
       "30056                        Barvikha   \n",
       "30057                      SVOYBAR.KZ   \n",
       "30059                      lounge bar   \n",
       "30297                          РАЙБАР   \n",
       "30779                          Unobar   \n",
       "30953               Tennisi Arena Pub   \n",
       "30957                 Лаунж-бар \"Gin\"   \n",
       "33155                        Barbossa   \n",
       "33236            KARAOKE BAR 3 MINOTS   \n",
       "33348           Castello Resto Lounge   \n",
       "\n",
       "                                                 Address   Latitude  \\\n",
       "29995  Mukimi Street 88, Tashkent, Toshkent Shahri, U...  41.285095   \n",
       "29996                   Saryarka Avenue 2, Astana 020000  51.159281   \n",
       "29997                           Молдагалиева 29Б, Atyrau  47.093408   \n",
       "29998           Prospekt Mangilik Yel. 27, Astana 020000  51.109234   \n",
       "29999                 Turkistan Street 16, Astana 020000  51.106972   \n",
       "30043                         R3FF+JC8, Karaganda 100000  49.824014   \n",
       "30046              Khadzhimukan Street 49, Almaty 050051  43.225372   \n",
       "30047                        Kunaev St 83, Almaty 050000  43.256972   \n",
       "30048         Nurken Abdirov Avenue 32, Karaganda 100000  49.805729   \n",
       "30051                            4FJH+H94, Astana 020000  51.131247   \n",
       "30056                           Konayev Ave 39, Shymkent  42.329149   \n",
       "30057         Magzhan Zhumabaev Avenue 24, Astana 020000  51.140154   \n",
       "30059                       9V4X+VM4, Stepnogorsk 020000  52.357152   \n",
       "30297                  Saryarka Avenue 21, Astana 010000  51.169423   \n",
       "30779                      Kenesary St 65, Astana 020000  51.167510   \n",
       "30953                  Zhandosov Street 2, Almaty 050000  43.236895   \n",
       "30957  R432+VFF, Nurken Abdirov Avenue, Karaganda 100000  49.804691   \n",
       "33155   3956 A St Laurent Blvd, Montreal, Quebec H2W 1Y3  45.516651   \n",
       "33236     3812 St Laurent Blvd, Montreal, Quebec H2W 1X6  45.515533   \n",
       "33348             615 Bd Curé-Labelle, Laval, QC H7V 2T8  45.537344   \n",
       "\n",
       "       Longitude  Rating Price Level  \n",
       "29995  69.234993     4.1         N/A  \n",
       "29996  71.412689     5.0         N/A  \n",
       "29997  51.915408     4.3         N/A  \n",
       "29998  71.431080     5.0         N/A  \n",
       "29999  71.424823     4.1           2  \n",
       "30043  73.073505     5.0         N/A  \n",
       "30046  76.954621     4.3           2  \n",
       "30047  76.949263     4.7         N/A  \n",
       "30048  73.101210     5.0         N/A  \n",
       "30051  71.478380     0.0         N/A  \n",
       "30056  69.601676     4.6         N/A  \n",
       "30057  71.488687     2.9         N/A  \n",
       "30059  71.899304     3.2         N/A  \n",
       "30297  71.406638     2.3         N/A  \n",
       "30779  71.441396     5.0         N/A  \n",
       "30953  76.913159     4.5           2  \n",
       "30957  73.101182     4.1         N/A  \n",
       "33155 -73.578984     4.1           2  \n",
       "33236 -73.576472     3.4           1  \n",
       "33348 -73.742808     4.2           2  "
      ]
     },
     "execution_count": 260,
     "metadata": {},
     "output_type": "execute_result"
    }
   ],
   "source": [
    "bars_in_montreal_collected_unique.tail(20)"
   ]
  },
  {
   "cell_type": "code",
   "execution_count": 261,
   "metadata": {},
   "outputs": [],
   "source": [
    "bars_in_montreal_collected_unique.to_csv('bars_in_montreal_collected_unique.csv', index=False)\n",
    "\n"
   ]
  },
  {
   "cell_type": "code",
   "execution_count": 263,
   "metadata": {},
   "outputs": [],
   "source": [
    "bars_in_montreal_collected_unique.to_csv('bars_in_montreal_collected_unique_conv.csv', index=False)\n",
    "\n"
   ]
  },
  {
   "cell_type": "code",
   "execution_count": 264,
   "metadata": {},
   "outputs": [],
   "source": [
    "bars_in_montreal_collected_unique.to_csv('bars_in_montreal_collected_unique_utf8.csv', index=False, encoding='utf-8-sig')\n"
   ]
  },
  {
   "cell_type": "markdown",
   "metadata": {},
   "source": [
    "## Add GeoHashes"
   ]
  },
  {
   "cell_type": "code",
   "execution_count": 265,
   "metadata": {},
   "outputs": [],
   "source": [
    "import geohash\n",
    "\n",
    "# Function to generate geohash\n",
    "def compute_geohash(row, precision=5):\n",
    "    return geohash.encode(row['Latitude'], row['Longitude'], precision=precision)\n"
   ]
  },
  {
   "cell_type": "code",
   "execution_count": 266,
   "metadata": {},
   "outputs": [
    {
     "name": "stderr",
     "output_type": "stream",
     "text": [
      "C:\\Users\\Laven\\AppData\\Local\\Temp\\ipykernel_30516\\102107679.py:2: SettingWithCopyWarning: \n",
      "A value is trying to be set on a copy of a slice from a DataFrame.\n",
      "Try using .loc[row_indexer,col_indexer] = value instead\n",
      "\n",
      "See the caveats in the documentation: https://pandas.pydata.org/pandas-docs/stable/user_guide/indexing.html#returning-a-view-versus-a-copy\n",
      "  bars_in_montreal_collected_unique['Geohash'] = bars_in_montreal_collected_unique.apply(compute_geohash, axis=1)\n"
     ]
    }
   ],
   "source": [
    "# Apply the function to each row in the DataFrame\n",
    "bars_in_montreal_collected_unique['Geohash'] = bars_in_montreal_collected_unique.apply(compute_geohash, axis=1)\n",
    "\n"
   ]
  },
  {
   "cell_type": "code",
   "execution_count": 267,
   "metadata": {},
   "outputs": [
    {
     "data": {
      "text/html": [
       "<div>\n",
       "<style scoped>\n",
       "    .dataframe tbody tr th:only-of-type {\n",
       "        vertical-align: middle;\n",
       "    }\n",
       "\n",
       "    .dataframe tbody tr th {\n",
       "        vertical-align: top;\n",
       "    }\n",
       "\n",
       "    .dataframe thead th {\n",
       "        text-align: right;\n",
       "    }\n",
       "</style>\n",
       "<table border=\"1\" class=\"dataframe\">\n",
       "  <thead>\n",
       "    <tr style=\"text-align: right;\">\n",
       "      <th></th>\n",
       "      <th>Name</th>\n",
       "      <th>Address</th>\n",
       "      <th>Latitude</th>\n",
       "      <th>Longitude</th>\n",
       "      <th>Rating</th>\n",
       "      <th>Price Level</th>\n",
       "      <th>Geohash</th>\n",
       "    </tr>\n",
       "  </thead>\n",
       "  <tbody>\n",
       "    <tr>\n",
       "      <th>0</th>\n",
       "      <td>Pub St-Paul</td>\n",
       "      <td>124 Rue Saint-Paul E, Montréal, QC H2Y 1G6</td>\n",
       "      <td>45.506944</td>\n",
       "      <td>-73.552500</td>\n",
       "      <td>3.9</td>\n",
       "      <td>2</td>\n",
       "      <td>f25dy</td>\n",
       "    </tr>\n",
       "    <tr>\n",
       "      <th>1</th>\n",
       "      <td>Piranha Bar</td>\n",
       "      <td>680 Saint-Catherine St W, Montreal, Quebec H3B...</td>\n",
       "      <td>45.502852</td>\n",
       "      <td>-73.569942</td>\n",
       "      <td>4.1</td>\n",
       "      <td>1</td>\n",
       "      <td>f25dv</td>\n",
       "    </tr>\n",
       "    <tr>\n",
       "      <th>2</th>\n",
       "      <td>Patrick's Pub</td>\n",
       "      <td>1707 Saint Denis St, Montreal, Quebec H2X 3K4</td>\n",
       "      <td>45.515570</td>\n",
       "      <td>-73.564079</td>\n",
       "      <td>4.2</td>\n",
       "      <td>2</td>\n",
       "      <td>f25dy</td>\n",
       "    </tr>\n",
       "    <tr>\n",
       "      <th>3</th>\n",
       "      <td>MVP Resto-Bar Sportif</td>\n",
       "      <td>200 St Catherine St E, Montreal, Quebec H2X 1L1</td>\n",
       "      <td>45.511730</td>\n",
       "      <td>-73.561981</td>\n",
       "      <td>3.8</td>\n",
       "      <td>2</td>\n",
       "      <td>f25dy</td>\n",
       "    </tr>\n",
       "    <tr>\n",
       "      <th>4</th>\n",
       "      <td>Pub John Michaels</td>\n",
       "      <td>458 Pl. Jacques-Cartier, Montréal, QC H2Y 3Z2</td>\n",
       "      <td>45.508011</td>\n",
       "      <td>-73.553953</td>\n",
       "      <td>4.0</td>\n",
       "      <td>2</td>\n",
       "      <td>f25dy</td>\n",
       "    </tr>\n",
       "    <tr>\n",
       "      <th>...</th>\n",
       "      <td>...</td>\n",
       "      <td>...</td>\n",
       "      <td>...</td>\n",
       "      <td>...</td>\n",
       "      <td>...</td>\n",
       "      <td>...</td>\n",
       "      <td>...</td>\n",
       "    </tr>\n",
       "    <tr>\n",
       "      <th>30953</th>\n",
       "      <td>Tennisi Arena Pub</td>\n",
       "      <td>Zhandosov Street 2, Almaty 050000</td>\n",
       "      <td>43.236895</td>\n",
       "      <td>76.913159</td>\n",
       "      <td>4.5</td>\n",
       "      <td>2</td>\n",
       "      <td>txwty</td>\n",
       "    </tr>\n",
       "    <tr>\n",
       "      <th>30957</th>\n",
       "      <td>Лаунж-бар \"Gin\"</td>\n",
       "      <td>R432+VFF, Nurken Abdirov Avenue, Karaganda 100000</td>\n",
       "      <td>49.804691</td>\n",
       "      <td>73.101182</td>\n",
       "      <td>4.1</td>\n",
       "      <td>N/A</td>\n",
       "      <td>v8ggr</td>\n",
       "    </tr>\n",
       "    <tr>\n",
       "      <th>33155</th>\n",
       "      <td>Barbossa</td>\n",
       "      <td>3956 A St Laurent Blvd, Montreal, Quebec H2W 1Y3</td>\n",
       "      <td>45.516651</td>\n",
       "      <td>-73.578984</td>\n",
       "      <td>4.1</td>\n",
       "      <td>2</td>\n",
       "      <td>f25dv</td>\n",
       "    </tr>\n",
       "    <tr>\n",
       "      <th>33236</th>\n",
       "      <td>KARAOKE BAR 3 MINOTS</td>\n",
       "      <td>3812 St Laurent Blvd, Montreal, Quebec H2W 1X6</td>\n",
       "      <td>45.515533</td>\n",
       "      <td>-73.576472</td>\n",
       "      <td>3.4</td>\n",
       "      <td>1</td>\n",
       "      <td>f25dv</td>\n",
       "    </tr>\n",
       "    <tr>\n",
       "      <th>33348</th>\n",
       "      <td>Castello Resto Lounge</td>\n",
       "      <td>615 Bd Curé-Labelle, Laval, QC H7V 2T8</td>\n",
       "      <td>45.537344</td>\n",
       "      <td>-73.742808</td>\n",
       "      <td>4.2</td>\n",
       "      <td>2</td>\n",
       "      <td>f25e1</td>\n",
       "    </tr>\n",
       "  </tbody>\n",
       "</table>\n",
       "<p>595 rows × 7 columns</p>\n",
       "</div>"
      ],
      "text/plain": [
       "                        Name  \\\n",
       "0                Pub St-Paul   \n",
       "1                Piranha Bar   \n",
       "2              Patrick's Pub   \n",
       "3      MVP Resto-Bar Sportif   \n",
       "4          Pub John Michaels   \n",
       "...                      ...   \n",
       "30953      Tennisi Arena Pub   \n",
       "30957        Лаунж-бар \"Gin\"   \n",
       "33155               Barbossa   \n",
       "33236   KARAOKE BAR 3 MINOTS   \n",
       "33348  Castello Resto Lounge   \n",
       "\n",
       "                                                 Address   Latitude  \\\n",
       "0             124 Rue Saint-Paul E, Montréal, QC H2Y 1G6  45.506944   \n",
       "1      680 Saint-Catherine St W, Montreal, Quebec H3B...  45.502852   \n",
       "2          1707 Saint Denis St, Montreal, Quebec H2X 3K4  45.515570   \n",
       "3        200 St Catherine St E, Montreal, Quebec H2X 1L1  45.511730   \n",
       "4          458 Pl. Jacques-Cartier, Montréal, QC H2Y 3Z2  45.508011   \n",
       "...                                                  ...        ...   \n",
       "30953                  Zhandosov Street 2, Almaty 050000  43.236895   \n",
       "30957  R432+VFF, Nurken Abdirov Avenue, Karaganda 100000  49.804691   \n",
       "33155   3956 A St Laurent Blvd, Montreal, Quebec H2W 1Y3  45.516651   \n",
       "33236     3812 St Laurent Blvd, Montreal, Quebec H2W 1X6  45.515533   \n",
       "33348             615 Bd Curé-Labelle, Laval, QC H7V 2T8  45.537344   \n",
       "\n",
       "       Longitude  Rating Price Level Geohash  \n",
       "0     -73.552500     3.9           2   f25dy  \n",
       "1     -73.569942     4.1           1   f25dv  \n",
       "2     -73.564079     4.2           2   f25dy  \n",
       "3     -73.561981     3.8           2   f25dy  \n",
       "4     -73.553953     4.0           2   f25dy  \n",
       "...          ...     ...         ...     ...  \n",
       "30953  76.913159     4.5           2   txwty  \n",
       "30957  73.101182     4.1         N/A   v8ggr  \n",
       "33155 -73.578984     4.1           2   f25dv  \n",
       "33236 -73.576472     3.4           1   f25dv  \n",
       "33348 -73.742808     4.2           2   f25e1  \n",
       "\n",
       "[595 rows x 7 columns]"
      ]
     },
     "execution_count": 267,
     "metadata": {},
     "output_type": "execute_result"
    }
   ],
   "source": [
    "bars_in_montreal_collected_unique\n"
   ]
  },
  {
   "cell_type": "code",
   "execution_count": 268,
   "metadata": {},
   "outputs": [
    {
     "data": {
      "text/plain": [
       "77"
      ]
     },
     "execution_count": 268,
     "metadata": {},
     "output_type": "execute_result"
    }
   ],
   "source": [
    "unique_geohashes = bars_in_montreal_collected_unique['Geohash'].nunique()\n",
    "unique_geohashes\n"
   ]
  },
  {
   "cell_type": "code",
   "execution_count": null,
   "metadata": {},
   "outputs": [],
   "source": [
    "bars_in_montreal_collected_unique.to_csv('bars_in_montreal_collected_unique_utf8.csv', index=False, encoding='utf-8-sig')\n"
   ]
  },
  {
   "cell_type": "markdown",
   "metadata": {},
   "source": [
    "This code worked to get all the bars in these areas of montreal. I accidently looped over some coordinates in the Eastern Hemisphere. (I already removed the code where I did that above. You cannot see it.) I removed the mistaken results in Excel."
   ]
  }
 ],
 "metadata": {
  "kernelspec": {
   "display_name": "lh_labs",
   "language": "python",
   "name": "lh_labs"
  },
  "language_info": {
   "codemirror_mode": {
    "name": "ipython",
    "version": 3
   },
   "file_extension": ".py",
   "mimetype": "text/x-python",
   "name": "python",
   "nbconvert_exporter": "python",
   "pygments_lexer": "ipython3",
   "version": "3.9.18"
  }
 },
 "nbformat": 4,
 "nbformat_minor": 2
}
